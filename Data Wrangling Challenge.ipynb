{
 "cells": [
  {
   "cell_type": "code",
   "execution_count": 1,
   "metadata": {},
   "outputs": [],
   "source": [
    "import pandas as pd\n",
    "import numpy as np \n",
    "import os\n",
    "import matplotlib.pyplot as plt\n",
    "import seaborn as sns\n",
    "import warnings\n",
    "warnings.filterwarnings('ignore')\n",
    "%matplotlib inline\n",
    "plt.style.use('seaborn')"
   ]
  },
  {
   "cell_type": "code",
   "execution_count": 2,
   "metadata": {},
   "outputs": [
    {
     "data": {
      "text/plain": [
       "'C:\\\\Users\\\\kings\\\\Downloads\\\\AskPyFesh Challenge 2 dataset'"
      ]
     },
     "execution_count": 2,
     "metadata": {},
     "output_type": "execute_result"
    }
   ],
   "source": [
    "#Getting the current file directory\n",
    "os.getcwd() "
   ]
  },
  {
   "cell_type": "code",
   "execution_count": 3,
   "metadata": {},
   "outputs": [],
   "source": [
    "#a list of the csv files in the directory\n",
    "my_list = os.listdir('.\\\\covid')"
   ]
  },
  {
   "cell_type": "code",
   "execution_count": 4,
   "metadata": {},
   "outputs": [
    {
     "data": {
      "text/plain": [
       "['covid_help_data_01-May-2020 10-02-27.csv',\n",
       " 'covid_help_data_01-May-2020 23-40-36.csv',\n",
       " 'covid_help_data_02-May-2020 10-02-32.csv',\n",
       " 'covid_help_data_02-May-2020 23-40-44.csv',\n",
       " 'covid_help_data_03-Apr-2020 00-40-28.csv',\n",
       " 'covid_help_data_03-Apr-2020 23-40-26.csv',\n",
       " 'covid_help_data_03-May-2020 10-02-26.csv',\n",
       " 'covid_help_data_03-May-2020 23-40-27.csv',\n",
       " 'covid_help_data_04-Apr-2020 00-40-27.csv',\n",
       " 'covid_help_data_04-Apr-2020 23-40-25.csv',\n",
       " 'covid_help_data_04-May-2020 10-02-27.csv',\n",
       " 'covid_help_data_04-May-2020 23-40-33.csv',\n",
       " 'covid_help_data_05-Apr-2020 00-40-26.csv',\n",
       " 'covid_help_data_05-Apr-2020 10-35-27.csv',\n",
       " 'covid_help_data_05-May-2020 10-02-30.csv',\n",
       " 'covid_help_data_05-May-2020 23-40-32.csv',\n",
       " 'covid_help_data_06-May-2020 10-02-26.csv',\n",
       " 'covid_help_data_06-May-2020 23-40-28.csv',\n",
       " 'covid_help_data_07-Apr-2020 14-39-19.csv',\n",
       " 'covid_help_data_07-Apr-2020 14-53-19.csv',\n",
       " 'covid_help_data_07-Apr-2020 23-40-37.csv',\n",
       " 'covid_help_data_07-May-2020 10-02-25.csv',\n",
       " 'covid_help_data_07-May-2020 23-40-27.csv',\n",
       " 'covid_help_data_08-Apr-2020 06-40-42.csv',\n",
       " 'covid_help_data_08-Apr-2020 23-40-35.csv',\n",
       " 'covid_help_data_08-May-2020 10-02-27.csv',\n",
       " 'covid_help_data_08-May-2020 23-40-26.csv',\n",
       " 'covid_help_data_09-Apr-2020 06-40-42.csv',\n",
       " 'covid_help_data_09-Apr-2020 23-40-35.csv',\n",
       " 'covid_help_data_09-May-2020 10-02-24.csv',\n",
       " 'covid_help_data_09-May-2020 23-40-26.csv',\n",
       " 'covid_help_data_10-Apr-2020 13-36-33.csv',\n",
       " 'covid_help_data_10-Apr-2020 13-38-26.csv',\n",
       " 'covid_help_data_10-Apr-2020 13-49-10.csv',\n",
       " 'covid_help_data_10-Apr-2020 13-49-38.csv',\n",
       " 'covid_help_data_10-Apr-2020 14-09-10.csv',\n",
       " 'covid_help_data_10-Apr-2020 14-25-31.csv',\n",
       " 'covid_help_data_10-May-2020 23-40-26.csv',\n",
       " 'covid_help_data_11-May-2020 10-02-27.csv',\n",
       " 'covid_help_data_11-May-2020 23-40-27.csv',\n",
       " 'covid_help_data_12-Apr-2020 14-58-08.csv',\n",
       " 'covid_help_data_12-May-2020 10-02-25.csv',\n",
       " 'covid_help_data_12-May-2020 23-40-28.csv',\n",
       " 'covid_help_data_13-Apr-2020 10-02-24.csv',\n",
       " 'covid_help_data_13-Apr-2020 23-40-36.csv',\n",
       " 'covid_help_data_13-May-2020 10-02-23.csv',\n",
       " 'covid_help_data_13-May-2020 23-40-31.csv',\n",
       " 'covid_help_data_14-Apr-2020 10-02-38.csv',\n",
       " 'covid_help_data_14-Apr-2020 23-40-30.csv',\n",
       " 'covid_help_data_14-May-2020 10-02-24.csv',\n",
       " 'covid_help_data_14-May-2020 23-40-29.csv',\n",
       " 'covid_help_data_15-Apr-2020 10-02-27.csv',\n",
       " 'covid_help_data_15-Apr-2020 23-40-31.csv',\n",
       " 'covid_help_data_15-May-2020 10-02-23.csv',\n",
       " 'covid_help_data_15-May-2020 23-40-25.csv',\n",
       " 'covid_help_data_16-Apr-2020 10-02-24.csv',\n",
       " 'covid_help_data_16-Apr-2020 23-40-31.csv',\n",
       " 'covid_help_data_16-May-2020 10-02-20.csv',\n",
       " 'covid_help_data_16-May-2020 23-40-27.csv',\n",
       " 'covid_help_data_17-Apr-2020 10-02-23.csv',\n",
       " 'covid_help_data_17-Apr-2020 23-40-29.csv',\n",
       " 'covid_help_data_17-May-2020 10-02-22.csv',\n",
       " 'covid_help_data_17-May-2020 23-40-33.csv',\n",
       " 'covid_help_data_18-Apr-2020 10-02-21.csv',\n",
       " 'covid_help_data_18-Apr-2020 23-40-30.csv',\n",
       " 'covid_help_data_18-May-2020 10-02-21.csv',\n",
       " 'covid_help_data_18-May-2020 23-40-34.csv',\n",
       " 'covid_help_data_19-Apr-2020 10-02-23.csv',\n",
       " 'covid_help_data_19-Apr-2020 23-40-30.csv',\n",
       " 'covid_help_data_19-May-2020 23-40-28.csv',\n",
       " 'covid_help_data_20-Apr-2020 10-02-25.csv',\n",
       " 'covid_help_data_20-Apr-2020 23-40-30.csv',\n",
       " 'covid_help_data_20-May-2020 10-02-27.csv',\n",
       " 'covid_help_data_20-May-2020 23-40-30.csv',\n",
       " 'covid_help_data_21-Apr-2020 10-02-27.csv',\n",
       " 'covid_help_data_21-Apr-2020 23-40-31.csv',\n",
       " 'covid_help_data_21-May-2020 10-02-28.csv',\n",
       " 'covid_help_data_21-May-2020 23-40-30.csv',\n",
       " 'covid_help_data_22-Apr-2020 10-02-25.csv',\n",
       " 'covid_help_data_22-Apr-2020 23-40-32.csv',\n",
       " 'covid_help_data_22-May-2020 10-02-30.csv',\n",
       " 'covid_help_data_22-May-2020 23-40-30.csv',\n",
       " 'covid_help_data_23-Apr-2020 10-02-27.csv',\n",
       " 'covid_help_data_23-May-2020 10-02-29.csv',\n",
       " 'covid_help_data_23-May-2020 23-40-29.csv',\n",
       " 'covid_help_data_24-May-2020 10-02-32.csv',\n",
       " 'covid_help_data_24-May-2020 23-40-30.csv',\n",
       " 'covid_help_data_25-May-2020 10-02-33.csv',\n",
       " 'covid_help_data_28-Apr-2020 23-40-33.csv',\n",
       " 'covid_help_data_29-Apr-2020 10-02-29.csv',\n",
       " 'covid_help_data_29-Apr-2020 23-40-32.csv',\n",
       " 'covid_help_data_30-Apr-2020 10-02-28.csv',\n",
       " 'covid_help_data_30-Apr-2020 23-40-33.csv']"
      ]
     },
     "execution_count": 4,
     "metadata": {},
     "output_type": "execute_result"
    }
   ],
   "source": [
    "my_list"
   ]
  },
  {
   "cell_type": "code",
   "execution_count": 5,
   "metadata": {},
   "outputs": [],
   "source": [
    "#creating a list of files documented in May\n",
    "covid_may = [file for file in my_list if 'May' in file]"
   ]
  },
  {
   "cell_type": "code",
   "execution_count": 6,
   "metadata": {},
   "outputs": [],
   "source": [
    "#sorting the list created above into different time(i.e !11pm+ and Other Time)\n",
    "covid_may_11pm = []\n",
    "covid_may_other_time = []\n",
    "\n",
    "for files in covid_may:\n",
    "    file = files.split('-')\n",
    "    if '23' in file[-3]:\n",
    "        covid_may_11pm.append(files)\n",
    "    else:\n",
    "        covid_may_other_time.append(files)"
   ]
  },
  {
   "cell_type": "code",
   "execution_count": 7,
   "metadata": {},
   "outputs": [
    {
     "data": {
      "text/plain": [
       "True"
      ]
     },
     "execution_count": 7,
     "metadata": {},
     "output_type": "execute_result"
    }
   ],
   "source": [
    "len(covid_may_11pm) + len(covid_may_other_time) == len(covid_may)"
   ]
  },
  {
   "cell_type": "code",
   "execution_count": 8,
   "metadata": {},
   "outputs": [],
   "source": [
    "# Creating a dataframe for covid_may_11pm\n",
    "covid_may_11pm_df = pd.DataFrame()\n",
    "\n",
    "for files in covid_may_11pm:\n",
    "    df = pd.read_csv('.\\\\covid\\\\' + files)\n",
    "    covid_may_11pm_df = pd.concat([covid_may_11pm_df, df])"
   ]
  },
  {
   "cell_type": "code",
   "execution_count": 9,
   "metadata": {},
   "outputs": [
    {
     "data": {
      "text/html": [
       "<div>\n",
       "<style scoped>\n",
       "    .dataframe tbody tr th:only-of-type {\n",
       "        vertical-align: middle;\n",
       "    }\n",
       "\n",
       "    .dataframe tbody tr th {\n",
       "        vertical-align: top;\n",
       "    }\n",
       "\n",
       "    .dataframe thead th {\n",
       "        text-align: right;\n",
       "    }\n",
       "</style>\n",
       "<table border=\"1\" class=\"dataframe\">\n",
       "  <thead>\n",
       "    <tr style=\"text-align: right;\">\n",
       "      <th></th>\n",
       "      <th>countries</th>\n",
       "      <th>infected</th>\n",
       "      <th>infected_today</th>\n",
       "      <th>deaths</th>\n",
       "      <th>deaths_today</th>\n",
       "      <th>recovered</th>\n",
       "      <th>recovered_today</th>\n",
       "      <th>active</th>\n",
       "      <th>critical</th>\n",
       "      <th>tests</th>\n",
       "      <th>death_rate</th>\n",
       "      <th>recovery_rate</th>\n",
       "    </tr>\n",
       "  </thead>\n",
       "  <tbody>\n",
       "    <tr>\n",
       "      <td>0</td>\n",
       "      <td>United States</td>\n",
       "      <td>1129882</td>\n",
       "      <td>35152</td>\n",
       "      <td>65724</td>\n",
       "      <td>1883</td>\n",
       "      <td>161551</td>\n",
       "      <td>9227</td>\n",
       "      <td>902607</td>\n",
       "      <td>16478</td>\n",
       "      <td>6690837</td>\n",
       "      <td>5.8</td>\n",
       "      <td>14.3</td>\n",
       "    </tr>\n",
       "    <tr>\n",
       "      <td>1</td>\n",
       "      <td>Spain</td>\n",
       "      <td>242988</td>\n",
       "      <td>3349</td>\n",
       "      <td>24824</td>\n",
       "      <td>281</td>\n",
       "      <td>142450</td>\n",
       "      <td>4466</td>\n",
       "      <td>75714</td>\n",
       "      <td>2500</td>\n",
       "      <td>1528833</td>\n",
       "      <td>10.2</td>\n",
       "      <td>58.6</td>\n",
       "    </tr>\n",
       "    <tr>\n",
       "      <td>2</td>\n",
       "      <td>Italy</td>\n",
       "      <td>207428</td>\n",
       "      <td>1965</td>\n",
       "      <td>28236</td>\n",
       "      <td>269</td>\n",
       "      <td>78249</td>\n",
       "      <td>2304</td>\n",
       "      <td>100943</td>\n",
       "      <td>1578</td>\n",
       "      <td>2053425</td>\n",
       "      <td>13.6</td>\n",
       "      <td>37.7</td>\n",
       "    </tr>\n",
       "    <tr>\n",
       "      <td>3</td>\n",
       "      <td>United Kingdom</td>\n",
       "      <td>178566</td>\n",
       "      <td>6206</td>\n",
       "      <td>27579</td>\n",
       "      <td>741</td>\n",
       "      <td>856</td>\n",
       "      <td>31</td>\n",
       "      <td>150131</td>\n",
       "      <td>1559</td>\n",
       "      <td>1023824</td>\n",
       "      <td>15.4</td>\n",
       "      <td>0.5</td>\n",
       "    </tr>\n",
       "    <tr>\n",
       "      <td>4</td>\n",
       "      <td>France</td>\n",
       "      <td>167346</td>\n",
       "      <td>168</td>\n",
       "      <td>24594</td>\n",
       "      <td>218</td>\n",
       "      <td>50212</td>\n",
       "      <td>736</td>\n",
       "      <td>92540</td>\n",
       "      <td>3878</td>\n",
       "      <td>1100228</td>\n",
       "      <td>14.7</td>\n",
       "      <td>30.0</td>\n",
       "    </tr>\n",
       "  </tbody>\n",
       "</table>\n",
       "</div>"
      ],
      "text/plain": [
       "        countries  infected  infected_today  deaths  deaths_today  recovered  \\\n",
       "0   United States   1129882           35152   65724          1883     161551   \n",
       "1           Spain    242988            3349   24824           281     142450   \n",
       "2           Italy    207428            1965   28236           269      78249   \n",
       "3  United Kingdom    178566            6206   27579           741        856   \n",
       "4          France    167346             168   24594           218      50212   \n",
       "\n",
       "   recovered_today  active  critical    tests  death_rate  recovery_rate  \n",
       "0             9227  902607     16478  6690837         5.8           14.3  \n",
       "1             4466   75714      2500  1528833        10.2           58.6  \n",
       "2             2304  100943      1578  2053425        13.6           37.7  \n",
       "3               31  150131      1559  1023824        15.4            0.5  \n",
       "4              736   92540      3878  1100228        14.7           30.0  "
      ]
     },
     "execution_count": 9,
     "metadata": {},
     "output_type": "execute_result"
    }
   ],
   "source": [
    "covid_may_11pm_df.head()"
   ]
  },
  {
   "cell_type": "code",
   "execution_count": 10,
   "metadata": {},
   "outputs": [],
   "source": [
    "#creating a new columns for date and time\n",
    "covid_may_11pm_df['month'] = 'May'\n",
    "covid_may_11pm_df['time'] = '11pm'"
   ]
  },
  {
   "cell_type": "code",
   "execution_count": 11,
   "metadata": {},
   "outputs": [],
   "source": [
    "#creating a function that creates a dataframe off my list\n",
    "def gen_df(my_list):\n",
    "    df = pd.DataFrame()\n",
    "    current_dir = os.getcwd()\n",
    "    for file in my_list:\n",
    "        df1 = pd.read_csv('{}\\\\covid\\\\{}'.format(current_dir, file))\n",
    "        df = pd.concat([df,df1],sort=False)\n",
    "    return df"
   ]
  },
  {
   "cell_type": "code",
   "execution_count": 12,
   "metadata": {},
   "outputs": [],
   "source": [
    "#dataframe for covid_may_other_time\n",
    "covid_may_other_time_df = gen_df(covid_may_other_time)"
   ]
  },
  {
   "cell_type": "code",
   "execution_count": 13,
   "metadata": {},
   "outputs": [
    {
     "data": {
      "text/html": [
       "<div>\n",
       "<style scoped>\n",
       "    .dataframe tbody tr th:only-of-type {\n",
       "        vertical-align: middle;\n",
       "    }\n",
       "\n",
       "    .dataframe tbody tr th {\n",
       "        vertical-align: top;\n",
       "    }\n",
       "\n",
       "    .dataframe thead th {\n",
       "        text-align: right;\n",
       "    }\n",
       "</style>\n",
       "<table border=\"1\" class=\"dataframe\">\n",
       "  <thead>\n",
       "    <tr style=\"text-align: right;\">\n",
       "      <th></th>\n",
       "      <th>countries</th>\n",
       "      <th>infected</th>\n",
       "      <th>infected_today</th>\n",
       "      <th>deaths</th>\n",
       "      <th>deaths_today</th>\n",
       "      <th>recovered</th>\n",
       "      <th>recovered_today</th>\n",
       "      <th>active</th>\n",
       "      <th>critical</th>\n",
       "      <th>tests</th>\n",
       "      <th>death_rate</th>\n",
       "      <th>recovery_rate</th>\n",
       "    </tr>\n",
       "  </thead>\n",
       "  <tbody>\n",
       "    <tr>\n",
       "      <td>0</td>\n",
       "      <td>United States</td>\n",
       "      <td>1095304</td>\n",
       "      <td>574</td>\n",
       "      <td>63871</td>\n",
       "      <td>30</td>\n",
       "      <td>155737</td>\n",
       "      <td>3413</td>\n",
       "      <td>875696</td>\n",
       "      <td>15226</td>\n",
       "      <td>6391887</td>\n",
       "      <td>5.8</td>\n",
       "      <td>14.2</td>\n",
       "    </tr>\n",
       "    <tr>\n",
       "      <td>1</td>\n",
       "      <td>Spain</td>\n",
       "      <td>239639</td>\n",
       "      <td>0</td>\n",
       "      <td>24543</td>\n",
       "      <td>0</td>\n",
       "      <td>137984</td>\n",
       "      <td>0</td>\n",
       "      <td>77112</td>\n",
       "      <td>2676</td>\n",
       "      <td>1455306</td>\n",
       "      <td>10.2</td>\n",
       "      <td>57.6</td>\n",
       "    </tr>\n",
       "    <tr>\n",
       "      <td>2</td>\n",
       "      <td>Italy</td>\n",
       "      <td>205463</td>\n",
       "      <td>0</td>\n",
       "      <td>27967</td>\n",
       "      <td>0</td>\n",
       "      <td>75945</td>\n",
       "      <td>0</td>\n",
       "      <td>101551</td>\n",
       "      <td>1694</td>\n",
       "      <td>1979217</td>\n",
       "      <td>13.6</td>\n",
       "      <td>37.0</td>\n",
       "    </tr>\n",
       "    <tr>\n",
       "      <td>3</td>\n",
       "      <td>United Kingdom</td>\n",
       "      <td>172363</td>\n",
       "      <td>3</td>\n",
       "      <td>26838</td>\n",
       "      <td>0</td>\n",
       "      <td>825</td>\n",
       "      <td>0</td>\n",
       "      <td>144700</td>\n",
       "      <td>1559</td>\n",
       "      <td>901905</td>\n",
       "      <td>15.6</td>\n",
       "      <td>0.5</td>\n",
       "    </tr>\n",
       "    <tr>\n",
       "      <td>4</td>\n",
       "      <td>France</td>\n",
       "      <td>167178</td>\n",
       "      <td>0</td>\n",
       "      <td>24376</td>\n",
       "      <td>0</td>\n",
       "      <td>49476</td>\n",
       "      <td>0</td>\n",
       "      <td>93326</td>\n",
       "      <td>4019</td>\n",
       "      <td>724574</td>\n",
       "      <td>14.6</td>\n",
       "      <td>29.6</td>\n",
       "    </tr>\n",
       "  </tbody>\n",
       "</table>\n",
       "</div>"
      ],
      "text/plain": [
       "        countries  infected  infected_today  deaths  deaths_today  recovered  \\\n",
       "0   United States   1095304             574   63871            30     155737   \n",
       "1           Spain    239639               0   24543             0     137984   \n",
       "2           Italy    205463               0   27967             0      75945   \n",
       "3  United Kingdom    172363               3   26838             0        825   \n",
       "4          France    167178               0   24376             0      49476   \n",
       "\n",
       "   recovered_today  active  critical    tests  death_rate  recovery_rate  \n",
       "0             3413  875696     15226  6391887         5.8           14.2  \n",
       "1                0   77112      2676  1455306        10.2           57.6  \n",
       "2                0  101551      1694  1979217        13.6           37.0  \n",
       "3                0  144700      1559   901905        15.6            0.5  \n",
       "4                0   93326      4019   724574        14.6           29.6  "
      ]
     },
     "execution_count": 13,
     "metadata": {},
     "output_type": "execute_result"
    }
   ],
   "source": [
    "covid_may_other_time_df.head()"
   ]
  },
  {
   "cell_type": "code",
   "execution_count": 14,
   "metadata": {},
   "outputs": [],
   "source": [
    "#creating new columns for date and time\n",
    "covid_may_other_time_df['month'] = 'May'\n",
    "covid_may_other_time_df['time'] = 'Other Time'"
   ]
  },
  {
   "cell_type": "code",
   "execution_count": 15,
   "metadata": {},
   "outputs": [
    {
     "data": {
      "text/html": [
       "<div>\n",
       "<style scoped>\n",
       "    .dataframe tbody tr th:only-of-type {\n",
       "        vertical-align: middle;\n",
       "    }\n",
       "\n",
       "    .dataframe tbody tr th {\n",
       "        vertical-align: top;\n",
       "    }\n",
       "\n",
       "    .dataframe thead th {\n",
       "        text-align: right;\n",
       "    }\n",
       "</style>\n",
       "<table border=\"1\" class=\"dataframe\">\n",
       "  <thead>\n",
       "    <tr style=\"text-align: right;\">\n",
       "      <th></th>\n",
       "      <th>countries</th>\n",
       "      <th>infected</th>\n",
       "      <th>infected_today</th>\n",
       "      <th>deaths</th>\n",
       "      <th>deaths_today</th>\n",
       "      <th>recovered</th>\n",
       "      <th>recovered_today</th>\n",
       "      <th>active</th>\n",
       "      <th>critical</th>\n",
       "      <th>tests</th>\n",
       "      <th>death_rate</th>\n",
       "      <th>recovery_rate</th>\n",
       "      <th>month</th>\n",
       "      <th>time</th>\n",
       "    </tr>\n",
       "  </thead>\n",
       "  <tbody>\n",
       "    <tr>\n",
       "      <td>0</td>\n",
       "      <td>United States</td>\n",
       "      <td>1095304</td>\n",
       "      <td>574</td>\n",
       "      <td>63871</td>\n",
       "      <td>30</td>\n",
       "      <td>155737</td>\n",
       "      <td>3413</td>\n",
       "      <td>875696</td>\n",
       "      <td>15226</td>\n",
       "      <td>6391887</td>\n",
       "      <td>5.8</td>\n",
       "      <td>14.2</td>\n",
       "      <td>May</td>\n",
       "      <td>Other Time</td>\n",
       "    </tr>\n",
       "    <tr>\n",
       "      <td>1</td>\n",
       "      <td>Spain</td>\n",
       "      <td>239639</td>\n",
       "      <td>0</td>\n",
       "      <td>24543</td>\n",
       "      <td>0</td>\n",
       "      <td>137984</td>\n",
       "      <td>0</td>\n",
       "      <td>77112</td>\n",
       "      <td>2676</td>\n",
       "      <td>1455306</td>\n",
       "      <td>10.2</td>\n",
       "      <td>57.6</td>\n",
       "      <td>May</td>\n",
       "      <td>Other Time</td>\n",
       "    </tr>\n",
       "    <tr>\n",
       "      <td>2</td>\n",
       "      <td>Italy</td>\n",
       "      <td>205463</td>\n",
       "      <td>0</td>\n",
       "      <td>27967</td>\n",
       "      <td>0</td>\n",
       "      <td>75945</td>\n",
       "      <td>0</td>\n",
       "      <td>101551</td>\n",
       "      <td>1694</td>\n",
       "      <td>1979217</td>\n",
       "      <td>13.6</td>\n",
       "      <td>37.0</td>\n",
       "      <td>May</td>\n",
       "      <td>Other Time</td>\n",
       "    </tr>\n",
       "    <tr>\n",
       "      <td>3</td>\n",
       "      <td>United Kingdom</td>\n",
       "      <td>172363</td>\n",
       "      <td>3</td>\n",
       "      <td>26838</td>\n",
       "      <td>0</td>\n",
       "      <td>825</td>\n",
       "      <td>0</td>\n",
       "      <td>144700</td>\n",
       "      <td>1559</td>\n",
       "      <td>901905</td>\n",
       "      <td>15.6</td>\n",
       "      <td>0.5</td>\n",
       "      <td>May</td>\n",
       "      <td>Other Time</td>\n",
       "    </tr>\n",
       "    <tr>\n",
       "      <td>4</td>\n",
       "      <td>France</td>\n",
       "      <td>167178</td>\n",
       "      <td>0</td>\n",
       "      <td>24376</td>\n",
       "      <td>0</td>\n",
       "      <td>49476</td>\n",
       "      <td>0</td>\n",
       "      <td>93326</td>\n",
       "      <td>4019</td>\n",
       "      <td>724574</td>\n",
       "      <td>14.6</td>\n",
       "      <td>29.6</td>\n",
       "      <td>May</td>\n",
       "      <td>Other Time</td>\n",
       "    </tr>\n",
       "  </tbody>\n",
       "</table>\n",
       "</div>"
      ],
      "text/plain": [
       "        countries  infected  infected_today  deaths  deaths_today  recovered  \\\n",
       "0   United States   1095304             574   63871            30     155737   \n",
       "1           Spain    239639               0   24543             0     137984   \n",
       "2           Italy    205463               0   27967             0      75945   \n",
       "3  United Kingdom    172363               3   26838             0        825   \n",
       "4          France    167178               0   24376             0      49476   \n",
       "\n",
       "   recovered_today  active  critical    tests  death_rate  recovery_rate  \\\n",
       "0             3413  875696     15226  6391887         5.8           14.2   \n",
       "1                0   77112      2676  1455306        10.2           57.6   \n",
       "2                0  101551      1694  1979217        13.6           37.0   \n",
       "3                0  144700      1559   901905        15.6            0.5   \n",
       "4                0   93326      4019   724574        14.6           29.6   \n",
       "\n",
       "  month        time  \n",
       "0   May  Other Time  \n",
       "1   May  Other Time  \n",
       "2   May  Other Time  \n",
       "3   May  Other Time  \n",
       "4   May  Other Time  "
      ]
     },
     "execution_count": 15,
     "metadata": {},
     "output_type": "execute_result"
    }
   ],
   "source": [
    "covid_may_other_time_df.head()"
   ]
  },
  {
   "cell_type": "code",
   "execution_count": 16,
   "metadata": {},
   "outputs": [],
   "source": [
    "#concantenating both dataframes(covid_may_11pm and covid_may_other_time)\n",
    "covid_may_df = pd.concat([covid_may_11pm_df, covid_may_other_time_df])"
   ]
  },
  {
   "cell_type": "code",
   "execution_count": 17,
   "metadata": {},
   "outputs": [
    {
     "data": {
      "text/html": [
       "<div>\n",
       "<style scoped>\n",
       "    .dataframe tbody tr th:only-of-type {\n",
       "        vertical-align: middle;\n",
       "    }\n",
       "\n",
       "    .dataframe tbody tr th {\n",
       "        vertical-align: top;\n",
       "    }\n",
       "\n",
       "    .dataframe thead th {\n",
       "        text-align: right;\n",
       "    }\n",
       "</style>\n",
       "<table border=\"1\" class=\"dataframe\">\n",
       "  <thead>\n",
       "    <tr style=\"text-align: right;\">\n",
       "      <th></th>\n",
       "      <th>countries</th>\n",
       "      <th>infected</th>\n",
       "      <th>infected_today</th>\n",
       "      <th>deaths</th>\n",
       "      <th>deaths_today</th>\n",
       "      <th>recovered</th>\n",
       "      <th>recovered_today</th>\n",
       "      <th>active</th>\n",
       "      <th>critical</th>\n",
       "      <th>tests</th>\n",
       "      <th>death_rate</th>\n",
       "      <th>recovery_rate</th>\n",
       "      <th>month</th>\n",
       "      <th>time</th>\n",
       "    </tr>\n",
       "  </thead>\n",
       "  <tbody>\n",
       "    <tr>\n",
       "      <td>0</td>\n",
       "      <td>United States</td>\n",
       "      <td>1129882</td>\n",
       "      <td>35152</td>\n",
       "      <td>65724</td>\n",
       "      <td>1883</td>\n",
       "      <td>161551</td>\n",
       "      <td>9227</td>\n",
       "      <td>902607</td>\n",
       "      <td>16478</td>\n",
       "      <td>6690837</td>\n",
       "      <td>5.8</td>\n",
       "      <td>14.3</td>\n",
       "      <td>May</td>\n",
       "      <td>11pm</td>\n",
       "    </tr>\n",
       "    <tr>\n",
       "      <td>1</td>\n",
       "      <td>Spain</td>\n",
       "      <td>242988</td>\n",
       "      <td>3349</td>\n",
       "      <td>24824</td>\n",
       "      <td>281</td>\n",
       "      <td>142450</td>\n",
       "      <td>4466</td>\n",
       "      <td>75714</td>\n",
       "      <td>2500</td>\n",
       "      <td>1528833</td>\n",
       "      <td>10.2</td>\n",
       "      <td>58.6</td>\n",
       "      <td>May</td>\n",
       "      <td>11pm</td>\n",
       "    </tr>\n",
       "    <tr>\n",
       "      <td>2</td>\n",
       "      <td>Italy</td>\n",
       "      <td>207428</td>\n",
       "      <td>1965</td>\n",
       "      <td>28236</td>\n",
       "      <td>269</td>\n",
       "      <td>78249</td>\n",
       "      <td>2304</td>\n",
       "      <td>100943</td>\n",
       "      <td>1578</td>\n",
       "      <td>2053425</td>\n",
       "      <td>13.6</td>\n",
       "      <td>37.7</td>\n",
       "      <td>May</td>\n",
       "      <td>11pm</td>\n",
       "    </tr>\n",
       "    <tr>\n",
       "      <td>3</td>\n",
       "      <td>United Kingdom</td>\n",
       "      <td>178566</td>\n",
       "      <td>6206</td>\n",
       "      <td>27579</td>\n",
       "      <td>741</td>\n",
       "      <td>856</td>\n",
       "      <td>31</td>\n",
       "      <td>150131</td>\n",
       "      <td>1559</td>\n",
       "      <td>1023824</td>\n",
       "      <td>15.4</td>\n",
       "      <td>0.5</td>\n",
       "      <td>May</td>\n",
       "      <td>11pm</td>\n",
       "    </tr>\n",
       "    <tr>\n",
       "      <td>4</td>\n",
       "      <td>France</td>\n",
       "      <td>167346</td>\n",
       "      <td>168</td>\n",
       "      <td>24594</td>\n",
       "      <td>218</td>\n",
       "      <td>50212</td>\n",
       "      <td>736</td>\n",
       "      <td>92540</td>\n",
       "      <td>3878</td>\n",
       "      <td>1100228</td>\n",
       "      <td>14.7</td>\n",
       "      <td>30.0</td>\n",
       "      <td>May</td>\n",
       "      <td>11pm</td>\n",
       "    </tr>\n",
       "  </tbody>\n",
       "</table>\n",
       "</div>"
      ],
      "text/plain": [
       "        countries  infected  infected_today  deaths  deaths_today  recovered  \\\n",
       "0   United States   1129882           35152   65724          1883     161551   \n",
       "1           Spain    242988            3349   24824           281     142450   \n",
       "2           Italy    207428            1965   28236           269      78249   \n",
       "3  United Kingdom    178566            6206   27579           741        856   \n",
       "4          France    167346             168   24594           218      50212   \n",
       "\n",
       "   recovered_today  active  critical    tests  death_rate  recovery_rate  \\\n",
       "0             9227  902607     16478  6690837         5.8           14.3   \n",
       "1             4466   75714      2500  1528833        10.2           58.6   \n",
       "2             2304  100943      1578  2053425        13.6           37.7   \n",
       "3               31  150131      1559  1023824        15.4            0.5   \n",
       "4              736   92540      3878  1100228        14.7           30.0   \n",
       "\n",
       "  month  time  \n",
       "0   May  11pm  \n",
       "1   May  11pm  \n",
       "2   May  11pm  \n",
       "3   May  11pm  \n",
       "4   May  11pm  "
      ]
     },
     "execution_count": 17,
     "metadata": {},
     "output_type": "execute_result"
    }
   ],
   "source": [
    "covid_may_df.head()"
   ]
  },
  {
   "cell_type": "code",
   "execution_count": 18,
   "metadata": {},
   "outputs": [
    {
     "data": {
      "text/plain": [
       "(10352, 14)"
      ]
     },
     "execution_count": 18,
     "metadata": {},
     "output_type": "execute_result"
    }
   ],
   "source": [
    "covid_may_df.shape"
   ]
  },
  {
   "cell_type": "code",
   "execution_count": 19,
   "metadata": {},
   "outputs": [],
   "source": [
    "#saving the new dataframe \n",
    "covid_may_df.to_csv('May Covid Cases.csv', index=False)"
   ]
  },
  {
   "cell_type": "markdown",
   "metadata": {},
   "source": [
    "## Now we do for April"
   ]
  },
  {
   "cell_type": "code",
   "execution_count": 20,
   "metadata": {},
   "outputs": [],
   "source": [
    "covid_april = [file for file in my_list if'Apr' in file]"
   ]
  },
  {
   "cell_type": "code",
   "execution_count": 21,
   "metadata": {},
   "outputs": [],
   "source": [
    "covid_april_11pm = []\n",
    "covid_april_other_time = []\n",
    "\n",
    "for files in covid_april:\n",
    "    file = files.split('-')\n",
    "    if '23' in file[-3]:\n",
    "        covid_april_11pm.append(files)\n",
    "    else:\n",
    "        covid_april_other_time.append(files)"
   ]
  },
  {
   "cell_type": "code",
   "execution_count": 22,
   "metadata": {},
   "outputs": [
    {
     "data": {
      "text/plain": [
       "True"
      ]
     },
     "execution_count": 22,
     "metadata": {},
     "output_type": "execute_result"
    }
   ],
   "source": [
    "len(covid_april_11pm) + len(covid_april_other_time) == len(covid_april)"
   ]
  },
  {
   "cell_type": "code",
   "execution_count": 23,
   "metadata": {},
   "outputs": [],
   "source": [
    "covid_april_11pm_df = gen_df(covid_april_11pm)"
   ]
  },
  {
   "cell_type": "code",
   "execution_count": 24,
   "metadata": {},
   "outputs": [
    {
     "data": {
      "text/html": [
       "<div>\n",
       "<style scoped>\n",
       "    .dataframe tbody tr th:only-of-type {\n",
       "        vertical-align: middle;\n",
       "    }\n",
       "\n",
       "    .dataframe tbody tr th {\n",
       "        vertical-align: top;\n",
       "    }\n",
       "\n",
       "    .dataframe thead th {\n",
       "        text-align: right;\n",
       "    }\n",
       "</style>\n",
       "<table border=\"1\" class=\"dataframe\">\n",
       "  <thead>\n",
       "    <tr style=\"text-align: right;\">\n",
       "      <th></th>\n",
       "      <th>countries</th>\n",
       "      <th>infected</th>\n",
       "      <th>deaths</th>\n",
       "      <th>recovered</th>\n",
       "      <th>active</th>\n",
       "      <th>death_rate</th>\n",
       "      <th>recovery_rate</th>\n",
       "      <th>infected_today</th>\n",
       "      <th>deaths_today</th>\n",
       "      <th>recovered_today</th>\n",
       "      <th>critical</th>\n",
       "      <th>tests</th>\n",
       "    </tr>\n",
       "  </thead>\n",
       "  <tbody>\n",
       "    <tr>\n",
       "      <td>0</td>\n",
       "      <td>United States</td>\n",
       "      <td>275493</td>\n",
       "      <td>7081</td>\n",
       "      <td>12097</td>\n",
       "      <td>256315</td>\n",
       "      <td>2.6</td>\n",
       "      <td>4.4</td>\n",
       "      <td>NaN</td>\n",
       "      <td>NaN</td>\n",
       "      <td>NaN</td>\n",
       "      <td>NaN</td>\n",
       "      <td>NaN</td>\n",
       "    </tr>\n",
       "    <tr>\n",
       "      <td>1</td>\n",
       "      <td>Italy</td>\n",
       "      <td>119827</td>\n",
       "      <td>14681</td>\n",
       "      <td>19758</td>\n",
       "      <td>85388</td>\n",
       "      <td>12.3</td>\n",
       "      <td>16.5</td>\n",
       "      <td>NaN</td>\n",
       "      <td>NaN</td>\n",
       "      <td>NaN</td>\n",
       "      <td>NaN</td>\n",
       "      <td>NaN</td>\n",
       "    </tr>\n",
       "    <tr>\n",
       "      <td>2</td>\n",
       "      <td>Spain</td>\n",
       "      <td>119199</td>\n",
       "      <td>11198</td>\n",
       "      <td>30513</td>\n",
       "      <td>77488</td>\n",
       "      <td>9.4</td>\n",
       "      <td>25.6</td>\n",
       "      <td>NaN</td>\n",
       "      <td>NaN</td>\n",
       "      <td>NaN</td>\n",
       "      <td>NaN</td>\n",
       "      <td>NaN</td>\n",
       "    </tr>\n",
       "    <tr>\n",
       "      <td>3</td>\n",
       "      <td>Germany</td>\n",
       "      <td>91159</td>\n",
       "      <td>1275</td>\n",
       "      <td>24575</td>\n",
       "      <td>65309</td>\n",
       "      <td>1.4</td>\n",
       "      <td>27.0</td>\n",
       "      <td>NaN</td>\n",
       "      <td>NaN</td>\n",
       "      <td>NaN</td>\n",
       "      <td>NaN</td>\n",
       "      <td>NaN</td>\n",
       "    </tr>\n",
       "    <tr>\n",
       "      <td>4</td>\n",
       "      <td>China</td>\n",
       "      <td>82492</td>\n",
       "      <td>3326</td>\n",
       "      <td>76741</td>\n",
       "      <td>2425</td>\n",
       "      <td>4.0</td>\n",
       "      <td>93.0</td>\n",
       "      <td>NaN</td>\n",
       "      <td>NaN</td>\n",
       "      <td>NaN</td>\n",
       "      <td>NaN</td>\n",
       "      <td>NaN</td>\n",
       "    </tr>\n",
       "  </tbody>\n",
       "</table>\n",
       "</div>"
      ],
      "text/plain": [
       "       countries  infected  deaths  recovered  active  death_rate  \\\n",
       "0  United States    275493    7081      12097  256315         2.6   \n",
       "1          Italy    119827   14681      19758   85388        12.3   \n",
       "2          Spain    119199   11198      30513   77488         9.4   \n",
       "3        Germany     91159    1275      24575   65309         1.4   \n",
       "4          China     82492    3326      76741    2425         4.0   \n",
       "\n",
       "   recovery_rate  infected_today  deaths_today  recovered_today  critical  \\\n",
       "0            4.4             NaN           NaN              NaN       NaN   \n",
       "1           16.5             NaN           NaN              NaN       NaN   \n",
       "2           25.6             NaN           NaN              NaN       NaN   \n",
       "3           27.0             NaN           NaN              NaN       NaN   \n",
       "4           93.0             NaN           NaN              NaN       NaN   \n",
       "\n",
       "   tests  \n",
       "0    NaN  \n",
       "1    NaN  \n",
       "2    NaN  \n",
       "3    NaN  \n",
       "4    NaN  "
      ]
     },
     "execution_count": 24,
     "metadata": {},
     "output_type": "execute_result"
    }
   ],
   "source": [
    "covid_april_11pm_df.head()"
   ]
  },
  {
   "cell_type": "code",
   "execution_count": 25,
   "metadata": {},
   "outputs": [],
   "source": [
    "covid_april_11pm_df['month'] = 'April'\n",
    "covid_april_11pm_df['time'] = '11pm'"
   ]
  },
  {
   "cell_type": "code",
   "execution_count": 26,
   "metadata": {},
   "outputs": [
    {
     "data": {
      "text/html": [
       "<div>\n",
       "<style scoped>\n",
       "    .dataframe tbody tr th:only-of-type {\n",
       "        vertical-align: middle;\n",
       "    }\n",
       "\n",
       "    .dataframe tbody tr th {\n",
       "        vertical-align: top;\n",
       "    }\n",
       "\n",
       "    .dataframe thead th {\n",
       "        text-align: right;\n",
       "    }\n",
       "</style>\n",
       "<table border=\"1\" class=\"dataframe\">\n",
       "  <thead>\n",
       "    <tr style=\"text-align: right;\">\n",
       "      <th></th>\n",
       "      <th>countries</th>\n",
       "      <th>infected</th>\n",
       "      <th>deaths</th>\n",
       "      <th>recovered</th>\n",
       "      <th>active</th>\n",
       "      <th>death_rate</th>\n",
       "      <th>recovery_rate</th>\n",
       "      <th>infected_today</th>\n",
       "      <th>deaths_today</th>\n",
       "      <th>recovered_today</th>\n",
       "      <th>critical</th>\n",
       "      <th>tests</th>\n",
       "      <th>month</th>\n",
       "      <th>time</th>\n",
       "    </tr>\n",
       "  </thead>\n",
       "  <tbody>\n",
       "    <tr>\n",
       "      <td>0</td>\n",
       "      <td>United States</td>\n",
       "      <td>275493</td>\n",
       "      <td>7081</td>\n",
       "      <td>12097</td>\n",
       "      <td>256315</td>\n",
       "      <td>2.6</td>\n",
       "      <td>4.4</td>\n",
       "      <td>NaN</td>\n",
       "      <td>NaN</td>\n",
       "      <td>NaN</td>\n",
       "      <td>NaN</td>\n",
       "      <td>NaN</td>\n",
       "      <td>April</td>\n",
       "      <td>11pm</td>\n",
       "    </tr>\n",
       "    <tr>\n",
       "      <td>1</td>\n",
       "      <td>Italy</td>\n",
       "      <td>119827</td>\n",
       "      <td>14681</td>\n",
       "      <td>19758</td>\n",
       "      <td>85388</td>\n",
       "      <td>12.3</td>\n",
       "      <td>16.5</td>\n",
       "      <td>NaN</td>\n",
       "      <td>NaN</td>\n",
       "      <td>NaN</td>\n",
       "      <td>NaN</td>\n",
       "      <td>NaN</td>\n",
       "      <td>April</td>\n",
       "      <td>11pm</td>\n",
       "    </tr>\n",
       "    <tr>\n",
       "      <td>2</td>\n",
       "      <td>Spain</td>\n",
       "      <td>119199</td>\n",
       "      <td>11198</td>\n",
       "      <td>30513</td>\n",
       "      <td>77488</td>\n",
       "      <td>9.4</td>\n",
       "      <td>25.6</td>\n",
       "      <td>NaN</td>\n",
       "      <td>NaN</td>\n",
       "      <td>NaN</td>\n",
       "      <td>NaN</td>\n",
       "      <td>NaN</td>\n",
       "      <td>April</td>\n",
       "      <td>11pm</td>\n",
       "    </tr>\n",
       "    <tr>\n",
       "      <td>3</td>\n",
       "      <td>Germany</td>\n",
       "      <td>91159</td>\n",
       "      <td>1275</td>\n",
       "      <td>24575</td>\n",
       "      <td>65309</td>\n",
       "      <td>1.4</td>\n",
       "      <td>27.0</td>\n",
       "      <td>NaN</td>\n",
       "      <td>NaN</td>\n",
       "      <td>NaN</td>\n",
       "      <td>NaN</td>\n",
       "      <td>NaN</td>\n",
       "      <td>April</td>\n",
       "      <td>11pm</td>\n",
       "    </tr>\n",
       "    <tr>\n",
       "      <td>4</td>\n",
       "      <td>China</td>\n",
       "      <td>82492</td>\n",
       "      <td>3326</td>\n",
       "      <td>76741</td>\n",
       "      <td>2425</td>\n",
       "      <td>4.0</td>\n",
       "      <td>93.0</td>\n",
       "      <td>NaN</td>\n",
       "      <td>NaN</td>\n",
       "      <td>NaN</td>\n",
       "      <td>NaN</td>\n",
       "      <td>NaN</td>\n",
       "      <td>April</td>\n",
       "      <td>11pm</td>\n",
       "    </tr>\n",
       "  </tbody>\n",
       "</table>\n",
       "</div>"
      ],
      "text/plain": [
       "       countries  infected  deaths  recovered  active  death_rate  \\\n",
       "0  United States    275493    7081      12097  256315         2.6   \n",
       "1          Italy    119827   14681      19758   85388        12.3   \n",
       "2          Spain    119199   11198      30513   77488         9.4   \n",
       "3        Germany     91159    1275      24575   65309         1.4   \n",
       "4          China     82492    3326      76741    2425         4.0   \n",
       "\n",
       "   recovery_rate  infected_today  deaths_today  recovered_today  critical  \\\n",
       "0            4.4             NaN           NaN              NaN       NaN   \n",
       "1           16.5             NaN           NaN              NaN       NaN   \n",
       "2           25.6             NaN           NaN              NaN       NaN   \n",
       "3           27.0             NaN           NaN              NaN       NaN   \n",
       "4           93.0             NaN           NaN              NaN       NaN   \n",
       "\n",
       "   tests  month  time  \n",
       "0    NaN  April  11pm  \n",
       "1    NaN  April  11pm  \n",
       "2    NaN  April  11pm  \n",
       "3    NaN  April  11pm  \n",
       "4    NaN  April  11pm  "
      ]
     },
     "execution_count": 26,
     "metadata": {},
     "output_type": "execute_result"
    }
   ],
   "source": [
    "covid_april_11pm_df.head()"
   ]
  },
  {
   "cell_type": "code",
   "execution_count": 27,
   "metadata": {},
   "outputs": [
    {
     "name": "stdout",
     "output_type": "stream",
     "text": [
      "(209, 7)\n",
      "(209, 7)\n",
      "(212, 12)\n",
      "(212, 12)\n",
      "(212, 12)\n",
      "(214, 12)\n",
      "(214, 12)\n",
      "(214, 12)\n",
      "(214, 12)\n",
      "(214, 12)\n",
      "(214, 12)\n",
      "(214, 12)\n",
      "(214, 12)\n",
      "(214, 12)\n",
      "(214, 12)\n",
      "(214, 12)\n",
      "(214, 12)\n",
      "(216, 12)\n"
     ]
    }
   ],
   "source": [
    "for file in covid_april_11pm:\n",
    "    df = pd.read_csv('.\\\\covid\\\\' + file)\n",
    "    print(df.shape)"
   ]
  },
  {
   "cell_type": "code",
   "execution_count": 28,
   "metadata": {},
   "outputs": [],
   "source": [
    "covid_april_other_time_df = gen_df(covid_april_other_time)"
   ]
  },
  {
   "cell_type": "code",
   "execution_count": 29,
   "metadata": {},
   "outputs": [
    {
     "data": {
      "text/html": [
       "<div>\n",
       "<style scoped>\n",
       "    .dataframe tbody tr th:only-of-type {\n",
       "        vertical-align: middle;\n",
       "    }\n",
       "\n",
       "    .dataframe tbody tr th {\n",
       "        vertical-align: top;\n",
       "    }\n",
       "\n",
       "    .dataframe thead th {\n",
       "        text-align: right;\n",
       "    }\n",
       "</style>\n",
       "<table border=\"1\" class=\"dataframe\">\n",
       "  <thead>\n",
       "    <tr style=\"text-align: right;\">\n",
       "      <th></th>\n",
       "      <th>countries</th>\n",
       "      <th>infected</th>\n",
       "      <th>deaths</th>\n",
       "      <th>recovered</th>\n",
       "      <th>active</th>\n",
       "      <th>death_rate</th>\n",
       "      <th>recovery_rate</th>\n",
       "      <th>infected_today</th>\n",
       "      <th>deaths_today</th>\n",
       "      <th>recovered_today</th>\n",
       "      <th>critical</th>\n",
       "      <th>tests</th>\n",
       "    </tr>\n",
       "  </thead>\n",
       "  <tbody>\n",
       "    <tr>\n",
       "      <td>0</td>\n",
       "      <td>United States</td>\n",
       "      <td>244190</td>\n",
       "      <td>5883</td>\n",
       "      <td>10400</td>\n",
       "      <td>227907</td>\n",
       "      <td>2.4</td>\n",
       "      <td>4.3</td>\n",
       "      <td>NaN</td>\n",
       "      <td>NaN</td>\n",
       "      <td>NaN</td>\n",
       "      <td>NaN</td>\n",
       "      <td>NaN</td>\n",
       "    </tr>\n",
       "    <tr>\n",
       "      <td>1</td>\n",
       "      <td>Italy</td>\n",
       "      <td>115242</td>\n",
       "      <td>13915</td>\n",
       "      <td>18278</td>\n",
       "      <td>83049</td>\n",
       "      <td>12.1</td>\n",
       "      <td>15.9</td>\n",
       "      <td>NaN</td>\n",
       "      <td>NaN</td>\n",
       "      <td>NaN</td>\n",
       "      <td>NaN</td>\n",
       "      <td>NaN</td>\n",
       "    </tr>\n",
       "    <tr>\n",
       "      <td>2</td>\n",
       "      <td>Spain</td>\n",
       "      <td>112065</td>\n",
       "      <td>10348</td>\n",
       "      <td>26743</td>\n",
       "      <td>74974</td>\n",
       "      <td>9.2</td>\n",
       "      <td>23.9</td>\n",
       "      <td>NaN</td>\n",
       "      <td>NaN</td>\n",
       "      <td>NaN</td>\n",
       "      <td>NaN</td>\n",
       "      <td>NaN</td>\n",
       "    </tr>\n",
       "    <tr>\n",
       "      <td>3</td>\n",
       "      <td>Germany</td>\n",
       "      <td>84794</td>\n",
       "      <td>1107</td>\n",
       "      <td>22440</td>\n",
       "      <td>61247</td>\n",
       "      <td>1.3</td>\n",
       "      <td>26.5</td>\n",
       "      <td>NaN</td>\n",
       "      <td>NaN</td>\n",
       "      <td>NaN</td>\n",
       "      <td>NaN</td>\n",
       "      <td>NaN</td>\n",
       "    </tr>\n",
       "    <tr>\n",
       "      <td>4</td>\n",
       "      <td>China</td>\n",
       "      <td>82413</td>\n",
       "      <td>3322</td>\n",
       "      <td>76546</td>\n",
       "      <td>2545</td>\n",
       "      <td>4.0</td>\n",
       "      <td>92.9</td>\n",
       "      <td>NaN</td>\n",
       "      <td>NaN</td>\n",
       "      <td>NaN</td>\n",
       "      <td>NaN</td>\n",
       "      <td>NaN</td>\n",
       "    </tr>\n",
       "  </tbody>\n",
       "</table>\n",
       "</div>"
      ],
      "text/plain": [
       "       countries  infected  deaths  recovered  active  death_rate  \\\n",
       "0  United States    244190    5883      10400  227907         2.4   \n",
       "1          Italy    115242   13915      18278   83049        12.1   \n",
       "2          Spain    112065   10348      26743   74974         9.2   \n",
       "3        Germany     84794    1107      22440   61247         1.3   \n",
       "4          China     82413    3322      76546    2545         4.0   \n",
       "\n",
       "   recovery_rate  infected_today  deaths_today  recovered_today  critical  \\\n",
       "0            4.3             NaN           NaN              NaN       NaN   \n",
       "1           15.9             NaN           NaN              NaN       NaN   \n",
       "2           23.9             NaN           NaN              NaN       NaN   \n",
       "3           26.5             NaN           NaN              NaN       NaN   \n",
       "4           92.9             NaN           NaN              NaN       NaN   \n",
       "\n",
       "   tests  \n",
       "0    NaN  \n",
       "1    NaN  \n",
       "2    NaN  \n",
       "3    NaN  \n",
       "4    NaN  "
      ]
     },
     "execution_count": 29,
     "metadata": {},
     "output_type": "execute_result"
    }
   ],
   "source": [
    "covid_april_other_time_df.head()"
   ]
  },
  {
   "cell_type": "code",
   "execution_count": 30,
   "metadata": {},
   "outputs": [],
   "source": [
    "covid_april_other_time_df['month'] = 'April'\n",
    "covid_april_other_time_df['time'] = 'Other Time'"
   ]
  },
  {
   "cell_type": "code",
   "execution_count": 31,
   "metadata": {},
   "outputs": [
    {
     "data": {
      "text/html": [
       "<div>\n",
       "<style scoped>\n",
       "    .dataframe tbody tr th:only-of-type {\n",
       "        vertical-align: middle;\n",
       "    }\n",
       "\n",
       "    .dataframe tbody tr th {\n",
       "        vertical-align: top;\n",
       "    }\n",
       "\n",
       "    .dataframe thead th {\n",
       "        text-align: right;\n",
       "    }\n",
       "</style>\n",
       "<table border=\"1\" class=\"dataframe\">\n",
       "  <thead>\n",
       "    <tr style=\"text-align: right;\">\n",
       "      <th></th>\n",
       "      <th>countries</th>\n",
       "      <th>infected</th>\n",
       "      <th>deaths</th>\n",
       "      <th>recovered</th>\n",
       "      <th>active</th>\n",
       "      <th>death_rate</th>\n",
       "      <th>recovery_rate</th>\n",
       "      <th>infected_today</th>\n",
       "      <th>deaths_today</th>\n",
       "      <th>recovered_today</th>\n",
       "      <th>critical</th>\n",
       "      <th>tests</th>\n",
       "      <th>month</th>\n",
       "      <th>time</th>\n",
       "    </tr>\n",
       "  </thead>\n",
       "  <tbody>\n",
       "    <tr>\n",
       "      <td>0</td>\n",
       "      <td>United States</td>\n",
       "      <td>244190</td>\n",
       "      <td>5883</td>\n",
       "      <td>10400</td>\n",
       "      <td>227907</td>\n",
       "      <td>2.4</td>\n",
       "      <td>4.3</td>\n",
       "      <td>NaN</td>\n",
       "      <td>NaN</td>\n",
       "      <td>NaN</td>\n",
       "      <td>NaN</td>\n",
       "      <td>NaN</td>\n",
       "      <td>April</td>\n",
       "      <td>Other Time</td>\n",
       "    </tr>\n",
       "    <tr>\n",
       "      <td>1</td>\n",
       "      <td>Italy</td>\n",
       "      <td>115242</td>\n",
       "      <td>13915</td>\n",
       "      <td>18278</td>\n",
       "      <td>83049</td>\n",
       "      <td>12.1</td>\n",
       "      <td>15.9</td>\n",
       "      <td>NaN</td>\n",
       "      <td>NaN</td>\n",
       "      <td>NaN</td>\n",
       "      <td>NaN</td>\n",
       "      <td>NaN</td>\n",
       "      <td>April</td>\n",
       "      <td>Other Time</td>\n",
       "    </tr>\n",
       "    <tr>\n",
       "      <td>2</td>\n",
       "      <td>Spain</td>\n",
       "      <td>112065</td>\n",
       "      <td>10348</td>\n",
       "      <td>26743</td>\n",
       "      <td>74974</td>\n",
       "      <td>9.2</td>\n",
       "      <td>23.9</td>\n",
       "      <td>NaN</td>\n",
       "      <td>NaN</td>\n",
       "      <td>NaN</td>\n",
       "      <td>NaN</td>\n",
       "      <td>NaN</td>\n",
       "      <td>April</td>\n",
       "      <td>Other Time</td>\n",
       "    </tr>\n",
       "    <tr>\n",
       "      <td>3</td>\n",
       "      <td>Germany</td>\n",
       "      <td>84794</td>\n",
       "      <td>1107</td>\n",
       "      <td>22440</td>\n",
       "      <td>61247</td>\n",
       "      <td>1.3</td>\n",
       "      <td>26.5</td>\n",
       "      <td>NaN</td>\n",
       "      <td>NaN</td>\n",
       "      <td>NaN</td>\n",
       "      <td>NaN</td>\n",
       "      <td>NaN</td>\n",
       "      <td>April</td>\n",
       "      <td>Other Time</td>\n",
       "    </tr>\n",
       "    <tr>\n",
       "      <td>4</td>\n",
       "      <td>China</td>\n",
       "      <td>82413</td>\n",
       "      <td>3322</td>\n",
       "      <td>76546</td>\n",
       "      <td>2545</td>\n",
       "      <td>4.0</td>\n",
       "      <td>92.9</td>\n",
       "      <td>NaN</td>\n",
       "      <td>NaN</td>\n",
       "      <td>NaN</td>\n",
       "      <td>NaN</td>\n",
       "      <td>NaN</td>\n",
       "      <td>April</td>\n",
       "      <td>Other Time</td>\n",
       "    </tr>\n",
       "  </tbody>\n",
       "</table>\n",
       "</div>"
      ],
      "text/plain": [
       "       countries  infected  deaths  recovered  active  death_rate  \\\n",
       "0  United States    244190    5883      10400  227907         2.4   \n",
       "1          Italy    115242   13915      18278   83049        12.1   \n",
       "2          Spain    112065   10348      26743   74974         9.2   \n",
       "3        Germany     84794    1107      22440   61247         1.3   \n",
       "4          China     82413    3322      76546    2545         4.0   \n",
       "\n",
       "   recovery_rate  infected_today  deaths_today  recovered_today  critical  \\\n",
       "0            4.3             NaN           NaN              NaN       NaN   \n",
       "1           15.9             NaN           NaN              NaN       NaN   \n",
       "2           23.9             NaN           NaN              NaN       NaN   \n",
       "3           26.5             NaN           NaN              NaN       NaN   \n",
       "4           92.9             NaN           NaN              NaN       NaN   \n",
       "\n",
       "   tests  month        time  \n",
       "0    NaN  April  Other Time  \n",
       "1    NaN  April  Other Time  \n",
       "2    NaN  April  Other Time  \n",
       "3    NaN  April  Other Time  \n",
       "4    NaN  April  Other Time  "
      ]
     },
     "execution_count": 31,
     "metadata": {},
     "output_type": "execute_result"
    }
   ],
   "source": [
    "covid_april_other_time_df.head()"
   ]
  },
  {
   "cell_type": "markdown",
   "metadata": {},
   "source": [
    "#### wondering why we have null values in the dataframe above? check the code below"
   ]
  },
  {
   "cell_type": "code",
   "execution_count": 32,
   "metadata": {},
   "outputs": [
    {
     "name": "stdout",
     "output_type": "stream",
     "text": [
      "(209, 7)\n",
      "(209, 7)\n",
      "(209, 7)\n",
      "(210, 7)\n",
      "(212, 12)\n",
      "(212, 12)\n",
      "(212, 12)\n",
      "(218, 12)\n",
      "(213, 12)\n",
      "(213, 12)\n",
      "(213, 12)\n",
      "(213, 12)\n",
      "(213, 12)\n",
      "(213, 12)\n",
      "(214, 12)\n",
      "(214, 12)\n",
      "(214, 12)\n",
      "(214, 12)\n",
      "(214, 12)\n",
      "(214, 12)\n",
      "(214, 12)\n",
      "(214, 12)\n",
      "(214, 12)\n",
      "(214, 12)\n",
      "(214, 12)\n",
      "(214, 12)\n",
      "(214, 12)\n",
      "(214, 12)\n"
     ]
    }
   ],
   "source": [
    "for file in covid_april_other_time:\n",
    "    df = pd.read_csv('.\\\\covid\\\\' +file)\n",
    "    print(df.shape)"
   ]
  },
  {
   "cell_type": "code",
   "execution_count": 33,
   "metadata": {},
   "outputs": [],
   "source": [
    "covid_april_df = pd.concat([covid_april_11pm_df,covid_april_other_time_df])"
   ]
  },
  {
   "cell_type": "code",
   "execution_count": 34,
   "metadata": {},
   "outputs": [
    {
     "data": {
      "text/html": [
       "<div>\n",
       "<style scoped>\n",
       "    .dataframe tbody tr th:only-of-type {\n",
       "        vertical-align: middle;\n",
       "    }\n",
       "\n",
       "    .dataframe tbody tr th {\n",
       "        vertical-align: top;\n",
       "    }\n",
       "\n",
       "    .dataframe thead th {\n",
       "        text-align: right;\n",
       "    }\n",
       "</style>\n",
       "<table border=\"1\" class=\"dataframe\">\n",
       "  <thead>\n",
       "    <tr style=\"text-align: right;\">\n",
       "      <th></th>\n",
       "      <th>countries</th>\n",
       "      <th>infected</th>\n",
       "      <th>deaths</th>\n",
       "      <th>recovered</th>\n",
       "      <th>active</th>\n",
       "      <th>death_rate</th>\n",
       "      <th>recovery_rate</th>\n",
       "      <th>infected_today</th>\n",
       "      <th>deaths_today</th>\n",
       "      <th>recovered_today</th>\n",
       "      <th>critical</th>\n",
       "      <th>tests</th>\n",
       "      <th>month</th>\n",
       "      <th>time</th>\n",
       "    </tr>\n",
       "  </thead>\n",
       "  <tbody>\n",
       "    <tr>\n",
       "      <td>0</td>\n",
       "      <td>United States</td>\n",
       "      <td>275493</td>\n",
       "      <td>7081</td>\n",
       "      <td>12097</td>\n",
       "      <td>256315</td>\n",
       "      <td>2.6</td>\n",
       "      <td>4.4</td>\n",
       "      <td>NaN</td>\n",
       "      <td>NaN</td>\n",
       "      <td>NaN</td>\n",
       "      <td>NaN</td>\n",
       "      <td>NaN</td>\n",
       "      <td>April</td>\n",
       "      <td>11pm</td>\n",
       "    </tr>\n",
       "    <tr>\n",
       "      <td>1</td>\n",
       "      <td>Italy</td>\n",
       "      <td>119827</td>\n",
       "      <td>14681</td>\n",
       "      <td>19758</td>\n",
       "      <td>85388</td>\n",
       "      <td>12.3</td>\n",
       "      <td>16.5</td>\n",
       "      <td>NaN</td>\n",
       "      <td>NaN</td>\n",
       "      <td>NaN</td>\n",
       "      <td>NaN</td>\n",
       "      <td>NaN</td>\n",
       "      <td>April</td>\n",
       "      <td>11pm</td>\n",
       "    </tr>\n",
       "    <tr>\n",
       "      <td>2</td>\n",
       "      <td>Spain</td>\n",
       "      <td>119199</td>\n",
       "      <td>11198</td>\n",
       "      <td>30513</td>\n",
       "      <td>77488</td>\n",
       "      <td>9.4</td>\n",
       "      <td>25.6</td>\n",
       "      <td>NaN</td>\n",
       "      <td>NaN</td>\n",
       "      <td>NaN</td>\n",
       "      <td>NaN</td>\n",
       "      <td>NaN</td>\n",
       "      <td>April</td>\n",
       "      <td>11pm</td>\n",
       "    </tr>\n",
       "    <tr>\n",
       "      <td>3</td>\n",
       "      <td>Germany</td>\n",
       "      <td>91159</td>\n",
       "      <td>1275</td>\n",
       "      <td>24575</td>\n",
       "      <td>65309</td>\n",
       "      <td>1.4</td>\n",
       "      <td>27.0</td>\n",
       "      <td>NaN</td>\n",
       "      <td>NaN</td>\n",
       "      <td>NaN</td>\n",
       "      <td>NaN</td>\n",
       "      <td>NaN</td>\n",
       "      <td>April</td>\n",
       "      <td>11pm</td>\n",
       "    </tr>\n",
       "    <tr>\n",
       "      <td>4</td>\n",
       "      <td>China</td>\n",
       "      <td>82492</td>\n",
       "      <td>3326</td>\n",
       "      <td>76741</td>\n",
       "      <td>2425</td>\n",
       "      <td>4.0</td>\n",
       "      <td>93.0</td>\n",
       "      <td>NaN</td>\n",
       "      <td>NaN</td>\n",
       "      <td>NaN</td>\n",
       "      <td>NaN</td>\n",
       "      <td>NaN</td>\n",
       "      <td>April</td>\n",
       "      <td>11pm</td>\n",
       "    </tr>\n",
       "  </tbody>\n",
       "</table>\n",
       "</div>"
      ],
      "text/plain": [
       "       countries  infected  deaths  recovered  active  death_rate  \\\n",
       "0  United States    275493    7081      12097  256315         2.6   \n",
       "1          Italy    119827   14681      19758   85388        12.3   \n",
       "2          Spain    119199   11198      30513   77488         9.4   \n",
       "3        Germany     91159    1275      24575   65309         1.4   \n",
       "4          China     82492    3326      76741    2425         4.0   \n",
       "\n",
       "   recovery_rate  infected_today  deaths_today  recovered_today  critical  \\\n",
       "0            4.4             NaN           NaN              NaN       NaN   \n",
       "1           16.5             NaN           NaN              NaN       NaN   \n",
       "2           25.6             NaN           NaN              NaN       NaN   \n",
       "3           27.0             NaN           NaN              NaN       NaN   \n",
       "4           93.0             NaN           NaN              NaN       NaN   \n",
       "\n",
       "   tests  month  time  \n",
       "0    NaN  April  11pm  \n",
       "1    NaN  April  11pm  \n",
       "2    NaN  April  11pm  \n",
       "3    NaN  April  11pm  \n",
       "4    NaN  April  11pm  "
      ]
     },
     "execution_count": 34,
     "metadata": {},
     "output_type": "execute_result"
    }
   ],
   "source": [
    "covid_april_df.head()"
   ]
  },
  {
   "cell_type": "code",
   "execution_count": 35,
   "metadata": {},
   "outputs": [],
   "source": [
    "covid_april_df.to_csv('April Covid Cases.csv', index=False)"
   ]
  },
  {
   "cell_type": "code",
   "execution_count": 36,
   "metadata": {},
   "outputs": [
    {
     "data": {
      "text/plain": [
       "42"
      ]
     },
     "execution_count": 36,
     "metadata": {},
     "output_type": "execute_result"
    }
   ],
   "source": [
    "#Total number of files in covid 11pm+\n",
    "covid_11pm = len(covid_april_11pm) + len(covid_may_11pm)\n",
    "covid_11pm"
   ]
  },
  {
   "cell_type": "code",
   "execution_count": 37,
   "metadata": {},
   "outputs": [
    {
     "data": {
      "text/plain": [
       "51"
      ]
     },
     "execution_count": 37,
     "metadata": {},
     "output_type": "execute_result"
    }
   ],
   "source": [
    "#total number of files in covid other time\n",
    "covid_other_time = len(covid_april_other_time) + len(covid_may_other_time)\n",
    "covid_other_time"
   ]
  },
  {
   "cell_type": "markdown",
   "metadata": {},
   "source": [
    "## Now working with the Wolrd data."
   ]
  },
  {
   "cell_type": "code",
   "execution_count": 38,
   "metadata": {},
   "outputs": [],
   "source": [
    "my_list2 = os.listdir('.\\\\world')"
   ]
  },
  {
   "cell_type": "code",
   "execution_count": 39,
   "metadata": {},
   "outputs": [
    {
     "data": {
      "text/plain": [
       "['worldwide_01-May-2020 10-11-07.csv',\n",
       " 'worldwide_01-May-2020 23-49-16.csv',\n",
       " 'worldwide_02-Apr-2020 23-56-11.csv',\n",
       " 'worldwide_02-May-2020 10-11-19.csv',\n",
       " 'worldwide_02-May-2020 23-49-17.csv',\n",
       " 'worldwide_03-Apr-2020 00-40-28.csv',\n",
       " 'worldwide_03-Apr-2020 23-40-26.csv',\n",
       " 'worldwide_03-May-2020 10-11-08.csv',\n",
       " 'worldwide_03-May-2020 23-49-02.csv',\n",
       " 'worldwide_04-Apr-2020 00-40-27.csv',\n",
       " 'worldwide_04-Apr-2020 23-40-25.csv',\n",
       " 'worldwide_04-May-2020 10-11-11.csv',\n",
       " 'worldwide_04-May-2020 23-49-07.csv',\n",
       " 'worldwide_05-Apr-2020 00-40-26.csv',\n",
       " 'worldwide_05-Apr-2020 10-43-32.csv',\n",
       " 'worldwide_05-May-2020 10-11-15.csv',\n",
       " 'worldwide_05-May-2020 23-49-08.csv',\n",
       " 'worldwide_06-May-2020 10-11-10.csv',\n",
       " 'worldwide_06-May-2020 23-49-04.csv',\n",
       " 'worldwide_07-Apr-2020 13-43-41.csv',\n",
       " 'worldwide_07-Apr-2020 23-49-27.csv',\n",
       " 'worldwide_07-May-2020 10-11-07.csv',\n",
       " 'worldwide_07-May-2020 23-49-04.csv',\n",
       " 'worldwide_08-Apr-2020 06-49-34.csv',\n",
       " 'worldwide_08-Apr-2020 23-49-20.csv',\n",
       " 'worldwide_08-May-2020 10-11-17.csv',\n",
       " 'worldwide_08-May-2020 23-49-03.csv',\n",
       " 'worldwide_09-Apr-2020 06-49-42.csv',\n",
       " 'worldwide_09-Apr-2020 23-49-25.csv',\n",
       " 'worldwide_09-May-2020 10-11-07.csv',\n",
       " 'worldwide_09-May-2020 23-49-03.csv',\n",
       " 'worldwide_10-Apr-2020 14-34-45.csv',\n",
       " 'worldwide_10-May-2020 23-49-03.csv',\n",
       " 'worldwide_11-May-2020 10-11-47.csv',\n",
       " 'worldwide_11-May-2020 23-49-04.csv',\n",
       " 'worldwide_12-Apr-2020 15-07-22.csv',\n",
       " 'worldwide_12-May-2020 10-11-02.csv',\n",
       " 'worldwide_12-May-2020 23-49-23.csv',\n",
       " 'worldwide_13-Apr-2020 10-11-38.csv',\n",
       " 'worldwide_13-Apr-2020 23-49-52.csv',\n",
       " 'worldwide_13-May-2020 10-11-09.csv',\n",
       " 'worldwide_13-May-2020 23-49-13.csv',\n",
       " 'worldwide_14-Apr-2020 10-11-43.csv',\n",
       " 'worldwide_14-Apr-2020 23-49-30.csv',\n",
       " 'worldwide_14-May-2020 10-11-14.csv',\n",
       " 'worldwide_14-May-2020 23-49-05.csv',\n",
       " 'worldwide_15-Apr-2020 10-11-55.csv',\n",
       " 'worldwide_15-Apr-2020 23-49-27.csv',\n",
       " 'worldwide_15-May-2020 10-27-43.csv',\n",
       " 'worldwide_15-May-2020 23-49-02.csv',\n",
       " 'worldwide_16-Apr-2020 10-11-20.csv',\n",
       " 'worldwide_16-Apr-2020 23-49-31.csv',\n",
       " 'worldwide_16-May-2020 10-10-58.csv',\n",
       " 'worldwide_16-May-2020 23-49-05.csv',\n",
       " 'worldwide_17-Apr-2020 10-11-24.csv',\n",
       " 'worldwide_17-Apr-2020 23-49-23.csv',\n",
       " 'worldwide_17-May-2020 10-11-02.csv',\n",
       " 'worldwide_17-May-2020 23-49-08.csv',\n",
       " 'worldwide_18-Apr-2020 10-11-15.csv',\n",
       " 'worldwide_18-Apr-2020 23-49-16.csv',\n",
       " 'worldwide_18-May-2020 10-11-35.csv',\n",
       " 'worldwide_18-May-2020 23-49-12.csv',\n",
       " 'worldwide_19-Apr-2020 10-11-15.csv',\n",
       " 'worldwide_19-Apr-2020 23-49-16.csv',\n",
       " 'worldwide_19-May-2020 23-49-11.csv',\n",
       " 'worldwide_20-Apr-2020 10-11-09.csv',\n",
       " 'worldwide_20-Apr-2020 23-52-40.csv',\n",
       " 'worldwide_20-May-2020 10-11-10.csv',\n",
       " 'worldwide_20-May-2020 23-49-07.csv',\n",
       " 'worldwide_21-Apr-2020 10-10-55.csv',\n",
       " 'worldwide_21-Apr-2020 23-49-01.csv',\n",
       " 'worldwide_21-May-2020 10-11-10.csv',\n",
       " 'worldwide_21-May-2020 23-49-08.csv',\n",
       " 'worldwide_22-Apr-2020 10-11-00.csv',\n",
       " 'worldwide_22-Apr-2020 23-49-01.csv',\n",
       " 'worldwide_22-May-2020 10-11-17.csv',\n",
       " 'worldwide_22-May-2020 23-49-08.csv',\n",
       " 'worldwide_23-Apr-2020 10-11-03.csv',\n",
       " 'worldwide_23-May-2020 10-11-11.csv',\n",
       " 'worldwide_23-May-2020 23-49-05.csv',\n",
       " 'worldwide_24-May-2020 10-11-18.csv',\n",
       " 'worldwide_24-May-2020 23-49-07.csv',\n",
       " 'worldwide_25-May-2020 10-11-19.csv',\n",
       " 'worldwide_28-Apr-2020 23-49-03.csv',\n",
       " 'worldwide_29-Apr-2020 10-11-09.csv',\n",
       " 'worldwide_29-Apr-2020 23-48-59.csv',\n",
       " 'worldwide_30-Apr-2020 10-11-08.csv',\n",
       " 'worldwide_30-Apr-2020 23-49-11.csv']"
      ]
     },
     "execution_count": 39,
     "metadata": {},
     "output_type": "execute_result"
    }
   ],
   "source": [
    "my_list2"
   ]
  },
  {
   "cell_type": "code",
   "execution_count": 40,
   "metadata": {},
   "outputs": [],
   "source": [
    "world_may = [file for file in my_list2 if 'May' in file]"
   ]
  },
  {
   "cell_type": "code",
   "execution_count": 41,
   "metadata": {},
   "outputs": [
    {
     "data": {
      "text/plain": [
       "'2020 23'"
      ]
     },
     "execution_count": 41,
     "metadata": {},
     "output_type": "execute_result"
    }
   ],
   "source": [
    "world_may[1].split('-')[-3]"
   ]
  },
  {
   "cell_type": "code",
   "execution_count": 42,
   "metadata": {},
   "outputs": [],
   "source": [
    "world_may_11pm = []\n",
    "world_may_other_time = []\n",
    "\n",
    "for files in world_may:\n",
    "    file = (files.split('-'))\n",
    "    if '23' in file[-3]:\n",
    "        world_may_11pm.append(files)\n",
    "    else:\n",
    "        world_may_other_time.append(files)"
   ]
  },
  {
   "cell_type": "code",
   "execution_count": 43,
   "metadata": {},
   "outputs": [
    {
     "data": {
      "text/plain": [
       "True"
      ]
     },
     "execution_count": 43,
     "metadata": {},
     "output_type": "execute_result"
    }
   ],
   "source": [
    "len(world_may_11pm) + len(world_may_other_time) == len(world_may)"
   ]
  },
  {
   "cell_type": "code",
   "execution_count": 44,
   "metadata": {},
   "outputs": [],
   "source": [
    "world_may_11pm_df = pd.DataFrame()\n",
    "\n",
    "for files in world_may_11pm:\n",
    "    df = pd.read_csv('.\\\\world\\\\' + files)\n",
    "    world_may_11pm_df = pd.concat([world_may_11pm_df, df],sort=False)"
   ]
  },
  {
   "cell_type": "code",
   "execution_count": 45,
   "metadata": {},
   "outputs": [
    {
     "data": {
      "text/html": [
       "<div>\n",
       "<style scoped>\n",
       "    .dataframe tbody tr th:only-of-type {\n",
       "        vertical-align: middle;\n",
       "    }\n",
       "\n",
       "    .dataframe tbody tr th {\n",
       "        vertical-align: top;\n",
       "    }\n",
       "\n",
       "    .dataframe thead th {\n",
       "        text-align: right;\n",
       "    }\n",
       "</style>\n",
       "<table border=\"1\" class=\"dataframe\">\n",
       "  <thead>\n",
       "    <tr style=\"text-align: right;\">\n",
       "      <th></th>\n",
       "      <th>Country</th>\n",
       "      <th>Total confirmed</th>\n",
       "      <th>Total_confirmed_today</th>\n",
       "      <th>Total_deaths</th>\n",
       "      <th>Total_deaths_today</th>\n",
       "      <th>Total_Recoveries</th>\n",
       "      <th>Total_Recoveries_today</th>\n",
       "      <th>Active_confirmed</th>\n",
       "      <th>Critical</th>\n",
       "      <th>Mortality_close</th>\n",
       "      <th>Mortality_confirmed</th>\n",
       "      <th>Total_tests</th>\n",
       "      <th>Total_tests_today</th>\n",
       "    </tr>\n",
       "  </thead>\n",
       "  <tbody>\n",
       "    <tr>\n",
       "      <td>0</td>\n",
       "      <td>united-states</td>\n",
       "      <td>1,129,882</td>\n",
       "      <td>35,152</td>\n",
       "      <td>65,724</td>\n",
       "      <td>1,883</td>\n",
       "      <td>161,551</td>\n",
       "      <td>9,227</td>\n",
       "      <td>902,607</td>\n",
       "      <td>16,478 (2%)</td>\n",
       "      <td>902,607</td>\n",
       "      <td>6%</td>\n",
       "      <td>6,690,837</td>\n",
       "      <td>314,371</td>\n",
       "    </tr>\n",
       "    <tr>\n",
       "      <td>1</td>\n",
       "      <td>spain</td>\n",
       "      <td>242,988</td>\n",
       "      <td>3,349</td>\n",
       "      <td>24,824</td>\n",
       "      <td>281</td>\n",
       "      <td>142,450</td>\n",
       "      <td>4,466</td>\n",
       "      <td>75,714</td>\n",
       "      <td>2,500 (3%)</td>\n",
       "      <td>75,714</td>\n",
       "      <td>10%</td>\n",
       "      <td>1,528,833</td>\n",
       "      <td>73,527</td>\n",
       "    </tr>\n",
       "    <tr>\n",
       "      <td>2</td>\n",
       "      <td>italy</td>\n",
       "      <td>207,428</td>\n",
       "      <td>1,965</td>\n",
       "      <td>28,236</td>\n",
       "      <td>269</td>\n",
       "      <td>78,249</td>\n",
       "      <td>2,304</td>\n",
       "      <td>100,943</td>\n",
       "      <td>1,578 (2%)</td>\n",
       "      <td>100,943</td>\n",
       "      <td>14%</td>\n",
       "      <td>2,053,425</td>\n",
       "      <td>74,208</td>\n",
       "    </tr>\n",
       "    <tr>\n",
       "      <td>3</td>\n",
       "      <td>united-kingdom</td>\n",
       "      <td>178,566</td>\n",
       "      <td>6,206</td>\n",
       "      <td>27,579</td>\n",
       "      <td>741</td>\n",
       "      <td>856</td>\n",
       "      <td>31</td>\n",
       "      <td>150,131</td>\n",
       "      <td>1,559 (1%)</td>\n",
       "      <td>150,131</td>\n",
       "      <td>15%</td>\n",
       "      <td>1,023,824</td>\n",
       "      <td>121,919</td>\n",
       "    </tr>\n",
       "    <tr>\n",
       "      <td>4</td>\n",
       "      <td>france</td>\n",
       "      <td>167,346</td>\n",
       "      <td>168</td>\n",
       "      <td>24,594</td>\n",
       "      <td>218</td>\n",
       "      <td>50,212</td>\n",
       "      <td>736</td>\n",
       "      <td>92,540</td>\n",
       "      <td>3,878 (4%)</td>\n",
       "      <td>92,540</td>\n",
       "      <td>15%</td>\n",
       "      <td>1,100,228</td>\n",
       "      <td>375,654</td>\n",
       "    </tr>\n",
       "  </tbody>\n",
       "</table>\n",
       "</div>"
      ],
      "text/plain": [
       "          Country Total confirmed Total_confirmed_today Total_deaths  \\\n",
       "0   united-states       1,129,882                35,152       65,724   \n",
       "1           spain         242,988                 3,349       24,824   \n",
       "2           italy         207,428                 1,965       28,236   \n",
       "3  united-kingdom         178,566                 6,206       27,579   \n",
       "4          france         167,346                   168       24,594   \n",
       "\n",
       "  Total_deaths_today Total_Recoveries Total_Recoveries_today Active_confirmed  \\\n",
       "0              1,883          161,551                  9,227          902,607   \n",
       "1                281          142,450                  4,466           75,714   \n",
       "2                269           78,249                  2,304          100,943   \n",
       "3                741              856                     31          150,131   \n",
       "4                218           50,212                    736           92,540   \n",
       "\n",
       "      Critical Mortality_close Mortality_confirmed Total_tests  \\\n",
       "0  16,478 (2%)         902,607                  6%   6,690,837   \n",
       "1   2,500 (3%)          75,714                 10%   1,528,833   \n",
       "2   1,578 (2%)         100,943                 14%   2,053,425   \n",
       "3   1,559 (1%)         150,131                 15%   1,023,824   \n",
       "4   3,878 (4%)          92,540                 15%   1,100,228   \n",
       "\n",
       "  Total_tests_today  \n",
       "0           314,371  \n",
       "1            73,527  \n",
       "2            74,208  \n",
       "3           121,919  \n",
       "4           375,654  "
      ]
     },
     "execution_count": 45,
     "metadata": {},
     "output_type": "execute_result"
    }
   ],
   "source": [
    "world_may_11pm_df.head()"
   ]
  },
  {
   "cell_type": "code",
   "execution_count": 46,
   "metadata": {},
   "outputs": [],
   "source": [
    "world_may_11pm_df['Month'] = 'May'\n",
    "world_may_11pm_df['Time'] = '11pm'"
   ]
  },
  {
   "cell_type": "code",
   "execution_count": 47,
   "metadata": {},
   "outputs": [
    {
     "data": {
      "text/plain": [
       "(5178, 15)"
      ]
     },
     "execution_count": 47,
     "metadata": {},
     "output_type": "execute_result"
    }
   ],
   "source": [
    "world_may_11pm_df.shape"
   ]
  },
  {
   "cell_type": "code",
   "execution_count": 48,
   "metadata": {},
   "outputs": [],
   "source": [
    "world_may_other_time_df = pd.DataFrame()\n",
    "\n",
    "for files in world_may_other_time:\n",
    "    df = pd.read_csv('.\\\\world\\\\' + files)\n",
    "    world_may_other_time_df = pd.concat([world_may_other_time_df,df],sort=False)"
   ]
  },
  {
   "cell_type": "code",
   "execution_count": 49,
   "metadata": {},
   "outputs": [],
   "source": [
    "world_may_other_time_df['Month'] = 'May'\n",
    "world_may_other_time_df['Time'] = 'Other Time'"
   ]
  },
  {
   "cell_type": "code",
   "execution_count": 50,
   "metadata": {},
   "outputs": [
    {
     "data": {
      "text/plain": [
       "(4959, 15)"
      ]
     },
     "execution_count": 50,
     "metadata": {},
     "output_type": "execute_result"
    }
   ],
   "source": [
    "world_may_other_time_df.shape"
   ]
  },
  {
   "cell_type": "code",
   "execution_count": 51,
   "metadata": {},
   "outputs": [
    {
     "data": {
      "text/html": [
       "<div>\n",
       "<style scoped>\n",
       "    .dataframe tbody tr th:only-of-type {\n",
       "        vertical-align: middle;\n",
       "    }\n",
       "\n",
       "    .dataframe tbody tr th {\n",
       "        vertical-align: top;\n",
       "    }\n",
       "\n",
       "    .dataframe thead th {\n",
       "        text-align: right;\n",
       "    }\n",
       "</style>\n",
       "<table border=\"1\" class=\"dataframe\">\n",
       "  <thead>\n",
       "    <tr style=\"text-align: right;\">\n",
       "      <th></th>\n",
       "      <th>Country</th>\n",
       "      <th>Total confirmed</th>\n",
       "      <th>Total_confirmed_today</th>\n",
       "      <th>Total_deaths</th>\n",
       "      <th>Total_deaths_today</th>\n",
       "      <th>Total_Recoveries</th>\n",
       "      <th>Total_Recoveries_today</th>\n",
       "      <th>Active_confirmed</th>\n",
       "      <th>Critical</th>\n",
       "      <th>Mortality_close</th>\n",
       "      <th>Mortality_confirmed</th>\n",
       "      <th>Total_tests</th>\n",
       "      <th>Total_tests_today</th>\n",
       "      <th>Month</th>\n",
       "      <th>Time</th>\n",
       "    </tr>\n",
       "  </thead>\n",
       "  <tbody>\n",
       "    <tr>\n",
       "      <td>0</td>\n",
       "      <td>united-states</td>\n",
       "      <td>1,095,304</td>\n",
       "      <td>574</td>\n",
       "      <td>63,871</td>\n",
       "      <td>30</td>\n",
       "      <td>155,737</td>\n",
       "      <td>3,413</td>\n",
       "      <td>875,696</td>\n",
       "      <td>15,226 (2%)</td>\n",
       "      <td>875,696</td>\n",
       "      <td>6%</td>\n",
       "      <td>6,391,887</td>\n",
       "      <td>15,421</td>\n",
       "      <td>May</td>\n",
       "      <td>Other Time</td>\n",
       "    </tr>\n",
       "    <tr>\n",
       "      <td>1</td>\n",
       "      <td>spain</td>\n",
       "      <td>239,639</td>\n",
       "      <td>2,740</td>\n",
       "      <td>24,543</td>\n",
       "      <td>268</td>\n",
       "      <td>137,984</td>\n",
       "      <td>5,055</td>\n",
       "      <td>77,112</td>\n",
       "      <td>2,676 (3%)</td>\n",
       "      <td>77,112</td>\n",
       "      <td>10%</td>\n",
       "      <td>1,455,306</td>\n",
       "      <td>40,829</td>\n",
       "      <td>May</td>\n",
       "      <td>Other Time</td>\n",
       "    </tr>\n",
       "    <tr>\n",
       "      <td>2</td>\n",
       "      <td>italy</td>\n",
       "      <td>205,463</td>\n",
       "      <td>1,872</td>\n",
       "      <td>27,967</td>\n",
       "      <td>285</td>\n",
       "      <td>75,945</td>\n",
       "      <td>4,693</td>\n",
       "      <td>101,551</td>\n",
       "      <td>1,694 (2%)</td>\n",
       "      <td>101,551</td>\n",
       "      <td>14%</td>\n",
       "      <td>1,979,217</td>\n",
       "      <td>68,456</td>\n",
       "      <td>May</td>\n",
       "      <td>Other Time</td>\n",
       "    </tr>\n",
       "    <tr>\n",
       "      <td>3</td>\n",
       "      <td>united-kingdom</td>\n",
       "      <td>172,363</td>\n",
       "      <td>3</td>\n",
       "      <td>26,838</td>\n",
       "      <td>0</td>\n",
       "      <td>825</td>\n",
       "      <td>0</td>\n",
       "      <td>144,700</td>\n",
       "      <td>1,559 (1%)</td>\n",
       "      <td>144,700</td>\n",
       "      <td>16%</td>\n",
       "      <td>901,905</td>\n",
       "      <td>0</td>\n",
       "      <td>May</td>\n",
       "      <td>Other Time</td>\n",
       "    </tr>\n",
       "    <tr>\n",
       "      <td>4</td>\n",
       "      <td>france</td>\n",
       "      <td>167,178</td>\n",
       "      <td>758</td>\n",
       "      <td>24,376</td>\n",
       "      <td>289</td>\n",
       "      <td>49,476</td>\n",
       "      <td>1,248</td>\n",
       "      <td>93,326</td>\n",
       "      <td>4,019 (4%)</td>\n",
       "      <td>93,326</td>\n",
       "      <td>15%</td>\n",
       "      <td>724,574</td>\n",
       "      <td>260,912</td>\n",
       "      <td>May</td>\n",
       "      <td>Other Time</td>\n",
       "    </tr>\n",
       "  </tbody>\n",
       "</table>\n",
       "</div>"
      ],
      "text/plain": [
       "          Country Total confirmed Total_confirmed_today Total_deaths  \\\n",
       "0   united-states       1,095,304                   574       63,871   \n",
       "1           spain         239,639                 2,740       24,543   \n",
       "2           italy         205,463                 1,872       27,967   \n",
       "3  united-kingdom         172,363                     3       26,838   \n",
       "4          france         167,178                   758       24,376   \n",
       "\n",
       "  Total_deaths_today Total_Recoveries Total_Recoveries_today Active_confirmed  \\\n",
       "0                 30          155,737                  3,413          875,696   \n",
       "1                268          137,984                  5,055           77,112   \n",
       "2                285           75,945                  4,693          101,551   \n",
       "3                  0              825                      0          144,700   \n",
       "4                289           49,476                  1,248           93,326   \n",
       "\n",
       "      Critical Mortality_close Mortality_confirmed Total_tests  \\\n",
       "0  15,226 (2%)         875,696                  6%   6,391,887   \n",
       "1   2,676 (3%)          77,112                 10%   1,455,306   \n",
       "2   1,694 (2%)         101,551                 14%   1,979,217   \n",
       "3   1,559 (1%)         144,700                 16%     901,905   \n",
       "4   4,019 (4%)          93,326                 15%     724,574   \n",
       "\n",
       "  Total_tests_today Month        Time  \n",
       "0            15,421   May  Other Time  \n",
       "1            40,829   May  Other Time  \n",
       "2            68,456   May  Other Time  \n",
       "3                 0   May  Other Time  \n",
       "4           260,912   May  Other Time  "
      ]
     },
     "execution_count": 51,
     "metadata": {},
     "output_type": "execute_result"
    }
   ],
   "source": [
    "world_may_other_time_df.head()"
   ]
  },
  {
   "cell_type": "code",
   "execution_count": 52,
   "metadata": {},
   "outputs": [],
   "source": [
    "world_may_df = pd.concat([world_may_11pm_df,world_may_other_time_df])"
   ]
  },
  {
   "cell_type": "code",
   "execution_count": 53,
   "metadata": {},
   "outputs": [
    {
     "data": {
      "text/plain": [
       "(10137, 15)"
      ]
     },
     "execution_count": 53,
     "metadata": {},
     "output_type": "execute_result"
    }
   ],
   "source": [
    "world_may_df.shape"
   ]
  },
  {
   "cell_type": "code",
   "execution_count": 54,
   "metadata": {},
   "outputs": [],
   "source": [
    "world_may_df.to_csv('World May Cases.csv', index=False)"
   ]
  },
  {
   "cell_type": "code",
   "execution_count": 55,
   "metadata": {},
   "outputs": [],
   "source": [
    "world_april = [file for file in my_list2 if 'Apr' in file]"
   ]
  },
  {
   "cell_type": "code",
   "execution_count": 56,
   "metadata": {},
   "outputs": [],
   "source": [
    "world_april_11pm = []\n",
    "world_april_other_time = []\n",
    "\n",
    "for files in world_april:\n",
    "    file = files.split('-')\n",
    "    if '23' in file[-3]:\n",
    "        world_april_11pm.append(files)\n",
    "    else:\n",
    "        world_april_other_time.append(files)"
   ]
  },
  {
   "cell_type": "code",
   "execution_count": 57,
   "metadata": {},
   "outputs": [
    {
     "data": {
      "text/plain": [
       "True"
      ]
     },
     "execution_count": 57,
     "metadata": {},
     "output_type": "execute_result"
    }
   ],
   "source": [
    "len(world_april_11pm) + len(world_april_other_time) == len(world_april)"
   ]
  },
  {
   "cell_type": "code",
   "execution_count": 58,
   "metadata": {},
   "outputs": [],
   "source": [
    "df_x = pd.read_csv('.\\\\world\\\\worldwide_02-Apr-2020 23-56-11.csv')"
   ]
  },
  {
   "cell_type": "code",
   "execution_count": 59,
   "metadata": {},
   "outputs": [
    {
     "data": {
      "text/plain": [
       "7"
      ]
     },
     "execution_count": 59,
     "metadata": {},
     "output_type": "execute_result"
    }
   ],
   "source": [
    "len(df_x.columns)"
   ]
  },
  {
   "cell_type": "code",
   "execution_count": 60,
   "metadata": {},
   "outputs": [
    {
     "data": {
      "text/plain": [
       "Index(['Country', 'Total confirmed cases', 'Total deaths',\n",
       "       'Confirmed recoveries', 'Cases confirmed today', 'Deaths today',\n",
       "       'Recoveries confirmed today'],\n",
       "      dtype='object')"
      ]
     },
     "execution_count": 60,
     "metadata": {},
     "output_type": "execute_result"
    }
   ],
   "source": [
    "df_x.columns"
   ]
  },
  {
   "cell_type": "code",
   "execution_count": 61,
   "metadata": {},
   "outputs": [],
   "source": [
    "df_y = pd.read_csv('.\\\\world\\\\worldwide_15-Apr-2020 23-49-27.csv')"
   ]
  },
  {
   "cell_type": "code",
   "execution_count": 62,
   "metadata": {},
   "outputs": [
    {
     "data": {
      "text/plain": [
       "13"
      ]
     },
     "execution_count": 62,
     "metadata": {},
     "output_type": "execute_result"
    }
   ],
   "source": [
    "len(df_y.columns)"
   ]
  },
  {
   "cell_type": "code",
   "execution_count": 63,
   "metadata": {},
   "outputs": [
    {
     "data": {
      "text/plain": [
       "Index(['Country', 'Total confirmed', 'Total_confirmed_today', 'Total_deaths',\n",
       "       'Total_deaths_today', 'Total_Recoveries', 'Total_Recoveries_today',\n",
       "       'Active_confirmed', 'Critical', 'Mortality_close',\n",
       "       'Mortality_confirmed', 'Total_tests', 'Total_tests_today'],\n",
       "      dtype='object')"
      ]
     },
     "execution_count": 63,
     "metadata": {},
     "output_type": "execute_result"
    }
   ],
   "source": [
    "df_y.columns"
   ]
  },
  {
   "cell_type": "code",
   "execution_count": 64,
   "metadata": {},
   "outputs": [],
   "source": [
    "current_dir = os.getcwd()"
   ]
  },
  {
   "cell_type": "code",
   "execution_count": 65,
   "metadata": {},
   "outputs": [
    {
     "data": {
      "text/plain": [
       "'C:\\\\Users\\\\kings\\\\Downloads\\\\AskPyFesh Challenge 2 dataset'"
      ]
     },
     "execution_count": 65,
     "metadata": {},
     "output_type": "execute_result"
    }
   ],
   "source": [
    "current_dir"
   ]
  },
  {
   "cell_type": "code",
   "execution_count": 66,
   "metadata": {},
   "outputs": [],
   "source": [
    "thirteen_cols = []\n",
    "seven_cols = []\n",
    "\n",
    "for files in world_april_11pm:\n",
    "    df_1 = pd.read_csv('{}\\\\world\\\\{}'.format(current_dir, files))\n",
    "    if (len(df_1.columns)==13):\n",
    "        thirteen_cols.append(files)\n",
    "    else:\n",
    "        seven_cols.append(files)"
   ]
  },
  {
   "cell_type": "code",
   "execution_count": 67,
   "metadata": {},
   "outputs": [
    {
     "data": {
      "text/plain": [
       "True"
      ]
     },
     "execution_count": 67,
     "metadata": {},
     "output_type": "execute_result"
    }
   ],
   "source": [
    "len(thirteen_cols) + len(seven_cols) == len(world_april_11pm)"
   ]
  },
  {
   "cell_type": "code",
   "execution_count": 68,
   "metadata": {},
   "outputs": [],
   "source": [
    "df_13 = pd.DataFrame() \n",
    "\n",
    "for files in thirteen_cols:\n",
    "    df = pd.read_csv('{}\\\\world\\\\{}'.format(current_dir,files))\n",
    "    df_13 = pd.concat([df_13,df],sort=False)"
   ]
  },
  {
   "cell_type": "code",
   "execution_count": 69,
   "metadata": {},
   "outputs": [
    {
     "data": {
      "text/plain": [
       "(3258, 13)"
      ]
     },
     "execution_count": 69,
     "metadata": {},
     "output_type": "execute_result"
    }
   ],
   "source": [
    "df_13.shape"
   ]
  },
  {
   "cell_type": "code",
   "execution_count": 70,
   "metadata": {},
   "outputs": [],
   "source": [
    "df_7 = pd.DataFrame()\n",
    "\n",
    "for files in seven_cols:\n",
    "    df = pd.read_csv('{}\\\\world\\\\{}'.format(current_dir,files))\n",
    "    df_7 = pd.concat([df_7,df],sort=False)"
   ]
  },
  {
   "cell_type": "code",
   "execution_count": 71,
   "metadata": {},
   "outputs": [
    {
     "data": {
      "text/plain": [
       "(618, 7)"
      ]
     },
     "execution_count": 71,
     "metadata": {},
     "output_type": "execute_result"
    }
   ],
   "source": [
    "df_7.shape"
   ]
  },
  {
   "cell_type": "code",
   "execution_count": 72,
   "metadata": {},
   "outputs": [
    {
     "name": "stdout",
     "output_type": "stream",
     "text": [
      "Index(['Country', 'Total confirmed', 'Total_confirmed_today', 'Total_deaths',\n",
      "       'Total_deaths_today', 'Total_Recoveries', 'Total_Recoveries_today',\n",
      "       'Active_confirmed', 'Critical', 'Mortality_close',\n",
      "       'Mortality_confirmed', 'Total_tests', 'Total_tests_today'],\n",
      "      dtype='object')\n",
      "Index(['Country', 'Total confirmed cases', 'Total deaths',\n",
      "       'Confirmed recoveries', 'Cases confirmed today', 'Deaths today',\n",
      "       'Recoveries confirmed today'],\n",
      "      dtype='object')\n"
     ]
    }
   ],
   "source": [
    "print(df_13.columns)\n",
    "print(df_7.columns)"
   ]
  },
  {
   "cell_type": "code",
   "execution_count": 73,
   "metadata": {},
   "outputs": [],
   "source": [
    "df_7 = df_7.rename({'Total confirmed cases':'Total confirmed',\n",
    "                   'Total deaths':'Total_deaths',\n",
    "                   'Deaths today':'Total_deaths_today',\n",
    "                   'Cases confirmed today':'Total_confirmed_today',\n",
    "                   'Confirmed recoveries':'Total_Recoveries',\n",
    "                   'Recoveries confirmed today':'Total_Recoveries_today'},axis=1)"
   ]
  },
  {
   "cell_type": "code",
   "execution_count": 74,
   "metadata": {},
   "outputs": [
    {
     "data": {
      "text/plain": [
       "Index(['Country', 'Total confirmed', 'Total_deaths', 'Total_Recoveries',\n",
       "       'Total_confirmed_today', 'Total_deaths_today',\n",
       "       'Total_Recoveries_today'],\n",
       "      dtype='object')"
      ]
     },
     "execution_count": 74,
     "metadata": {},
     "output_type": "execute_result"
    }
   ],
   "source": [
    "df_7.columns"
   ]
  },
  {
   "cell_type": "code",
   "execution_count": 75,
   "metadata": {},
   "outputs": [],
   "source": [
    "absent_cols = [cols for cols in df_13 if cols not in df_7]"
   ]
  },
  {
   "cell_type": "code",
   "execution_count": 76,
   "metadata": {},
   "outputs": [
    {
     "data": {
      "text/plain": [
       "['Active_confirmed',\n",
       " 'Critical',\n",
       " 'Mortality_close',\n",
       " 'Mortality_confirmed',\n",
       " 'Total_tests',\n",
       " 'Total_tests_today']"
      ]
     },
     "execution_count": 76,
     "metadata": {},
     "output_type": "execute_result"
    }
   ],
   "source": [
    "absent_cols"
   ]
  },
  {
   "cell_type": "code",
   "execution_count": 77,
   "metadata": {},
   "outputs": [],
   "source": [
    "world_april_11pm_df = pd.concat([df_7, df_13],sort=False)"
   ]
  },
  {
   "cell_type": "code",
   "execution_count": 78,
   "metadata": {},
   "outputs": [
    {
     "data": {
      "text/html": [
       "<div>\n",
       "<style scoped>\n",
       "    .dataframe tbody tr th:only-of-type {\n",
       "        vertical-align: middle;\n",
       "    }\n",
       "\n",
       "    .dataframe tbody tr th {\n",
       "        vertical-align: top;\n",
       "    }\n",
       "\n",
       "    .dataframe thead th {\n",
       "        text-align: right;\n",
       "    }\n",
       "</style>\n",
       "<table border=\"1\" class=\"dataframe\">\n",
       "  <thead>\n",
       "    <tr style=\"text-align: right;\">\n",
       "      <th></th>\n",
       "      <th>Country</th>\n",
       "      <th>Total confirmed</th>\n",
       "      <th>Total_deaths</th>\n",
       "      <th>Total_Recoveries</th>\n",
       "      <th>Total_confirmed_today</th>\n",
       "      <th>Total_deaths_today</th>\n",
       "      <th>Total_Recoveries_today</th>\n",
       "      <th>Active_confirmed</th>\n",
       "      <th>Critical</th>\n",
       "      <th>Mortality_close</th>\n",
       "      <th>Mortality_confirmed</th>\n",
       "      <th>Total_tests</th>\n",
       "      <th>Total_tests_today</th>\n",
       "    </tr>\n",
       "  </thead>\n",
       "  <tbody>\n",
       "    <tr>\n",
       "      <td>0</td>\n",
       "      <td>united-states</td>\n",
       "      <td>242,899</td>\n",
       "      <td>5,865</td>\n",
       "      <td>10,400</td>\n",
       "      <td>28,260</td>\n",
       "      <td>766</td>\n",
       "      <td>1,522</td>\n",
       "      <td>NaN</td>\n",
       "      <td>NaN</td>\n",
       "      <td>NaN</td>\n",
       "      <td>NaN</td>\n",
       "      <td>NaN</td>\n",
       "      <td>NaN</td>\n",
       "    </tr>\n",
       "    <tr>\n",
       "      <td>1</td>\n",
       "      <td>italy</td>\n",
       "      <td>115,242</td>\n",
       "      <td>13,915</td>\n",
       "      <td>18,278</td>\n",
       "      <td>4,668</td>\n",
       "      <td>760</td>\n",
       "      <td>1,431</td>\n",
       "      <td>NaN</td>\n",
       "      <td>NaN</td>\n",
       "      <td>NaN</td>\n",
       "      <td>NaN</td>\n",
       "      <td>NaN</td>\n",
       "      <td>NaN</td>\n",
       "    </tr>\n",
       "    <tr>\n",
       "      <td>2</td>\n",
       "      <td>spain</td>\n",
       "      <td>112,065</td>\n",
       "      <td>10,348</td>\n",
       "      <td>26,743</td>\n",
       "      <td>7,947</td>\n",
       "      <td>961</td>\n",
       "      <td>4,096</td>\n",
       "      <td>NaN</td>\n",
       "      <td>NaN</td>\n",
       "      <td>NaN</td>\n",
       "      <td>NaN</td>\n",
       "      <td>NaN</td>\n",
       "      <td>NaN</td>\n",
       "    </tr>\n",
       "    <tr>\n",
       "      <td>3</td>\n",
       "      <td>germany</td>\n",
       "      <td>84,794</td>\n",
       "      <td>1,107</td>\n",
       "      <td>22,440</td>\n",
       "      <td>6,813</td>\n",
       "      <td>176</td>\n",
       "      <td>3,740</td>\n",
       "      <td>NaN</td>\n",
       "      <td>NaN</td>\n",
       "      <td>NaN</td>\n",
       "      <td>NaN</td>\n",
       "      <td>NaN</td>\n",
       "      <td>NaN</td>\n",
       "    </tr>\n",
       "    <tr>\n",
       "      <td>4</td>\n",
       "      <td>china</td>\n",
       "      <td>82,413</td>\n",
       "      <td>3,322</td>\n",
       "      <td>76,546</td>\n",
       "      <td>53</td>\n",
       "      <td>6</td>\n",
       "      <td>142</td>\n",
       "      <td>NaN</td>\n",
       "      <td>NaN</td>\n",
       "      <td>NaN</td>\n",
       "      <td>NaN</td>\n",
       "      <td>NaN</td>\n",
       "      <td>NaN</td>\n",
       "    </tr>\n",
       "  </tbody>\n",
       "</table>\n",
       "</div>"
      ],
      "text/plain": [
       "         Country Total confirmed Total_deaths Total_Recoveries  \\\n",
       "0  united-states         242,899        5,865           10,400   \n",
       "1          italy         115,242       13,915           18,278   \n",
       "2          spain         112,065       10,348           26,743   \n",
       "3        germany          84,794        1,107           22,440   \n",
       "4          china          82,413        3,322           76,546   \n",
       "\n",
       "  Total_confirmed_today Total_deaths_today Total_Recoveries_today  \\\n",
       "0                28,260                766                  1,522   \n",
       "1                 4,668                760                  1,431   \n",
       "2                 7,947                961                  4,096   \n",
       "3                 6,813                176                  3,740   \n",
       "4                    53                  6                    142   \n",
       "\n",
       "  Active_confirmed Critical Mortality_close Mortality_confirmed Total_tests  \\\n",
       "0              NaN      NaN             NaN                 NaN         NaN   \n",
       "1              NaN      NaN             NaN                 NaN         NaN   \n",
       "2              NaN      NaN             NaN                 NaN         NaN   \n",
       "3              NaN      NaN             NaN                 NaN         NaN   \n",
       "4              NaN      NaN             NaN                 NaN         NaN   \n",
       "\n",
       "  Total_tests_today  \n",
       "0               NaN  \n",
       "1               NaN  \n",
       "2               NaN  \n",
       "3               NaN  \n",
       "4               NaN  "
      ]
     },
     "execution_count": 78,
     "metadata": {},
     "output_type": "execute_result"
    }
   ],
   "source": [
    "world_april_11pm_df.head()"
   ]
  },
  {
   "cell_type": "code",
   "execution_count": 79,
   "metadata": {},
   "outputs": [
    {
     "data": {
      "text/plain": [
       "(3876, 13)"
      ]
     },
     "execution_count": 79,
     "metadata": {},
     "output_type": "execute_result"
    }
   ],
   "source": [
    "world_april_11pm_df.shape"
   ]
  },
  {
   "cell_type": "code",
   "execution_count": 80,
   "metadata": {},
   "outputs": [],
   "source": [
    "world_april_11pm_df['Month'] = 'April'\n",
    "world_april_11pm_df['Time'] = '11pm'"
   ]
  },
  {
   "cell_type": "code",
   "execution_count": 81,
   "metadata": {},
   "outputs": [],
   "source": [
    "thirteen_cols = []\n",
    "seven_cols = []\n",
    "\n",
    "for files in world_april_other_time:\n",
    "    df = pd.read_csv('{}\\\\world\\\\{}'.format(current_dir, files))\n",
    "    if (len(df.columns)==13):\n",
    "        thirteen_cols.append(files)\n",
    "    else:\n",
    "        seven_cols.append(files)"
   ]
  },
  {
   "cell_type": "code",
   "execution_count": 82,
   "metadata": {},
   "outputs": [
    {
     "name": "stdout",
     "output_type": "stream",
     "text": [
      "17\n",
      "5\n"
     ]
    },
    {
     "data": {
      "text/plain": [
       "True"
      ]
     },
     "execution_count": 82,
     "metadata": {},
     "output_type": "execute_result"
    }
   ],
   "source": [
    "print(len(thirteen_cols))\n",
    "print(len(seven_cols))\n",
    "len(thirteen_cols) + len(seven_cols)== len(world_april_other_time)"
   ]
  },
  {
   "cell_type": "code",
   "execution_count": 83,
   "metadata": {},
   "outputs": [],
   "source": [
    "df_13 = pd.DataFrame()\n",
    "\n",
    "for files in thirteen_cols:\n",
    "    df = pd.read_csv('{}\\\\world\\\\{}'.format(current_dir,files))\n",
    "    df_13 = pd.concat([df_13, df],sort=False)"
   ]
  },
  {
   "cell_type": "code",
   "execution_count": 84,
   "metadata": {},
   "outputs": [
    {
     "data": {
      "text/plain": [
       "(3448, 13)"
      ]
     },
     "execution_count": 84,
     "metadata": {},
     "output_type": "execute_result"
    }
   ],
   "source": [
    "df_13.shape"
   ]
  },
  {
   "cell_type": "code",
   "execution_count": 85,
   "metadata": {},
   "outputs": [],
   "source": [
    "df_7 = pd.DataFrame()\n",
    "\n",
    "for files in seven_cols:\n",
    "    df = pd.read_csv('{}\\\\world\\\\{}'.format(current_dir,files))\n",
    "    df_7 = pd.concat([df_7,df],sort=False)"
   ]
  },
  {
   "cell_type": "code",
   "execution_count": 86,
   "metadata": {},
   "outputs": [
    {
     "data": {
      "text/plain": [
       "(1011, 7)"
      ]
     },
     "execution_count": 86,
     "metadata": {},
     "output_type": "execute_result"
    }
   ],
   "source": [
    "df_7.shape"
   ]
  },
  {
   "cell_type": "code",
   "execution_count": 87,
   "metadata": {},
   "outputs": [
    {
     "name": "stdout",
     "output_type": "stream",
     "text": [
      "Index(['Country', 'Total confirmed cases', 'Total deaths',\n",
      "       'Confirmed recoveries', 'Cases confirmed today', 'Deaths today',\n",
      "       'Recoveries confirmed today'],\n",
      "      dtype='object')\n",
      "Index(['Country', 'Total confirmed', 'Total_confirmed_today', 'Total_deaths',\n",
      "       'Total_deaths_today', 'Total_Recoveries', 'Total_Recoveries_today',\n",
      "       'Active_confirmed', 'Critical', 'Mortality_close',\n",
      "       'Mortality_confirmed', 'Total_tests', 'Total_tests_today'],\n",
      "      dtype='object')\n"
     ]
    }
   ],
   "source": [
    "print(df_7.columns)\n",
    "print(df_13.columns)"
   ]
  },
  {
   "cell_type": "code",
   "execution_count": 88,
   "metadata": {},
   "outputs": [],
   "source": [
    "df_7 = df_7.rename({'Total confirmed cases':'Total confirmed',\n",
    "                   'Total deaths':'Total_deaths',\n",
    "                   'Deaths today':'Total_deaths_today',\n",
    "                   'Cases confirmed today':'Total_confirmed_today',\n",
    "                   'Confirmed recoveries':'Total_Recoveries',\n",
    "                   'Recoveries confirmed today':'Total_Recoveries_today'},axis=1)"
   ]
  },
  {
   "cell_type": "code",
   "execution_count": 89,
   "metadata": {},
   "outputs": [],
   "source": [
    "world_april_other_time_df = pd.concat([df_7,df_13],sort=False)"
   ]
  },
  {
   "cell_type": "code",
   "execution_count": 90,
   "metadata": {},
   "outputs": [
    {
     "data": {
      "text/html": [
       "<div>\n",
       "<style scoped>\n",
       "    .dataframe tbody tr th:only-of-type {\n",
       "        vertical-align: middle;\n",
       "    }\n",
       "\n",
       "    .dataframe tbody tr th {\n",
       "        vertical-align: top;\n",
       "    }\n",
       "\n",
       "    .dataframe thead th {\n",
       "        text-align: right;\n",
       "    }\n",
       "</style>\n",
       "<table border=\"1\" class=\"dataframe\">\n",
       "  <thead>\n",
       "    <tr style=\"text-align: right;\">\n",
       "      <th></th>\n",
       "      <th>Country</th>\n",
       "      <th>Total confirmed</th>\n",
       "      <th>Total_deaths</th>\n",
       "      <th>Total_Recoveries</th>\n",
       "      <th>Total_confirmed_today</th>\n",
       "      <th>Total_deaths_today</th>\n",
       "      <th>Total_Recoveries_today</th>\n",
       "      <th>Active_confirmed</th>\n",
       "      <th>Critical</th>\n",
       "      <th>Mortality_close</th>\n",
       "      <th>Mortality_confirmed</th>\n",
       "      <th>Total_tests</th>\n",
       "      <th>Total_tests_today</th>\n",
       "    </tr>\n",
       "  </thead>\n",
       "  <tbody>\n",
       "    <tr>\n",
       "      <td>0</td>\n",
       "      <td>united-states</td>\n",
       "      <td>244,190</td>\n",
       "      <td>5,883</td>\n",
       "      <td>10,400</td>\n",
       "      <td>29,551</td>\n",
       "      <td>784</td>\n",
       "      <td>1,522</td>\n",
       "      <td>NaN</td>\n",
       "      <td>NaN</td>\n",
       "      <td>NaN</td>\n",
       "      <td>NaN</td>\n",
       "      <td>NaN</td>\n",
       "      <td>NaN</td>\n",
       "    </tr>\n",
       "    <tr>\n",
       "      <td>1</td>\n",
       "      <td>italy</td>\n",
       "      <td>115,242</td>\n",
       "      <td>13,915</td>\n",
       "      <td>18,278</td>\n",
       "      <td>4,668</td>\n",
       "      <td>760</td>\n",
       "      <td>1,431</td>\n",
       "      <td>NaN</td>\n",
       "      <td>NaN</td>\n",
       "      <td>NaN</td>\n",
       "      <td>NaN</td>\n",
       "      <td>NaN</td>\n",
       "      <td>NaN</td>\n",
       "    </tr>\n",
       "    <tr>\n",
       "      <td>2</td>\n",
       "      <td>spain</td>\n",
       "      <td>112,065</td>\n",
       "      <td>10,348</td>\n",
       "      <td>26,743</td>\n",
       "      <td>7,947</td>\n",
       "      <td>961</td>\n",
       "      <td>4,096</td>\n",
       "      <td>NaN</td>\n",
       "      <td>NaN</td>\n",
       "      <td>NaN</td>\n",
       "      <td>NaN</td>\n",
       "      <td>NaN</td>\n",
       "      <td>NaN</td>\n",
       "    </tr>\n",
       "    <tr>\n",
       "      <td>3</td>\n",
       "      <td>germany</td>\n",
       "      <td>84,794</td>\n",
       "      <td>1,107</td>\n",
       "      <td>22,440</td>\n",
       "      <td>6,813</td>\n",
       "      <td>176</td>\n",
       "      <td>3,740</td>\n",
       "      <td>NaN</td>\n",
       "      <td>NaN</td>\n",
       "      <td>NaN</td>\n",
       "      <td>NaN</td>\n",
       "      <td>NaN</td>\n",
       "      <td>NaN</td>\n",
       "    </tr>\n",
       "    <tr>\n",
       "      <td>4</td>\n",
       "      <td>china</td>\n",
       "      <td>82,413</td>\n",
       "      <td>3,322</td>\n",
       "      <td>76,546</td>\n",
       "      <td>53</td>\n",
       "      <td>6</td>\n",
       "      <td>142</td>\n",
       "      <td>NaN</td>\n",
       "      <td>NaN</td>\n",
       "      <td>NaN</td>\n",
       "      <td>NaN</td>\n",
       "      <td>NaN</td>\n",
       "      <td>NaN</td>\n",
       "    </tr>\n",
       "  </tbody>\n",
       "</table>\n",
       "</div>"
      ],
      "text/plain": [
       "         Country Total confirmed Total_deaths Total_Recoveries  \\\n",
       "0  united-states         244,190        5,883           10,400   \n",
       "1          italy         115,242       13,915           18,278   \n",
       "2          spain         112,065       10,348           26,743   \n",
       "3        germany          84,794        1,107           22,440   \n",
       "4          china          82,413        3,322           76,546   \n",
       "\n",
       "  Total_confirmed_today Total_deaths_today Total_Recoveries_today  \\\n",
       "0                29,551                784                  1,522   \n",
       "1                 4,668                760                  1,431   \n",
       "2                 7,947                961                  4,096   \n",
       "3                 6,813                176                  3,740   \n",
       "4                    53                  6                    142   \n",
       "\n",
       "  Active_confirmed Critical Mortality_close Mortality_confirmed Total_tests  \\\n",
       "0              NaN      NaN             NaN                 NaN         NaN   \n",
       "1              NaN      NaN             NaN                 NaN         NaN   \n",
       "2              NaN      NaN             NaN                 NaN         NaN   \n",
       "3              NaN      NaN             NaN                 NaN         NaN   \n",
       "4              NaN      NaN             NaN                 NaN         NaN   \n",
       "\n",
       "  Total_tests_today  \n",
       "0               NaN  \n",
       "1               NaN  \n",
       "2               NaN  \n",
       "3               NaN  \n",
       "4               NaN  "
      ]
     },
     "execution_count": 90,
     "metadata": {},
     "output_type": "execute_result"
    }
   ],
   "source": [
    "world_april_other_time_df.head()"
   ]
  },
  {
   "cell_type": "code",
   "execution_count": 91,
   "metadata": {},
   "outputs": [],
   "source": [
    "world_april_other_time_df['Month'] = 'April'\n",
    "world_april_other_time_df['Time'] ='Other Time'"
   ]
  },
  {
   "cell_type": "code",
   "execution_count": 92,
   "metadata": {},
   "outputs": [
    {
     "data": {
      "text/plain": [
       "(4459, 15)"
      ]
     },
     "execution_count": 92,
     "metadata": {},
     "output_type": "execute_result"
    }
   ],
   "source": [
    "world_april_other_time_df.shape"
   ]
  },
  {
   "cell_type": "code",
   "execution_count": 93,
   "metadata": {},
   "outputs": [
    {
     "data": {
      "text/plain": [
       "(3876, 15)"
      ]
     },
     "execution_count": 93,
     "metadata": {},
     "output_type": "execute_result"
    }
   ],
   "source": [
    "world_april_11pm_df.shape"
   ]
  },
  {
   "cell_type": "code",
   "execution_count": 94,
   "metadata": {},
   "outputs": [],
   "source": [
    "world_april_df = pd.concat([world_april_11pm_df,world_april_other_time_df],sort=False)"
   ]
  },
  {
   "cell_type": "code",
   "execution_count": 95,
   "metadata": {},
   "outputs": [
    {
     "data": {
      "text/html": [
       "<div>\n",
       "<style scoped>\n",
       "    .dataframe tbody tr th:only-of-type {\n",
       "        vertical-align: middle;\n",
       "    }\n",
       "\n",
       "    .dataframe tbody tr th {\n",
       "        vertical-align: top;\n",
       "    }\n",
       "\n",
       "    .dataframe thead th {\n",
       "        text-align: right;\n",
       "    }\n",
       "</style>\n",
       "<table border=\"1\" class=\"dataframe\">\n",
       "  <thead>\n",
       "    <tr style=\"text-align: right;\">\n",
       "      <th></th>\n",
       "      <th>Country</th>\n",
       "      <th>Total confirmed</th>\n",
       "      <th>Total_deaths</th>\n",
       "      <th>Total_Recoveries</th>\n",
       "      <th>Total_confirmed_today</th>\n",
       "      <th>Total_deaths_today</th>\n",
       "      <th>Total_Recoveries_today</th>\n",
       "      <th>Active_confirmed</th>\n",
       "      <th>Critical</th>\n",
       "      <th>Mortality_close</th>\n",
       "      <th>Mortality_confirmed</th>\n",
       "      <th>Total_tests</th>\n",
       "      <th>Total_tests_today</th>\n",
       "      <th>Month</th>\n",
       "      <th>Time</th>\n",
       "    </tr>\n",
       "  </thead>\n",
       "  <tbody>\n",
       "    <tr>\n",
       "      <td>0</td>\n",
       "      <td>united-states</td>\n",
       "      <td>242,899</td>\n",
       "      <td>5,865</td>\n",
       "      <td>10,400</td>\n",
       "      <td>28,260</td>\n",
       "      <td>766</td>\n",
       "      <td>1,522</td>\n",
       "      <td>NaN</td>\n",
       "      <td>NaN</td>\n",
       "      <td>NaN</td>\n",
       "      <td>NaN</td>\n",
       "      <td>NaN</td>\n",
       "      <td>NaN</td>\n",
       "      <td>April</td>\n",
       "      <td>11pm</td>\n",
       "    </tr>\n",
       "    <tr>\n",
       "      <td>1</td>\n",
       "      <td>italy</td>\n",
       "      <td>115,242</td>\n",
       "      <td>13,915</td>\n",
       "      <td>18,278</td>\n",
       "      <td>4,668</td>\n",
       "      <td>760</td>\n",
       "      <td>1,431</td>\n",
       "      <td>NaN</td>\n",
       "      <td>NaN</td>\n",
       "      <td>NaN</td>\n",
       "      <td>NaN</td>\n",
       "      <td>NaN</td>\n",
       "      <td>NaN</td>\n",
       "      <td>April</td>\n",
       "      <td>11pm</td>\n",
       "    </tr>\n",
       "    <tr>\n",
       "      <td>2</td>\n",
       "      <td>spain</td>\n",
       "      <td>112,065</td>\n",
       "      <td>10,348</td>\n",
       "      <td>26,743</td>\n",
       "      <td>7,947</td>\n",
       "      <td>961</td>\n",
       "      <td>4,096</td>\n",
       "      <td>NaN</td>\n",
       "      <td>NaN</td>\n",
       "      <td>NaN</td>\n",
       "      <td>NaN</td>\n",
       "      <td>NaN</td>\n",
       "      <td>NaN</td>\n",
       "      <td>April</td>\n",
       "      <td>11pm</td>\n",
       "    </tr>\n",
       "    <tr>\n",
       "      <td>3</td>\n",
       "      <td>germany</td>\n",
       "      <td>84,794</td>\n",
       "      <td>1,107</td>\n",
       "      <td>22,440</td>\n",
       "      <td>6,813</td>\n",
       "      <td>176</td>\n",
       "      <td>3,740</td>\n",
       "      <td>NaN</td>\n",
       "      <td>NaN</td>\n",
       "      <td>NaN</td>\n",
       "      <td>NaN</td>\n",
       "      <td>NaN</td>\n",
       "      <td>NaN</td>\n",
       "      <td>April</td>\n",
       "      <td>11pm</td>\n",
       "    </tr>\n",
       "    <tr>\n",
       "      <td>4</td>\n",
       "      <td>china</td>\n",
       "      <td>82,413</td>\n",
       "      <td>3,322</td>\n",
       "      <td>76,546</td>\n",
       "      <td>53</td>\n",
       "      <td>6</td>\n",
       "      <td>142</td>\n",
       "      <td>NaN</td>\n",
       "      <td>NaN</td>\n",
       "      <td>NaN</td>\n",
       "      <td>NaN</td>\n",
       "      <td>NaN</td>\n",
       "      <td>NaN</td>\n",
       "      <td>April</td>\n",
       "      <td>11pm</td>\n",
       "    </tr>\n",
       "  </tbody>\n",
       "</table>\n",
       "</div>"
      ],
      "text/plain": [
       "         Country Total confirmed Total_deaths Total_Recoveries  \\\n",
       "0  united-states         242,899        5,865           10,400   \n",
       "1          italy         115,242       13,915           18,278   \n",
       "2          spain         112,065       10,348           26,743   \n",
       "3        germany          84,794        1,107           22,440   \n",
       "4          china          82,413        3,322           76,546   \n",
       "\n",
       "  Total_confirmed_today Total_deaths_today Total_Recoveries_today  \\\n",
       "0                28,260                766                  1,522   \n",
       "1                 4,668                760                  1,431   \n",
       "2                 7,947                961                  4,096   \n",
       "3                 6,813                176                  3,740   \n",
       "4                    53                  6                    142   \n",
       "\n",
       "  Active_confirmed Critical Mortality_close Mortality_confirmed Total_tests  \\\n",
       "0              NaN      NaN             NaN                 NaN         NaN   \n",
       "1              NaN      NaN             NaN                 NaN         NaN   \n",
       "2              NaN      NaN             NaN                 NaN         NaN   \n",
       "3              NaN      NaN             NaN                 NaN         NaN   \n",
       "4              NaN      NaN             NaN                 NaN         NaN   \n",
       "\n",
       "  Total_tests_today  Month  Time  \n",
       "0               NaN  April  11pm  \n",
       "1               NaN  April  11pm  \n",
       "2               NaN  April  11pm  \n",
       "3               NaN  April  11pm  \n",
       "4               NaN  April  11pm  "
      ]
     },
     "execution_count": 95,
     "metadata": {},
     "output_type": "execute_result"
    }
   ],
   "source": [
    "world_april_df.head()"
   ]
  },
  {
   "cell_type": "code",
   "execution_count": 96,
   "metadata": {},
   "outputs": [],
   "source": [
    "world_april_df.to_csv('World April Cases.csv',index=False)"
   ]
  },
  {
   "cell_type": "code",
   "execution_count": 97,
   "metadata": {},
   "outputs": [
    {
     "data": {
      "text/plain": [
       "43"
      ]
     },
     "execution_count": 97,
     "metadata": {},
     "output_type": "execute_result"
    }
   ],
   "source": [
    "#total files in World 11pm\n",
    "world_11pm_files = len(world_may_11pm) + len(world_april_11pm)\n",
    "world_11pm_files"
   ]
  },
  {
   "cell_type": "code",
   "execution_count": 98,
   "metadata": {},
   "outputs": [
    {
     "data": {
      "text/plain": [
       "45"
      ]
     },
     "execution_count": 98,
     "metadata": {},
     "output_type": "execute_result"
    }
   ],
   "source": [
    "world_other_time_files = len(world_april_other_time) + len(world_may_other_time)\n",
    "world_other_time_files"
   ]
  },
  {
   "cell_type": "markdown",
   "metadata": {},
   "source": [
    "#### Data wrangling completed"
   ]
  },
  {
   "cell_type": "markdown",
   "metadata": {},
   "source": [
    "## Starting the analysis"
   ]
  },
  {
   "cell_type": "code",
   "execution_count": 99,
   "metadata": {},
   "outputs": [
    {
     "data": {
      "text/html": [
       "<div>\n",
       "<style scoped>\n",
       "    .dataframe tbody tr th:only-of-type {\n",
       "        vertical-align: middle;\n",
       "    }\n",
       "\n",
       "    .dataframe tbody tr th {\n",
       "        vertical-align: top;\n",
       "    }\n",
       "\n",
       "    .dataframe thead th {\n",
       "        text-align: right;\n",
       "    }\n",
       "</style>\n",
       "<table border=\"1\" class=\"dataframe\">\n",
       "  <thead>\n",
       "    <tr style=\"text-align: right;\">\n",
       "      <th></th>\n",
       "      <th>Country</th>\n",
       "      <th>Total confirmed</th>\n",
       "      <th>Total_confirmed_today</th>\n",
       "      <th>Total_deaths</th>\n",
       "      <th>Total_deaths_today</th>\n",
       "      <th>Total_Recoveries</th>\n",
       "      <th>Total_Recoveries_today</th>\n",
       "      <th>Active_confirmed</th>\n",
       "      <th>Critical</th>\n",
       "      <th>Mortality_close</th>\n",
       "      <th>Mortality_confirmed</th>\n",
       "      <th>Total_tests</th>\n",
       "      <th>Total_tests_today</th>\n",
       "      <th>Month</th>\n",
       "      <th>Time</th>\n",
       "    </tr>\n",
       "  </thead>\n",
       "  <tbody>\n",
       "    <tr>\n",
       "      <td>0</td>\n",
       "      <td>united-states</td>\n",
       "      <td>1,129,882</td>\n",
       "      <td>35,152</td>\n",
       "      <td>65,724</td>\n",
       "      <td>1,883</td>\n",
       "      <td>161,551</td>\n",
       "      <td>9,227</td>\n",
       "      <td>902,607</td>\n",
       "      <td>16,478 (2%)</td>\n",
       "      <td>902,607</td>\n",
       "      <td>6%</td>\n",
       "      <td>6,690,837</td>\n",
       "      <td>314,371</td>\n",
       "      <td>May</td>\n",
       "      <td>11pm</td>\n",
       "    </tr>\n",
       "    <tr>\n",
       "      <td>1</td>\n",
       "      <td>spain</td>\n",
       "      <td>242,988</td>\n",
       "      <td>3,349</td>\n",
       "      <td>24,824</td>\n",
       "      <td>281</td>\n",
       "      <td>142,450</td>\n",
       "      <td>4,466</td>\n",
       "      <td>75,714</td>\n",
       "      <td>2,500 (3%)</td>\n",
       "      <td>75,714</td>\n",
       "      <td>10%</td>\n",
       "      <td>1,528,833</td>\n",
       "      <td>73,527</td>\n",
       "      <td>May</td>\n",
       "      <td>11pm</td>\n",
       "    </tr>\n",
       "    <tr>\n",
       "      <td>2</td>\n",
       "      <td>italy</td>\n",
       "      <td>207,428</td>\n",
       "      <td>1,965</td>\n",
       "      <td>28,236</td>\n",
       "      <td>269</td>\n",
       "      <td>78,249</td>\n",
       "      <td>2,304</td>\n",
       "      <td>100,943</td>\n",
       "      <td>1,578 (2%)</td>\n",
       "      <td>100,943</td>\n",
       "      <td>14%</td>\n",
       "      <td>2,053,425</td>\n",
       "      <td>74,208</td>\n",
       "      <td>May</td>\n",
       "      <td>11pm</td>\n",
       "    </tr>\n",
       "    <tr>\n",
       "      <td>3</td>\n",
       "      <td>united-kingdom</td>\n",
       "      <td>178,566</td>\n",
       "      <td>6,206</td>\n",
       "      <td>27,579</td>\n",
       "      <td>741</td>\n",
       "      <td>856</td>\n",
       "      <td>31</td>\n",
       "      <td>150,131</td>\n",
       "      <td>1,559 (1%)</td>\n",
       "      <td>150,131</td>\n",
       "      <td>15%</td>\n",
       "      <td>1,023,824</td>\n",
       "      <td>121,919</td>\n",
       "      <td>May</td>\n",
       "      <td>11pm</td>\n",
       "    </tr>\n",
       "    <tr>\n",
       "      <td>4</td>\n",
       "      <td>france</td>\n",
       "      <td>167,346</td>\n",
       "      <td>168</td>\n",
       "      <td>24,594</td>\n",
       "      <td>218</td>\n",
       "      <td>50,212</td>\n",
       "      <td>736</td>\n",
       "      <td>92,540</td>\n",
       "      <td>3,878 (4%)</td>\n",
       "      <td>92,540</td>\n",
       "      <td>15%</td>\n",
       "      <td>1,100,228</td>\n",
       "      <td>375,654</td>\n",
       "      <td>May</td>\n",
       "      <td>11pm</td>\n",
       "    </tr>\n",
       "  </tbody>\n",
       "</table>\n",
       "</div>"
      ],
      "text/plain": [
       "          Country Total confirmed Total_confirmed_today Total_deaths  \\\n",
       "0   united-states       1,129,882                35,152       65,724   \n",
       "1           spain         242,988                 3,349       24,824   \n",
       "2           italy         207,428                 1,965       28,236   \n",
       "3  united-kingdom         178,566                 6,206       27,579   \n",
       "4          france         167,346                   168       24,594   \n",
       "\n",
       "  Total_deaths_today Total_Recoveries Total_Recoveries_today Active_confirmed  \\\n",
       "0              1,883          161,551                  9,227          902,607   \n",
       "1                281          142,450                  4,466           75,714   \n",
       "2                269           78,249                  2,304          100,943   \n",
       "3                741              856                     31          150,131   \n",
       "4                218           50,212                    736           92,540   \n",
       "\n",
       "      Critical Mortality_close Mortality_confirmed Total_tests  \\\n",
       "0  16,478 (2%)         902,607                  6%   6,690,837   \n",
       "1   2,500 (3%)          75,714                 10%   1,528,833   \n",
       "2   1,578 (2%)         100,943                 14%   2,053,425   \n",
       "3   1,559 (1%)         150,131                 15%   1,023,824   \n",
       "4   3,878 (4%)          92,540                 15%   1,100,228   \n",
       "\n",
       "  Total_tests_today Month  Time  \n",
       "0           314,371   May  11pm  \n",
       "1            73,527   May  11pm  \n",
       "2            74,208   May  11pm  \n",
       "3           121,919   May  11pm  \n",
       "4           375,654   May  11pm  "
      ]
     },
     "execution_count": 99,
     "metadata": {},
     "output_type": "execute_result"
    }
   ],
   "source": [
    "df_world_may = pd.read_csv('World May Cases.csv')\n",
    "df_world_may.head()"
   ]
  },
  {
   "cell_type": "code",
   "execution_count": 100,
   "metadata": {},
   "outputs": [
    {
     "data": {
      "text/html": [
       "<div>\n",
       "<style scoped>\n",
       "    .dataframe tbody tr th:only-of-type {\n",
       "        vertical-align: middle;\n",
       "    }\n",
       "\n",
       "    .dataframe tbody tr th {\n",
       "        vertical-align: top;\n",
       "    }\n",
       "\n",
       "    .dataframe thead th {\n",
       "        text-align: right;\n",
       "    }\n",
       "</style>\n",
       "<table border=\"1\" class=\"dataframe\">\n",
       "  <thead>\n",
       "    <tr style=\"text-align: right;\">\n",
       "      <th></th>\n",
       "      <th>Country</th>\n",
       "      <th>Total confirmed</th>\n",
       "      <th>Total_deaths</th>\n",
       "      <th>Total_Recoveries</th>\n",
       "      <th>Total_confirmed_today</th>\n",
       "      <th>Total_deaths_today</th>\n",
       "      <th>Total_Recoveries_today</th>\n",
       "      <th>Active_confirmed</th>\n",
       "      <th>Critical</th>\n",
       "      <th>Mortality_close</th>\n",
       "      <th>Mortality_confirmed</th>\n",
       "      <th>Total_tests</th>\n",
       "      <th>Total_tests_today</th>\n",
       "      <th>Month</th>\n",
       "      <th>Time</th>\n",
       "    </tr>\n",
       "  </thead>\n",
       "  <tbody>\n",
       "    <tr>\n",
       "      <td>0</td>\n",
       "      <td>united-states</td>\n",
       "      <td>242,899</td>\n",
       "      <td>5,865</td>\n",
       "      <td>10,400</td>\n",
       "      <td>28,260</td>\n",
       "      <td>766</td>\n",
       "      <td>1,522</td>\n",
       "      <td>NaN</td>\n",
       "      <td>NaN</td>\n",
       "      <td>NaN</td>\n",
       "      <td>NaN</td>\n",
       "      <td>NaN</td>\n",
       "      <td>NaN</td>\n",
       "      <td>April</td>\n",
       "      <td>11pm</td>\n",
       "    </tr>\n",
       "    <tr>\n",
       "      <td>1</td>\n",
       "      <td>italy</td>\n",
       "      <td>115,242</td>\n",
       "      <td>13,915</td>\n",
       "      <td>18,278</td>\n",
       "      <td>4,668</td>\n",
       "      <td>760</td>\n",
       "      <td>1,431</td>\n",
       "      <td>NaN</td>\n",
       "      <td>NaN</td>\n",
       "      <td>NaN</td>\n",
       "      <td>NaN</td>\n",
       "      <td>NaN</td>\n",
       "      <td>NaN</td>\n",
       "      <td>April</td>\n",
       "      <td>11pm</td>\n",
       "    </tr>\n",
       "    <tr>\n",
       "      <td>2</td>\n",
       "      <td>spain</td>\n",
       "      <td>112,065</td>\n",
       "      <td>10,348</td>\n",
       "      <td>26,743</td>\n",
       "      <td>7,947</td>\n",
       "      <td>961</td>\n",
       "      <td>4,096</td>\n",
       "      <td>NaN</td>\n",
       "      <td>NaN</td>\n",
       "      <td>NaN</td>\n",
       "      <td>NaN</td>\n",
       "      <td>NaN</td>\n",
       "      <td>NaN</td>\n",
       "      <td>April</td>\n",
       "      <td>11pm</td>\n",
       "    </tr>\n",
       "    <tr>\n",
       "      <td>3</td>\n",
       "      <td>germany</td>\n",
       "      <td>84,794</td>\n",
       "      <td>1,107</td>\n",
       "      <td>22,440</td>\n",
       "      <td>6,813</td>\n",
       "      <td>176</td>\n",
       "      <td>3,740</td>\n",
       "      <td>NaN</td>\n",
       "      <td>NaN</td>\n",
       "      <td>NaN</td>\n",
       "      <td>NaN</td>\n",
       "      <td>NaN</td>\n",
       "      <td>NaN</td>\n",
       "      <td>April</td>\n",
       "      <td>11pm</td>\n",
       "    </tr>\n",
       "    <tr>\n",
       "      <td>4</td>\n",
       "      <td>china</td>\n",
       "      <td>82,413</td>\n",
       "      <td>3,322</td>\n",
       "      <td>76,546</td>\n",
       "      <td>53</td>\n",
       "      <td>6</td>\n",
       "      <td>142</td>\n",
       "      <td>NaN</td>\n",
       "      <td>NaN</td>\n",
       "      <td>NaN</td>\n",
       "      <td>NaN</td>\n",
       "      <td>NaN</td>\n",
       "      <td>NaN</td>\n",
       "      <td>April</td>\n",
       "      <td>11pm</td>\n",
       "    </tr>\n",
       "  </tbody>\n",
       "</table>\n",
       "</div>"
      ],
      "text/plain": [
       "         Country Total confirmed Total_deaths Total_Recoveries  \\\n",
       "0  united-states         242,899        5,865           10,400   \n",
       "1          italy         115,242       13,915           18,278   \n",
       "2          spain         112,065       10,348           26,743   \n",
       "3        germany          84,794        1,107           22,440   \n",
       "4          china          82,413        3,322           76,546   \n",
       "\n",
       "  Total_confirmed_today Total_deaths_today Total_Recoveries_today  \\\n",
       "0                28,260                766                  1,522   \n",
       "1                 4,668                760                  1,431   \n",
       "2                 7,947                961                  4,096   \n",
       "3                 6,813                176                  3,740   \n",
       "4                    53                  6                    142   \n",
       "\n",
       "  Active_confirmed Critical Mortality_close Mortality_confirmed Total_tests  \\\n",
       "0              NaN      NaN             NaN                 NaN         NaN   \n",
       "1              NaN      NaN             NaN                 NaN         NaN   \n",
       "2              NaN      NaN             NaN                 NaN         NaN   \n",
       "3              NaN      NaN             NaN                 NaN         NaN   \n",
       "4              NaN      NaN             NaN                 NaN         NaN   \n",
       "\n",
       "  Total_tests_today  Month  Time  \n",
       "0               NaN  April  11pm  \n",
       "1               NaN  April  11pm  \n",
       "2               NaN  April  11pm  \n",
       "3               NaN  April  11pm  \n",
       "4               NaN  April  11pm  "
      ]
     },
     "execution_count": 100,
     "metadata": {},
     "output_type": "execute_result"
    }
   ],
   "source": [
    "df_world_april = pd.read_csv('World April Cases.csv')\n",
    "df_world_april.head()"
   ]
  },
  {
   "cell_type": "code",
   "execution_count": 101,
   "metadata": {},
   "outputs": [],
   "source": [
    "world = pd.concat([df_world_april,df_world_may],sort=False)"
   ]
  },
  {
   "cell_type": "code",
   "execution_count": 102,
   "metadata": {},
   "outputs": [
    {
     "data": {
      "text/plain": [
       "(18472, 15)"
      ]
     },
     "execution_count": 102,
     "metadata": {},
     "output_type": "execute_result"
    }
   ],
   "source": [
    "world.shape"
   ]
  },
  {
   "cell_type": "code",
   "execution_count": 103,
   "metadata": {},
   "outputs": [
    {
     "data": {
      "text/html": [
       "<div>\n",
       "<style scoped>\n",
       "    .dataframe tbody tr th:only-of-type {\n",
       "        vertical-align: middle;\n",
       "    }\n",
       "\n",
       "    .dataframe tbody tr th {\n",
       "        vertical-align: top;\n",
       "    }\n",
       "\n",
       "    .dataframe thead th {\n",
       "        text-align: right;\n",
       "    }\n",
       "</style>\n",
       "<table border=\"1\" class=\"dataframe\">\n",
       "  <thead>\n",
       "    <tr style=\"text-align: right;\">\n",
       "      <th></th>\n",
       "      <th>Country</th>\n",
       "      <th>Total confirmed</th>\n",
       "      <th>Total_deaths</th>\n",
       "      <th>Total_Recoveries</th>\n",
       "      <th>Total_confirmed_today</th>\n",
       "      <th>Total_deaths_today</th>\n",
       "      <th>Total_Recoveries_today</th>\n",
       "      <th>Active_confirmed</th>\n",
       "      <th>Critical</th>\n",
       "      <th>Mortality_close</th>\n",
       "      <th>Mortality_confirmed</th>\n",
       "      <th>Total_tests</th>\n",
       "      <th>Total_tests_today</th>\n",
       "      <th>Month</th>\n",
       "      <th>Time</th>\n",
       "    </tr>\n",
       "  </thead>\n",
       "  <tbody>\n",
       "    <tr>\n",
       "      <td>0</td>\n",
       "      <td>united-states</td>\n",
       "      <td>242,899</td>\n",
       "      <td>5,865</td>\n",
       "      <td>10,400</td>\n",
       "      <td>28,260</td>\n",
       "      <td>766</td>\n",
       "      <td>1,522</td>\n",
       "      <td>NaN</td>\n",
       "      <td>NaN</td>\n",
       "      <td>NaN</td>\n",
       "      <td>NaN</td>\n",
       "      <td>NaN</td>\n",
       "      <td>NaN</td>\n",
       "      <td>April</td>\n",
       "      <td>11pm</td>\n",
       "    </tr>\n",
       "    <tr>\n",
       "      <td>1</td>\n",
       "      <td>italy</td>\n",
       "      <td>115,242</td>\n",
       "      <td>13,915</td>\n",
       "      <td>18,278</td>\n",
       "      <td>4,668</td>\n",
       "      <td>760</td>\n",
       "      <td>1,431</td>\n",
       "      <td>NaN</td>\n",
       "      <td>NaN</td>\n",
       "      <td>NaN</td>\n",
       "      <td>NaN</td>\n",
       "      <td>NaN</td>\n",
       "      <td>NaN</td>\n",
       "      <td>April</td>\n",
       "      <td>11pm</td>\n",
       "    </tr>\n",
       "    <tr>\n",
       "      <td>2</td>\n",
       "      <td>spain</td>\n",
       "      <td>112,065</td>\n",
       "      <td>10,348</td>\n",
       "      <td>26,743</td>\n",
       "      <td>7,947</td>\n",
       "      <td>961</td>\n",
       "      <td>4,096</td>\n",
       "      <td>NaN</td>\n",
       "      <td>NaN</td>\n",
       "      <td>NaN</td>\n",
       "      <td>NaN</td>\n",
       "      <td>NaN</td>\n",
       "      <td>NaN</td>\n",
       "      <td>April</td>\n",
       "      <td>11pm</td>\n",
       "    </tr>\n",
       "    <tr>\n",
       "      <td>3</td>\n",
       "      <td>germany</td>\n",
       "      <td>84,794</td>\n",
       "      <td>1,107</td>\n",
       "      <td>22,440</td>\n",
       "      <td>6,813</td>\n",
       "      <td>176</td>\n",
       "      <td>3,740</td>\n",
       "      <td>NaN</td>\n",
       "      <td>NaN</td>\n",
       "      <td>NaN</td>\n",
       "      <td>NaN</td>\n",
       "      <td>NaN</td>\n",
       "      <td>NaN</td>\n",
       "      <td>April</td>\n",
       "      <td>11pm</td>\n",
       "    </tr>\n",
       "    <tr>\n",
       "      <td>4</td>\n",
       "      <td>china</td>\n",
       "      <td>82,413</td>\n",
       "      <td>3,322</td>\n",
       "      <td>76,546</td>\n",
       "      <td>53</td>\n",
       "      <td>6</td>\n",
       "      <td>142</td>\n",
       "      <td>NaN</td>\n",
       "      <td>NaN</td>\n",
       "      <td>NaN</td>\n",
       "      <td>NaN</td>\n",
       "      <td>NaN</td>\n",
       "      <td>NaN</td>\n",
       "      <td>April</td>\n",
       "      <td>11pm</td>\n",
       "    </tr>\n",
       "  </tbody>\n",
       "</table>\n",
       "</div>"
      ],
      "text/plain": [
       "         Country Total confirmed Total_deaths Total_Recoveries  \\\n",
       "0  united-states         242,899        5,865           10,400   \n",
       "1          italy         115,242       13,915           18,278   \n",
       "2          spain         112,065       10,348           26,743   \n",
       "3        germany          84,794        1,107           22,440   \n",
       "4          china          82,413        3,322           76,546   \n",
       "\n",
       "  Total_confirmed_today Total_deaths_today Total_Recoveries_today  \\\n",
       "0                28,260                766                  1,522   \n",
       "1                 4,668                760                  1,431   \n",
       "2                 7,947                961                  4,096   \n",
       "3                 6,813                176                  3,740   \n",
       "4                    53                  6                    142   \n",
       "\n",
       "  Active_confirmed Critical Mortality_close Mortality_confirmed Total_tests  \\\n",
       "0              NaN      NaN             NaN                 NaN         NaN   \n",
       "1              NaN      NaN             NaN                 NaN         NaN   \n",
       "2              NaN      NaN             NaN                 NaN         NaN   \n",
       "3              NaN      NaN             NaN                 NaN         NaN   \n",
       "4              NaN      NaN             NaN                 NaN         NaN   \n",
       "\n",
       "  Total_tests_today  Month  Time  \n",
       "0               NaN  April  11pm  \n",
       "1               NaN  April  11pm  \n",
       "2               NaN  April  11pm  \n",
       "3               NaN  April  11pm  \n",
       "4               NaN  April  11pm  "
      ]
     },
     "execution_count": 103,
     "metadata": {},
     "output_type": "execute_result"
    }
   ],
   "source": [
    "world.head()"
   ]
  },
  {
   "cell_type": "code",
   "execution_count": 104,
   "metadata": {},
   "outputs": [],
   "source": [
    "world_11pm =world[world['Time']=='11pm']"
   ]
  },
  {
   "cell_type": "code",
   "execution_count": 105,
   "metadata": {},
   "outputs": [
    {
     "data": {
      "text/html": [
       "<div>\n",
       "<style scoped>\n",
       "    .dataframe tbody tr th:only-of-type {\n",
       "        vertical-align: middle;\n",
       "    }\n",
       "\n",
       "    .dataframe tbody tr th {\n",
       "        vertical-align: top;\n",
       "    }\n",
       "\n",
       "    .dataframe thead th {\n",
       "        text-align: right;\n",
       "    }\n",
       "</style>\n",
       "<table border=\"1\" class=\"dataframe\">\n",
       "  <thead>\n",
       "    <tr style=\"text-align: right;\">\n",
       "      <th></th>\n",
       "      <th>Country</th>\n",
       "      <th>Total confirmed</th>\n",
       "      <th>Total_deaths</th>\n",
       "      <th>Total_Recoveries</th>\n",
       "      <th>Total_confirmed_today</th>\n",
       "      <th>Total_deaths_today</th>\n",
       "      <th>Total_Recoveries_today</th>\n",
       "      <th>Active_confirmed</th>\n",
       "      <th>Critical</th>\n",
       "      <th>Mortality_close</th>\n",
       "      <th>Mortality_confirmed</th>\n",
       "      <th>Total_tests</th>\n",
       "      <th>Total_tests_today</th>\n",
       "      <th>Month</th>\n",
       "      <th>Time</th>\n",
       "    </tr>\n",
       "  </thead>\n",
       "  <tbody>\n",
       "    <tr>\n",
       "      <td>0</td>\n",
       "      <td>united-states</td>\n",
       "      <td>242,899</td>\n",
       "      <td>5,865</td>\n",
       "      <td>10,400</td>\n",
       "      <td>28,260</td>\n",
       "      <td>766</td>\n",
       "      <td>1,522</td>\n",
       "      <td>NaN</td>\n",
       "      <td>NaN</td>\n",
       "      <td>NaN</td>\n",
       "      <td>NaN</td>\n",
       "      <td>NaN</td>\n",
       "      <td>NaN</td>\n",
       "      <td>April</td>\n",
       "      <td>11pm</td>\n",
       "    </tr>\n",
       "    <tr>\n",
       "      <td>1</td>\n",
       "      <td>italy</td>\n",
       "      <td>115,242</td>\n",
       "      <td>13,915</td>\n",
       "      <td>18,278</td>\n",
       "      <td>4,668</td>\n",
       "      <td>760</td>\n",
       "      <td>1,431</td>\n",
       "      <td>NaN</td>\n",
       "      <td>NaN</td>\n",
       "      <td>NaN</td>\n",
       "      <td>NaN</td>\n",
       "      <td>NaN</td>\n",
       "      <td>NaN</td>\n",
       "      <td>April</td>\n",
       "      <td>11pm</td>\n",
       "    </tr>\n",
       "    <tr>\n",
       "      <td>2</td>\n",
       "      <td>spain</td>\n",
       "      <td>112,065</td>\n",
       "      <td>10,348</td>\n",
       "      <td>26,743</td>\n",
       "      <td>7,947</td>\n",
       "      <td>961</td>\n",
       "      <td>4,096</td>\n",
       "      <td>NaN</td>\n",
       "      <td>NaN</td>\n",
       "      <td>NaN</td>\n",
       "      <td>NaN</td>\n",
       "      <td>NaN</td>\n",
       "      <td>NaN</td>\n",
       "      <td>April</td>\n",
       "      <td>11pm</td>\n",
       "    </tr>\n",
       "    <tr>\n",
       "      <td>3</td>\n",
       "      <td>germany</td>\n",
       "      <td>84,794</td>\n",
       "      <td>1,107</td>\n",
       "      <td>22,440</td>\n",
       "      <td>6,813</td>\n",
       "      <td>176</td>\n",
       "      <td>3,740</td>\n",
       "      <td>NaN</td>\n",
       "      <td>NaN</td>\n",
       "      <td>NaN</td>\n",
       "      <td>NaN</td>\n",
       "      <td>NaN</td>\n",
       "      <td>NaN</td>\n",
       "      <td>April</td>\n",
       "      <td>11pm</td>\n",
       "    </tr>\n",
       "    <tr>\n",
       "      <td>4</td>\n",
       "      <td>china</td>\n",
       "      <td>82,413</td>\n",
       "      <td>3,322</td>\n",
       "      <td>76,546</td>\n",
       "      <td>53</td>\n",
       "      <td>6</td>\n",
       "      <td>142</td>\n",
       "      <td>NaN</td>\n",
       "      <td>NaN</td>\n",
       "      <td>NaN</td>\n",
       "      <td>NaN</td>\n",
       "      <td>NaN</td>\n",
       "      <td>NaN</td>\n",
       "      <td>April</td>\n",
       "      <td>11pm</td>\n",
       "    </tr>\n",
       "  </tbody>\n",
       "</table>\n",
       "</div>"
      ],
      "text/plain": [
       "         Country Total confirmed Total_deaths Total_Recoveries  \\\n",
       "0  united-states         242,899        5,865           10,400   \n",
       "1          italy         115,242       13,915           18,278   \n",
       "2          spain         112,065       10,348           26,743   \n",
       "3        germany          84,794        1,107           22,440   \n",
       "4          china          82,413        3,322           76,546   \n",
       "\n",
       "  Total_confirmed_today Total_deaths_today Total_Recoveries_today  \\\n",
       "0                28,260                766                  1,522   \n",
       "1                 4,668                760                  1,431   \n",
       "2                 7,947                961                  4,096   \n",
       "3                 6,813                176                  3,740   \n",
       "4                    53                  6                    142   \n",
       "\n",
       "  Active_confirmed Critical Mortality_close Mortality_confirmed Total_tests  \\\n",
       "0              NaN      NaN             NaN                 NaN         NaN   \n",
       "1              NaN      NaN             NaN                 NaN         NaN   \n",
       "2              NaN      NaN             NaN                 NaN         NaN   \n",
       "3              NaN      NaN             NaN                 NaN         NaN   \n",
       "4              NaN      NaN             NaN                 NaN         NaN   \n",
       "\n",
       "  Total_tests_today  Month  Time  \n",
       "0               NaN  April  11pm  \n",
       "1               NaN  April  11pm  \n",
       "2               NaN  April  11pm  \n",
       "3               NaN  April  11pm  \n",
       "4               NaN  April  11pm  "
      ]
     },
     "execution_count": 105,
     "metadata": {},
     "output_type": "execute_result"
    }
   ],
   "source": [
    "world_11pm.head()"
   ]
  },
  {
   "cell_type": "code",
   "execution_count": 106,
   "metadata": {},
   "outputs": [],
   "source": [
    "world_other_time = world[world['Time']=='Other Time']"
   ]
  },
  {
   "cell_type": "code",
   "execution_count": 107,
   "metadata": {},
   "outputs": [
    {
     "data": {
      "text/html": [
       "<div>\n",
       "<style scoped>\n",
       "    .dataframe tbody tr th:only-of-type {\n",
       "        vertical-align: middle;\n",
       "    }\n",
       "\n",
       "    .dataframe tbody tr th {\n",
       "        vertical-align: top;\n",
       "    }\n",
       "\n",
       "    .dataframe thead th {\n",
       "        text-align: right;\n",
       "    }\n",
       "</style>\n",
       "<table border=\"1\" class=\"dataframe\">\n",
       "  <thead>\n",
       "    <tr style=\"text-align: right;\">\n",
       "      <th></th>\n",
       "      <th>Country</th>\n",
       "      <th>Total confirmed</th>\n",
       "      <th>Total_deaths</th>\n",
       "      <th>Total_Recoveries</th>\n",
       "      <th>Total_confirmed_today</th>\n",
       "      <th>Total_deaths_today</th>\n",
       "      <th>Total_Recoveries_today</th>\n",
       "      <th>Active_confirmed</th>\n",
       "      <th>Critical</th>\n",
       "      <th>Mortality_close</th>\n",
       "      <th>Mortality_confirmed</th>\n",
       "      <th>Total_tests</th>\n",
       "      <th>Total_tests_today</th>\n",
       "      <th>Month</th>\n",
       "      <th>Time</th>\n",
       "    </tr>\n",
       "  </thead>\n",
       "  <tbody>\n",
       "    <tr>\n",
       "      <td>3876</td>\n",
       "      <td>united-states</td>\n",
       "      <td>244,190</td>\n",
       "      <td>5,883</td>\n",
       "      <td>10,400</td>\n",
       "      <td>29,551</td>\n",
       "      <td>784</td>\n",
       "      <td>1,522</td>\n",
       "      <td>NaN</td>\n",
       "      <td>NaN</td>\n",
       "      <td>NaN</td>\n",
       "      <td>NaN</td>\n",
       "      <td>NaN</td>\n",
       "      <td>NaN</td>\n",
       "      <td>April</td>\n",
       "      <td>Other Time</td>\n",
       "    </tr>\n",
       "    <tr>\n",
       "      <td>3877</td>\n",
       "      <td>italy</td>\n",
       "      <td>115,242</td>\n",
       "      <td>13,915</td>\n",
       "      <td>18,278</td>\n",
       "      <td>4,668</td>\n",
       "      <td>760</td>\n",
       "      <td>1,431</td>\n",
       "      <td>NaN</td>\n",
       "      <td>NaN</td>\n",
       "      <td>NaN</td>\n",
       "      <td>NaN</td>\n",
       "      <td>NaN</td>\n",
       "      <td>NaN</td>\n",
       "      <td>April</td>\n",
       "      <td>Other Time</td>\n",
       "    </tr>\n",
       "    <tr>\n",
       "      <td>3878</td>\n",
       "      <td>spain</td>\n",
       "      <td>112,065</td>\n",
       "      <td>10,348</td>\n",
       "      <td>26,743</td>\n",
       "      <td>7,947</td>\n",
       "      <td>961</td>\n",
       "      <td>4,096</td>\n",
       "      <td>NaN</td>\n",
       "      <td>NaN</td>\n",
       "      <td>NaN</td>\n",
       "      <td>NaN</td>\n",
       "      <td>NaN</td>\n",
       "      <td>NaN</td>\n",
       "      <td>April</td>\n",
       "      <td>Other Time</td>\n",
       "    </tr>\n",
       "    <tr>\n",
       "      <td>3879</td>\n",
       "      <td>germany</td>\n",
       "      <td>84,794</td>\n",
       "      <td>1,107</td>\n",
       "      <td>22,440</td>\n",
       "      <td>6,813</td>\n",
       "      <td>176</td>\n",
       "      <td>3,740</td>\n",
       "      <td>NaN</td>\n",
       "      <td>NaN</td>\n",
       "      <td>NaN</td>\n",
       "      <td>NaN</td>\n",
       "      <td>NaN</td>\n",
       "      <td>NaN</td>\n",
       "      <td>April</td>\n",
       "      <td>Other Time</td>\n",
       "    </tr>\n",
       "    <tr>\n",
       "      <td>3880</td>\n",
       "      <td>china</td>\n",
       "      <td>82,413</td>\n",
       "      <td>3,322</td>\n",
       "      <td>76,546</td>\n",
       "      <td>53</td>\n",
       "      <td>6</td>\n",
       "      <td>142</td>\n",
       "      <td>NaN</td>\n",
       "      <td>NaN</td>\n",
       "      <td>NaN</td>\n",
       "      <td>NaN</td>\n",
       "      <td>NaN</td>\n",
       "      <td>NaN</td>\n",
       "      <td>April</td>\n",
       "      <td>Other Time</td>\n",
       "    </tr>\n",
       "  </tbody>\n",
       "</table>\n",
       "</div>"
      ],
      "text/plain": [
       "            Country Total confirmed Total_deaths Total_Recoveries  \\\n",
       "3876  united-states         244,190        5,883           10,400   \n",
       "3877          italy         115,242       13,915           18,278   \n",
       "3878          spain         112,065       10,348           26,743   \n",
       "3879        germany          84,794        1,107           22,440   \n",
       "3880          china          82,413        3,322           76,546   \n",
       "\n",
       "     Total_confirmed_today Total_deaths_today Total_Recoveries_today  \\\n",
       "3876                29,551                784                  1,522   \n",
       "3877                 4,668                760                  1,431   \n",
       "3878                 7,947                961                  4,096   \n",
       "3879                 6,813                176                  3,740   \n",
       "3880                    53                  6                    142   \n",
       "\n",
       "     Active_confirmed Critical Mortality_close Mortality_confirmed  \\\n",
       "3876              NaN      NaN             NaN                 NaN   \n",
       "3877              NaN      NaN             NaN                 NaN   \n",
       "3878              NaN      NaN             NaN                 NaN   \n",
       "3879              NaN      NaN             NaN                 NaN   \n",
       "3880              NaN      NaN             NaN                 NaN   \n",
       "\n",
       "     Total_tests Total_tests_today  Month        Time  \n",
       "3876         NaN               NaN  April  Other Time  \n",
       "3877         NaN               NaN  April  Other Time  \n",
       "3878         NaN               NaN  April  Other Time  \n",
       "3879         NaN               NaN  April  Other Time  \n",
       "3880         NaN               NaN  April  Other Time  "
      ]
     },
     "execution_count": 107,
     "metadata": {},
     "output_type": "execute_result"
    }
   ],
   "source": [
    "world_other_time.head()"
   ]
  },
  {
   "cell_type": "markdown",
   "metadata": {},
   "source": [
    "## Q1. Using World 11pm, how many cases did the United States and Germany each Record in April?"
   ]
  },
  {
   "cell_type": "code",
   "execution_count": 108,
   "metadata": {},
   "outputs": [],
   "source": [
    "US = df_world_april[(df_world_april['Country'] == 'united-states') &\\\n",
    "                    (df_world_april['Time'] == '11pm')]"
   ]
  },
  {
   "cell_type": "code",
   "execution_count": 109,
   "metadata": {},
   "outputs": [
    {
     "data": {
      "text/html": [
       "<div>\n",
       "<style scoped>\n",
       "    .dataframe tbody tr th:only-of-type {\n",
       "        vertical-align: middle;\n",
       "    }\n",
       "\n",
       "    .dataframe tbody tr th {\n",
       "        vertical-align: top;\n",
       "    }\n",
       "\n",
       "    .dataframe thead th {\n",
       "        text-align: right;\n",
       "    }\n",
       "</style>\n",
       "<table border=\"1\" class=\"dataframe\">\n",
       "  <thead>\n",
       "    <tr style=\"text-align: right;\">\n",
       "      <th></th>\n",
       "      <th>Country</th>\n",
       "      <th>Total confirmed</th>\n",
       "      <th>Total_deaths</th>\n",
       "      <th>Total_Recoveries</th>\n",
       "      <th>Total_confirmed_today</th>\n",
       "      <th>Total_deaths_today</th>\n",
       "      <th>Total_Recoveries_today</th>\n",
       "      <th>Active_confirmed</th>\n",
       "      <th>Critical</th>\n",
       "      <th>Mortality_close</th>\n",
       "      <th>Mortality_confirmed</th>\n",
       "      <th>Total_tests</th>\n",
       "      <th>Total_tests_today</th>\n",
       "      <th>Month</th>\n",
       "      <th>Time</th>\n",
       "    </tr>\n",
       "  </thead>\n",
       "  <tbody>\n",
       "    <tr>\n",
       "      <td>0</td>\n",
       "      <td>united-states</td>\n",
       "      <td>242,899</td>\n",
       "      <td>5,865</td>\n",
       "      <td>10,400</td>\n",
       "      <td>28,260</td>\n",
       "      <td>766</td>\n",
       "      <td>1,522</td>\n",
       "      <td>NaN</td>\n",
       "      <td>NaN</td>\n",
       "      <td>NaN</td>\n",
       "      <td>NaN</td>\n",
       "      <td>NaN</td>\n",
       "      <td>NaN</td>\n",
       "      <td>April</td>\n",
       "      <td>11pm</td>\n",
       "    </tr>\n",
       "    <tr>\n",
       "      <td>206</td>\n",
       "      <td>united-states</td>\n",
       "      <td>275,493</td>\n",
       "      <td>7,081</td>\n",
       "      <td>12,097</td>\n",
       "      <td>31,263</td>\n",
       "      <td>1,198</td>\n",
       "      <td>1,694</td>\n",
       "      <td>NaN</td>\n",
       "      <td>NaN</td>\n",
       "      <td>NaN</td>\n",
       "      <td>NaN</td>\n",
       "      <td>NaN</td>\n",
       "      <td>NaN</td>\n",
       "      <td>April</td>\n",
       "      <td>11pm</td>\n",
       "    </tr>\n",
       "    <tr>\n",
       "      <td>412</td>\n",
       "      <td>united-states</td>\n",
       "      <td>308,608</td>\n",
       "      <td>8,397</td>\n",
       "      <td>14,691</td>\n",
       "      <td>31,643</td>\n",
       "      <td>1,006</td>\n",
       "      <td>2,408</td>\n",
       "      <td>NaN</td>\n",
       "      <td>NaN</td>\n",
       "      <td>NaN</td>\n",
       "      <td>NaN</td>\n",
       "      <td>NaN</td>\n",
       "      <td>NaN</td>\n",
       "      <td>April</td>\n",
       "      <td>11pm</td>\n",
       "    </tr>\n",
       "    <tr>\n",
       "      <td>1186</td>\n",
       "      <td>united-states</td>\n",
       "      <td>682,608</td>\n",
       "      <td>23,592</td>\n",
       "      <td>36,205</td>\n",
       "      <td>122,362</td>\n",
       "      <td>1,491</td>\n",
       "      <td>3,968</td>\n",
       "      <td>622,811</td>\n",
       "      <td>12,772 (2%)</td>\n",
       "      <td>622,811</td>\n",
       "      <td>3%</td>\n",
       "      <td>2,936,860</td>\n",
       "      <td>104,602</td>\n",
       "      <td>April</td>\n",
       "      <td>11pm</td>\n",
       "    </tr>\n",
       "    <tr>\n",
       "      <td>1383</td>\n",
       "      <td>united-states</td>\n",
       "      <td>611,745</td>\n",
       "      <td>25,975</td>\n",
       "      <td>38,675</td>\n",
       "      <td>31,137</td>\n",
       "      <td>2,365</td>\n",
       "      <td>2,457</td>\n",
       "      <td>547,095</td>\n",
       "      <td>13,473 (2%)</td>\n",
       "      <td>547,095</td>\n",
       "      <td>4%</td>\n",
       "      <td>3,065,019</td>\n",
       "      <td>127,081</td>\n",
       "      <td>April</td>\n",
       "      <td>11pm</td>\n",
       "    </tr>\n",
       "  </tbody>\n",
       "</table>\n",
       "</div>"
      ],
      "text/plain": [
       "            Country Total confirmed Total_deaths Total_Recoveries  \\\n",
       "0     united-states         242,899        5,865           10,400   \n",
       "206   united-states         275,493        7,081           12,097   \n",
       "412   united-states         308,608        8,397           14,691   \n",
       "1186  united-states         682,608       23,592           36,205   \n",
       "1383  united-states         611,745       25,975           38,675   \n",
       "\n",
       "     Total_confirmed_today Total_deaths_today Total_Recoveries_today  \\\n",
       "0                   28,260                766                  1,522   \n",
       "206                 31,263              1,198                  1,694   \n",
       "412                 31,643              1,006                  2,408   \n",
       "1186               122,362              1,491                  3,968   \n",
       "1383                31,137              2,365                  2,457   \n",
       "\n",
       "     Active_confirmed     Critical Mortality_close Mortality_confirmed  \\\n",
       "0                 NaN          NaN             NaN                 NaN   \n",
       "206               NaN          NaN             NaN                 NaN   \n",
       "412               NaN          NaN             NaN                 NaN   \n",
       "1186          622,811  12,772 (2%)         622,811                  3%   \n",
       "1383          547,095  13,473 (2%)         547,095                  4%   \n",
       "\n",
       "     Total_tests Total_tests_today  Month  Time  \n",
       "0            NaN               NaN  April  11pm  \n",
       "206          NaN               NaN  April  11pm  \n",
       "412          NaN               NaN  April  11pm  \n",
       "1186   2,936,860           104,602  April  11pm  \n",
       "1383   3,065,019           127,081  April  11pm  "
      ]
     },
     "execution_count": 109,
     "metadata": {},
     "output_type": "execute_result"
    }
   ],
   "source": [
    "US.head()"
   ]
  },
  {
   "cell_type": "code",
   "execution_count": 110,
   "metadata": {},
   "outputs": [],
   "source": [
    "US['Total confirmed'] =  US['Total confirmed'].str.replace(',','')"
   ]
  },
  {
   "cell_type": "code",
   "execution_count": 111,
   "metadata": {},
   "outputs": [],
   "source": [
    "US['Total confirmed'] = pd.to_numeric(US['Total confirmed'])"
   ]
  },
  {
   "cell_type": "code",
   "execution_count": 112,
   "metadata": {},
   "outputs": [],
   "source": [
    "US_cases = US['Total confirmed'].max() - US['Total confirmed'].min()"
   ]
  },
  {
   "cell_type": "code",
   "execution_count": 113,
   "metadata": {},
   "outputs": [
    {
     "data": {
      "text/plain": [
       "851822"
      ]
     },
     "execution_count": 113,
     "metadata": {},
     "output_type": "execute_result"
    }
   ],
   "source": [
    "US_cases"
   ]
  },
  {
   "cell_type": "code",
   "execution_count": 114,
   "metadata": {},
   "outputs": [],
   "source": [
    "Germany = df_world_april[(df_world_april['Country']=='germany') & (df_world_april['Time']=='11pm')]"
   ]
  },
  {
   "cell_type": "code",
   "execution_count": 115,
   "metadata": {},
   "outputs": [],
   "source": [
    "Germany['Total confirmed'] = Germany['Total confirmed'].str.replace(',','')"
   ]
  },
  {
   "cell_type": "code",
   "execution_count": 116,
   "metadata": {},
   "outputs": [],
   "source": [
    "Germany['Total confirmed'] = pd.to_numeric(Germany['Total confirmed'])"
   ]
  },
  {
   "cell_type": "code",
   "execution_count": 117,
   "metadata": {},
   "outputs": [],
   "source": [
    "Ger_cases = Germany['Total confirmed'].max() - Germany['Total confirmed'].min()"
   ]
  },
  {
   "cell_type": "code",
   "execution_count": 118,
   "metadata": {},
   "outputs": [
    {
     "data": {
      "text/plain": [
       "78215"
      ]
     },
     "execution_count": 118,
     "metadata": {},
     "output_type": "execute_result"
    }
   ],
   "source": [
    "Ger_cases"
   ]
  },
  {
   "cell_type": "code",
   "execution_count": 119,
   "metadata": {},
   "outputs": [
    {
     "data": {
      "text/html": [
       "<div>\n",
       "<style scoped>\n",
       "    .dataframe tbody tr th:only-of-type {\n",
       "        vertical-align: middle;\n",
       "    }\n",
       "\n",
       "    .dataframe tbody tr th {\n",
       "        vertical-align: top;\n",
       "    }\n",
       "\n",
       "    .dataframe thead th {\n",
       "        text-align: right;\n",
       "    }\n",
       "</style>\n",
       "<table border=\"1\" class=\"dataframe\">\n",
       "  <thead>\n",
       "    <tr style=\"text-align: right;\">\n",
       "      <th></th>\n",
       "      <th>Country</th>\n",
       "      <th>Confirmed Cases</th>\n",
       "    </tr>\n",
       "  </thead>\n",
       "  <tbody>\n",
       "    <tr>\n",
       "      <td>0</td>\n",
       "      <td>United States</td>\n",
       "      <td>851822</td>\n",
       "    </tr>\n",
       "    <tr>\n",
       "      <td>1</td>\n",
       "      <td>Germany</td>\n",
       "      <td>78215</td>\n",
       "    </tr>\n",
       "  </tbody>\n",
       "</table>\n",
       "</div>"
      ],
      "text/plain": [
       "         Country  Confirmed Cases\n",
       "0  United States           851822\n",
       "1        Germany            78215"
      ]
     },
     "execution_count": 119,
     "metadata": {},
     "output_type": "execute_result"
    }
   ],
   "source": [
    "data = {'Country':['United States','Germany'],\n",
    "       'Confirmed Cases':[US_cases, Ger_cases]}\n",
    "\n",
    "df = pd.DataFrame(data)\n",
    "df"
   ]
  },
  {
   "cell_type": "code",
   "execution_count": 120,
   "metadata": {},
   "outputs": [
    {
     "data": {
      "text/plain": [
       "Text(0.5, 1.0, 'Covid-19 Cases Recorded in United States and Germany in April(World 11pm+)')"
      ]
     },
     "execution_count": 120,
     "metadata": {},
     "output_type": "execute_result"
    },
    {
     "data": {
      "image/png": "[encoded data removed]",
      "text/plain": [
       "<Figure size 576x576 with 1 Axes>"
      ]
     },
     "metadata": {
      "needs_background": "light"
     },
     "output_type": "display_data"
    }
   ],
   "source": [
    "fig = plt.figure(figsize=(8,8))\n",
    "ax = sns.barplot(x=df['Country'],y=df['Confirmed Cases'], palette='viridis')\n",
    "for p in ax.patches:\n",
    "    ax.annotate(format(p.get_height()),(p.get_x() + p.get_width()/2,p.get_height()),\n",
    "                ha='center',va='center',xytext=(0,10),textcoords='offset points',fontsize=12)\n",
    "plt.title('Covid-19 Cases Recorded in United States and Germany in April(World 11pm+)',fontsize=14)"
   ]
  },
  {
   "cell_type": "markdown",
   "metadata": {},
   "source": [
    "## Q2. Using World 11pm, how many cases did the United States and Germany each Record in May?"
   ]
  },
  {
   "cell_type": "code",
   "execution_count": 121,
   "metadata": {},
   "outputs": [],
   "source": [
    "US = df_world_may[(df_world_may['Country']=='united-states') & (df_world_may['Time']=='11pm')]"
   ]
  },
  {
   "cell_type": "code",
   "execution_count": 122,
   "metadata": {},
   "outputs": [],
   "source": [
    "US['Total confirmed'] = US['Total confirmed'].str.replace(',','')"
   ]
  },
  {
   "cell_type": "code",
   "execution_count": 123,
   "metadata": {},
   "outputs": [],
   "source": [
    "US['Total confirmed'] = pd.to_numeric(US['Total confirmed'])"
   ]
  },
  {
   "cell_type": "code",
   "execution_count": 124,
   "metadata": {},
   "outputs": [],
   "source": [
    "US_cases = US['Total confirmed'].max() - US['Total confirmed'].min()"
   ]
  },
  {
   "cell_type": "code",
   "execution_count": 125,
   "metadata": {},
   "outputs": [
    {
     "data": {
      "text/plain": [
       "555285"
      ]
     },
     "execution_count": 125,
     "metadata": {},
     "output_type": "execute_result"
    }
   ],
   "source": [
    "US_cases"
   ]
  },
  {
   "cell_type": "code",
   "execution_count": 126,
   "metadata": {},
   "outputs": [],
   "source": [
    "Germany = df_world_may[(df_world_may['Country']=='germany') & (df_world_may['Time']=='11pm')]"
   ]
  },
  {
   "cell_type": "code",
   "execution_count": 127,
   "metadata": {},
   "outputs": [],
   "source": [
    "Germany['Total confirmed'] = Germany['Total confirmed'].str.replace(',','')"
   ]
  },
  {
   "cell_type": "code",
   "execution_count": 128,
   "metadata": {},
   "outputs": [],
   "source": [
    "Germany['Total confirmed'] = pd.to_numeric(Germany['Total confirmed'])"
   ]
  },
  {
   "cell_type": "code",
   "execution_count": 129,
   "metadata": {},
   "outputs": [],
   "source": [
    "Ger_cases = Germany['Total confirmed'].max() - Germany['Total confirmed'].min()"
   ]
  },
  {
   "cell_type": "code",
   "execution_count": 130,
   "metadata": {},
   "outputs": [
    {
     "data": {
      "text/plain": [
       "16251"
      ]
     },
     "execution_count": 130,
     "metadata": {},
     "output_type": "execute_result"
    }
   ],
   "source": [
    "Ger_cases"
   ]
  },
  {
   "cell_type": "code",
   "execution_count": 131,
   "metadata": {},
   "outputs": [
    {
     "data": {
      "text/html": [
       "<div>\n",
       "<style scoped>\n",
       "    .dataframe tbody tr th:only-of-type {\n",
       "        vertical-align: middle;\n",
       "    }\n",
       "\n",
       "    .dataframe tbody tr th {\n",
       "        vertical-align: top;\n",
       "    }\n",
       "\n",
       "    .dataframe thead th {\n",
       "        text-align: right;\n",
       "    }\n",
       "</style>\n",
       "<table border=\"1\" class=\"dataframe\">\n",
       "  <thead>\n",
       "    <tr style=\"text-align: right;\">\n",
       "      <th></th>\n",
       "      <th>Country</th>\n",
       "      <th>Confirmed Cases</th>\n",
       "    </tr>\n",
       "  </thead>\n",
       "  <tbody>\n",
       "    <tr>\n",
       "      <td>0</td>\n",
       "      <td>United States</td>\n",
       "      <td>555285</td>\n",
       "    </tr>\n",
       "    <tr>\n",
       "      <td>1</td>\n",
       "      <td>Germany</td>\n",
       "      <td>16251</td>\n",
       "    </tr>\n",
       "  </tbody>\n",
       "</table>\n",
       "</div>"
      ],
      "text/plain": [
       "         Country  Confirmed Cases\n",
       "0  United States           555285\n",
       "1        Germany            16251"
      ]
     },
     "execution_count": 131,
     "metadata": {},
     "output_type": "execute_result"
    }
   ],
   "source": [
    "data = {'Country':['United States','Germany'],\n",
    "       'Confirmed Cases':[US_cases, Ger_cases]}\n",
    "\n",
    "df = pd.DataFrame(data)\n",
    "df"
   ]
  },
  {
   "cell_type": "code",
   "execution_count": 132,
   "metadata": {},
   "outputs": [
    {
     "data": {
      "text/plain": [
       "Text(0.5, 1.0, 'Covid-19 Cases Recorded in United States and Germany in May(World 11pm+)')"
      ]
     },
     "execution_count": 132,
     "metadata": {},
     "output_type": "execute_result"
    },
    {
     "data": {
      "image/png": "[encoded data removed]",
      "text/plain": [
       "<Figure size 576x576 with 1 Axes>"
      ]
     },
     "metadata": {
      "needs_background": "light"
     },
     "output_type": "display_data"
    }
   ],
   "source": [
    "fig = plt.figure(figsize=(8,8))\n",
    "ax = sns.barplot(x=df['Country'],y=df['Confirmed Cases'],palette='viridis')\n",
    "for p in ax.patches:\n",
    "    ax.annotate(format(p.get_height()),(p.get_x() + p.get_width()/2,p.get_height()),\n",
    "               ha='center',va='bottom',fontsize=12)\n",
    "plt.title('Covid-19 Cases Recorded in United States and Germany in May(World 11pm+)',fontsize=14)"
   ]
  },
  {
   "cell_type": "code",
   "execution_count": 133,
   "metadata": {},
   "outputs": [
    {
     "data": {
      "text/html": [
       "<div>\n",
       "<style scoped>\n",
       "    .dataframe tbody tr th:only-of-type {\n",
       "        vertical-align: middle;\n",
       "    }\n",
       "\n",
       "    .dataframe tbody tr th {\n",
       "        vertical-align: top;\n",
       "    }\n",
       "\n",
       "    .dataframe thead th {\n",
       "        text-align: right;\n",
       "    }\n",
       "</style>\n",
       "<table border=\"1\" class=\"dataframe\">\n",
       "  <thead>\n",
       "    <tr style=\"text-align: right;\">\n",
       "      <th></th>\n",
       "      <th>countries</th>\n",
       "      <th>infected</th>\n",
       "      <th>infected_today</th>\n",
       "      <th>deaths</th>\n",
       "      <th>deaths_today</th>\n",
       "      <th>recovered</th>\n",
       "      <th>recovered_today</th>\n",
       "      <th>active</th>\n",
       "      <th>critical</th>\n",
       "      <th>tests</th>\n",
       "      <th>death_rate</th>\n",
       "      <th>recovery_rate</th>\n",
       "      <th>month</th>\n",
       "      <th>time</th>\n",
       "    </tr>\n",
       "  </thead>\n",
       "  <tbody>\n",
       "    <tr>\n",
       "      <td>0</td>\n",
       "      <td>United States</td>\n",
       "      <td>1129882</td>\n",
       "      <td>35152</td>\n",
       "      <td>65724</td>\n",
       "      <td>1883</td>\n",
       "      <td>161551</td>\n",
       "      <td>9227</td>\n",
       "      <td>902607</td>\n",
       "      <td>16478</td>\n",
       "      <td>6690837</td>\n",
       "      <td>5.8</td>\n",
       "      <td>14.3</td>\n",
       "      <td>May</td>\n",
       "      <td>11pm</td>\n",
       "    </tr>\n",
       "    <tr>\n",
       "      <td>1</td>\n",
       "      <td>Spain</td>\n",
       "      <td>242988</td>\n",
       "      <td>3349</td>\n",
       "      <td>24824</td>\n",
       "      <td>281</td>\n",
       "      <td>142450</td>\n",
       "      <td>4466</td>\n",
       "      <td>75714</td>\n",
       "      <td>2500</td>\n",
       "      <td>1528833</td>\n",
       "      <td>10.2</td>\n",
       "      <td>58.6</td>\n",
       "      <td>May</td>\n",
       "      <td>11pm</td>\n",
       "    </tr>\n",
       "    <tr>\n",
       "      <td>2</td>\n",
       "      <td>Italy</td>\n",
       "      <td>207428</td>\n",
       "      <td>1965</td>\n",
       "      <td>28236</td>\n",
       "      <td>269</td>\n",
       "      <td>78249</td>\n",
       "      <td>2304</td>\n",
       "      <td>100943</td>\n",
       "      <td>1578</td>\n",
       "      <td>2053425</td>\n",
       "      <td>13.6</td>\n",
       "      <td>37.7</td>\n",
       "      <td>May</td>\n",
       "      <td>11pm</td>\n",
       "    </tr>\n",
       "    <tr>\n",
       "      <td>3</td>\n",
       "      <td>United Kingdom</td>\n",
       "      <td>178566</td>\n",
       "      <td>6206</td>\n",
       "      <td>27579</td>\n",
       "      <td>741</td>\n",
       "      <td>856</td>\n",
       "      <td>31</td>\n",
       "      <td>150131</td>\n",
       "      <td>1559</td>\n",
       "      <td>1023824</td>\n",
       "      <td>15.4</td>\n",
       "      <td>0.5</td>\n",
       "      <td>May</td>\n",
       "      <td>11pm</td>\n",
       "    </tr>\n",
       "    <tr>\n",
       "      <td>4</td>\n",
       "      <td>France</td>\n",
       "      <td>167346</td>\n",
       "      <td>168</td>\n",
       "      <td>24594</td>\n",
       "      <td>218</td>\n",
       "      <td>50212</td>\n",
       "      <td>736</td>\n",
       "      <td>92540</td>\n",
       "      <td>3878</td>\n",
       "      <td>1100228</td>\n",
       "      <td>14.7</td>\n",
       "      <td>30.0</td>\n",
       "      <td>May</td>\n",
       "      <td>11pm</td>\n",
       "    </tr>\n",
       "  </tbody>\n",
       "</table>\n",
       "</div>"
      ],
      "text/plain": [
       "        countries  infected  infected_today  deaths  deaths_today  recovered  \\\n",
       "0   United States   1129882           35152   65724          1883     161551   \n",
       "1           Spain    242988            3349   24824           281     142450   \n",
       "2           Italy    207428            1965   28236           269      78249   \n",
       "3  United Kingdom    178566            6206   27579           741        856   \n",
       "4          France    167346             168   24594           218      50212   \n",
       "\n",
       "   recovered_today  active  critical    tests  death_rate  recovery_rate  \\\n",
       "0             9227  902607     16478  6690837         5.8           14.3   \n",
       "1             4466   75714      2500  1528833        10.2           58.6   \n",
       "2             2304  100943      1578  2053425        13.6           37.7   \n",
       "3               31  150131      1559  1023824        15.4            0.5   \n",
       "4              736   92540      3878  1100228        14.7           30.0   \n",
       "\n",
       "  month  time  \n",
       "0   May  11pm  \n",
       "1   May  11pm  \n",
       "2   May  11pm  \n",
       "3   May  11pm  \n",
       "4   May  11pm  "
      ]
     },
     "execution_count": 133,
     "metadata": {},
     "output_type": "execute_result"
    }
   ],
   "source": [
    "df_covid_may = pd.read_csv('May Covid Cases.csv')\n",
    "df_covid_may.head()"
   ]
  },
  {
   "cell_type": "code",
   "execution_count": 134,
   "metadata": {},
   "outputs": [
    {
     "data": {
      "text/html": [
       "<div>\n",
       "<style scoped>\n",
       "    .dataframe tbody tr th:only-of-type {\n",
       "        vertical-align: middle;\n",
       "    }\n",
       "\n",
       "    .dataframe tbody tr th {\n",
       "        vertical-align: top;\n",
       "    }\n",
       "\n",
       "    .dataframe thead th {\n",
       "        text-align: right;\n",
       "    }\n",
       "</style>\n",
       "<table border=\"1\" class=\"dataframe\">\n",
       "  <thead>\n",
       "    <tr style=\"text-align: right;\">\n",
       "      <th></th>\n",
       "      <th>countries</th>\n",
       "      <th>infected</th>\n",
       "      <th>deaths</th>\n",
       "      <th>recovered</th>\n",
       "      <th>active</th>\n",
       "      <th>death_rate</th>\n",
       "      <th>recovery_rate</th>\n",
       "      <th>infected_today</th>\n",
       "      <th>deaths_today</th>\n",
       "      <th>recovered_today</th>\n",
       "      <th>critical</th>\n",
       "      <th>tests</th>\n",
       "      <th>month</th>\n",
       "      <th>time</th>\n",
       "    </tr>\n",
       "  </thead>\n",
       "  <tbody>\n",
       "    <tr>\n",
       "      <td>0</td>\n",
       "      <td>United States</td>\n",
       "      <td>275493</td>\n",
       "      <td>7081</td>\n",
       "      <td>12097</td>\n",
       "      <td>256315</td>\n",
       "      <td>2.6</td>\n",
       "      <td>4.4</td>\n",
       "      <td>NaN</td>\n",
       "      <td>NaN</td>\n",
       "      <td>NaN</td>\n",
       "      <td>NaN</td>\n",
       "      <td>NaN</td>\n",
       "      <td>April</td>\n",
       "      <td>11pm</td>\n",
       "    </tr>\n",
       "    <tr>\n",
       "      <td>1</td>\n",
       "      <td>Italy</td>\n",
       "      <td>119827</td>\n",
       "      <td>14681</td>\n",
       "      <td>19758</td>\n",
       "      <td>85388</td>\n",
       "      <td>12.3</td>\n",
       "      <td>16.5</td>\n",
       "      <td>NaN</td>\n",
       "      <td>NaN</td>\n",
       "      <td>NaN</td>\n",
       "      <td>NaN</td>\n",
       "      <td>NaN</td>\n",
       "      <td>April</td>\n",
       "      <td>11pm</td>\n",
       "    </tr>\n",
       "    <tr>\n",
       "      <td>2</td>\n",
       "      <td>Spain</td>\n",
       "      <td>119199</td>\n",
       "      <td>11198</td>\n",
       "      <td>30513</td>\n",
       "      <td>77488</td>\n",
       "      <td>9.4</td>\n",
       "      <td>25.6</td>\n",
       "      <td>NaN</td>\n",
       "      <td>NaN</td>\n",
       "      <td>NaN</td>\n",
       "      <td>NaN</td>\n",
       "      <td>NaN</td>\n",
       "      <td>April</td>\n",
       "      <td>11pm</td>\n",
       "    </tr>\n",
       "    <tr>\n",
       "      <td>3</td>\n",
       "      <td>Germany</td>\n",
       "      <td>91159</td>\n",
       "      <td>1275</td>\n",
       "      <td>24575</td>\n",
       "      <td>65309</td>\n",
       "      <td>1.4</td>\n",
       "      <td>27.0</td>\n",
       "      <td>NaN</td>\n",
       "      <td>NaN</td>\n",
       "      <td>NaN</td>\n",
       "      <td>NaN</td>\n",
       "      <td>NaN</td>\n",
       "      <td>April</td>\n",
       "      <td>11pm</td>\n",
       "    </tr>\n",
       "    <tr>\n",
       "      <td>4</td>\n",
       "      <td>China</td>\n",
       "      <td>82492</td>\n",
       "      <td>3326</td>\n",
       "      <td>76741</td>\n",
       "      <td>2425</td>\n",
       "      <td>4.0</td>\n",
       "      <td>93.0</td>\n",
       "      <td>NaN</td>\n",
       "      <td>NaN</td>\n",
       "      <td>NaN</td>\n",
       "      <td>NaN</td>\n",
       "      <td>NaN</td>\n",
       "      <td>April</td>\n",
       "      <td>11pm</td>\n",
       "    </tr>\n",
       "  </tbody>\n",
       "</table>\n",
       "</div>"
      ],
      "text/plain": [
       "       countries  infected  deaths  recovered  active  death_rate  \\\n",
       "0  United States    275493    7081      12097  256315         2.6   \n",
       "1          Italy    119827   14681      19758   85388        12.3   \n",
       "2          Spain    119199   11198      30513   77488         9.4   \n",
       "3        Germany     91159    1275      24575   65309         1.4   \n",
       "4          China     82492    3326      76741    2425         4.0   \n",
       "\n",
       "   recovery_rate  infected_today  deaths_today  recovered_today  critical  \\\n",
       "0            4.4             NaN           NaN              NaN       NaN   \n",
       "1           16.5             NaN           NaN              NaN       NaN   \n",
       "2           25.6             NaN           NaN              NaN       NaN   \n",
       "3           27.0             NaN           NaN              NaN       NaN   \n",
       "4           93.0             NaN           NaN              NaN       NaN   \n",
       "\n",
       "   tests  month  time  \n",
       "0    NaN  April  11pm  \n",
       "1    NaN  April  11pm  \n",
       "2    NaN  April  11pm  \n",
       "3    NaN  April  11pm  \n",
       "4    NaN  April  11pm  "
      ]
     },
     "execution_count": 134,
     "metadata": {},
     "output_type": "execute_result"
    }
   ],
   "source": [
    "df_covid_april = pd.read_csv('April Covid Cases.csv')\n",
    "df_covid_april.head()"
   ]
  },
  {
   "cell_type": "markdown",
   "metadata": {},
   "source": [
    "## Q3. Using Covid Other time, how many cases did Italy and Russia each Record in April?"
   ]
  },
  {
   "cell_type": "code",
   "execution_count": 135,
   "metadata": {},
   "outputs": [],
   "source": [
    "italy = df_covid_april[(df_covid_april['countries']=='Italy') & (df_covid_april['time']=='Other Time')]"
   ]
  },
  {
   "cell_type": "code",
   "execution_count": 136,
   "metadata": {
    "scrolled": true
   },
   "outputs": [
    {
     "data": {
      "text/plain": [
       "countries           object\n",
       "infected             int64\n",
       "deaths               int64\n",
       "recovered            int64\n",
       "active               int64\n",
       "death_rate         float64\n",
       "recovery_rate      float64\n",
       "infected_today     float64\n",
       "deaths_today       float64\n",
       "recovered_today    float64\n",
       "critical           float64\n",
       "tests              float64\n",
       "month               object\n",
       "time                object\n",
       "dtype: object"
      ]
     },
     "execution_count": 136,
     "metadata": {},
     "output_type": "execute_result"
    }
   ],
   "source": [
    "italy.dtypes"
   ]
  },
  {
   "cell_type": "code",
   "execution_count": 137,
   "metadata": {},
   "outputs": [],
   "source": [
    "italy_cases = italy['infected'].max() - italy['infected'].min()"
   ]
  },
  {
   "cell_type": "code",
   "execution_count": 138,
   "metadata": {},
   "outputs": [
    {
     "data": {
      "text/plain": [
       "88349"
      ]
     },
     "execution_count": 138,
     "metadata": {},
     "output_type": "execute_result"
    }
   ],
   "source": [
    "italy_cases"
   ]
  },
  {
   "cell_type": "code",
   "execution_count": 139,
   "metadata": {},
   "outputs": [],
   "source": [
    "russia = df_covid_april[(df_covid_april['countries']=='Russia') & (df_covid_april['time']=='Other Time')]"
   ]
  },
  {
   "cell_type": "code",
   "execution_count": 140,
   "metadata": {},
   "outputs": [],
   "source": [
    "russia_cases = russia['infected'].max() - russia['infected'].min()"
   ]
  },
  {
   "cell_type": "code",
   "execution_count": 141,
   "metadata": {},
   "outputs": [
    {
     "data": {
      "text/plain": [
       "102950"
      ]
     },
     "execution_count": 141,
     "metadata": {},
     "output_type": "execute_result"
    }
   ],
   "source": [
    "russia_cases"
   ]
  },
  {
   "cell_type": "code",
   "execution_count": 142,
   "metadata": {},
   "outputs": [
    {
     "data": {
      "text/html": [
       "<div>\n",
       "<style scoped>\n",
       "    .dataframe tbody tr th:only-of-type {\n",
       "        vertical-align: middle;\n",
       "    }\n",
       "\n",
       "    .dataframe tbody tr th {\n",
       "        vertical-align: top;\n",
       "    }\n",
       "\n",
       "    .dataframe thead th {\n",
       "        text-align: right;\n",
       "    }\n",
       "</style>\n",
       "<table border=\"1\" class=\"dataframe\">\n",
       "  <thead>\n",
       "    <tr style=\"text-align: right;\">\n",
       "      <th></th>\n",
       "      <th>Country</th>\n",
       "      <th>Infected</th>\n",
       "    </tr>\n",
       "  </thead>\n",
       "  <tbody>\n",
       "    <tr>\n",
       "      <td>0</td>\n",
       "      <td>Italy</td>\n",
       "      <td>88349</td>\n",
       "    </tr>\n",
       "    <tr>\n",
       "      <td>1</td>\n",
       "      <td>Russia</td>\n",
       "      <td>102950</td>\n",
       "    </tr>\n",
       "  </tbody>\n",
       "</table>\n",
       "</div>"
      ],
      "text/plain": [
       "  Country  Infected\n",
       "0   Italy     88349\n",
       "1  Russia    102950"
      ]
     },
     "execution_count": 142,
     "metadata": {},
     "output_type": "execute_result"
    }
   ],
   "source": [
    "data = {'Country':['Italy', 'Russia'],\n",
    "       'Infected':[italy_cases, russia_cases]}\n",
    "df = pd.DataFrame(data)\n",
    "df"
   ]
  },
  {
   "cell_type": "code",
   "execution_count": 143,
   "metadata": {},
   "outputs": [
    {
     "data": {
      "text/plain": [
       "Text(0.5, 1.0, 'Covid-19 Cases Recorded in Italy and Russia in April(Coivd Other Time)')"
      ]
     },
     "execution_count": 143,
     "metadata": {},
     "output_type": "execute_result"
    },
    {
     "data": {
      "image/png": "[encoded data removed]",
      "text/plain": [
       "<Figure size 576x576 with 1 Axes>"
      ]
     },
     "metadata": {
      "needs_background": "light"
     },
     "output_type": "display_data"
    }
   ],
   "source": [
    "plt.figure(figsize=(8,8))\n",
    "ax = sns.barplot(x=df['Country'],y=df['Infected'], palette='viridis')\n",
    "for p in ax.patches:\n",
    "    ax.annotate(format(p.get_height()),(p.get_x() + p.get_width()/2, p.get_height()),\n",
    "               ha='center',va='bottom',fontsize=12)\n",
    "plt.title('Covid-19 Cases Recorded in Italy and Russia in April(Coivd Other Time)',fontsize=14)"
   ]
  },
  {
   "cell_type": "markdown",
   "metadata": {},
   "source": [
    "## Q4. Using Covid Other time, how many cases did Italy and Russia each Record in May?"
   ]
  },
  {
   "cell_type": "code",
   "execution_count": 144,
   "metadata": {},
   "outputs": [],
   "source": [
    "italy = df_covid_may[(df_covid_may['countries']=='Italy') & (df_covid_may['time']=='Other Time')]"
   ]
  },
  {
   "cell_type": "code",
   "execution_count": 145,
   "metadata": {},
   "outputs": [
    {
     "data": {
      "text/plain": [
       "countries           object\n",
       "infected             int64\n",
       "infected_today       int64\n",
       "deaths               int64\n",
       "deaths_today         int64\n",
       "recovered            int64\n",
       "recovered_today      int64\n",
       "active               int64\n",
       "critical             int64\n",
       "tests                int64\n",
       "death_rate         float64\n",
       "recovery_rate      float64\n",
       "month               object\n",
       "time                object\n",
       "dtype: object"
      ]
     },
     "execution_count": 145,
     "metadata": {},
     "output_type": "execute_result"
    }
   ],
   "source": [
    "italy.dtypes"
   ]
  },
  {
   "cell_type": "code",
   "execution_count": 146,
   "metadata": {},
   "outputs": [],
   "source": [
    "italy_cases = italy['infected'].max() - italy['infected'].min()"
   ]
  },
  {
   "cell_type": "code",
   "execution_count": 147,
   "metadata": {},
   "outputs": [
    {
     "data": {
      "text/plain": [
       "24395"
      ]
     },
     "execution_count": 147,
     "metadata": {},
     "output_type": "execute_result"
    }
   ],
   "source": [
    "italy_cases"
   ]
  },
  {
   "cell_type": "code",
   "execution_count": 148,
   "metadata": {},
   "outputs": [],
   "source": [
    "russia = df_covid_may[(df_covid_may['countries']=='Russia') & (df_covid_may['time']=='Other Time')]"
   ]
  },
  {
   "cell_type": "code",
   "execution_count": 149,
   "metadata": {},
   "outputs": [],
   "source": [
    "russia_cases = russia['infected'].max() - russia['infected'].min()"
   ]
  },
  {
   "cell_type": "code",
   "execution_count": 150,
   "metadata": {},
   "outputs": [
    {
     "data": {
      "text/plain": [
       "238996"
      ]
     },
     "execution_count": 150,
     "metadata": {},
     "output_type": "execute_result"
    }
   ],
   "source": [
    "russia_cases"
   ]
  },
  {
   "cell_type": "code",
   "execution_count": 151,
   "metadata": {},
   "outputs": [
    {
     "data": {
      "text/html": [
       "<div>\n",
       "<style scoped>\n",
       "    .dataframe tbody tr th:only-of-type {\n",
       "        vertical-align: middle;\n",
       "    }\n",
       "\n",
       "    .dataframe tbody tr th {\n",
       "        vertical-align: top;\n",
       "    }\n",
       "\n",
       "    .dataframe thead th {\n",
       "        text-align: right;\n",
       "    }\n",
       "</style>\n",
       "<table border=\"1\" class=\"dataframe\">\n",
       "  <thead>\n",
       "    <tr style=\"text-align: right;\">\n",
       "      <th></th>\n",
       "      <th>Country</th>\n",
       "      <th>Infected</th>\n",
       "    </tr>\n",
       "  </thead>\n",
       "  <tbody>\n",
       "    <tr>\n",
       "      <td>0</td>\n",
       "      <td>Italy</td>\n",
       "      <td>24395</td>\n",
       "    </tr>\n",
       "    <tr>\n",
       "      <td>1</td>\n",
       "      <td>Russia</td>\n",
       "      <td>238996</td>\n",
       "    </tr>\n",
       "  </tbody>\n",
       "</table>\n",
       "</div>"
      ],
      "text/plain": [
       "  Country  Infected\n",
       "0   Italy     24395\n",
       "1  Russia    238996"
      ]
     },
     "execution_count": 151,
     "metadata": {},
     "output_type": "execute_result"
    }
   ],
   "source": [
    "data = {'Country':['Italy','Russia'],\n",
    "       'Infected':[italy_cases, russia_cases]}\n",
    "\n",
    "df = pd.DataFrame(data)\n",
    "df"
   ]
  },
  {
   "cell_type": "code",
   "execution_count": 152,
   "metadata": {},
   "outputs": [
    {
     "data": {
      "text/plain": [
       "Text(0.5, 1.0, 'Covid-19 Cases Recorded in Italy and Russia in May(Coivd Other Time)')"
      ]
     },
     "execution_count": 152,
     "metadata": {},
     "output_type": "execute_result"
    },
    {
     "data": {
      "image/png": "[encoded data removed]",
      "text/plain": [
       "<Figure size 576x576 with 1 Axes>"
      ]
     },
     "metadata": {
      "needs_background": "light"
     },
     "output_type": "display_data"
    }
   ],
   "source": [
    "plt.figure(figsize=(8,8))\n",
    "ax = sns.barplot(x=df['Country'],y=df['Infected'],palette='viridis')\n",
    "for p in ax.patches:\n",
    "    ax.annotate(format(p.get_height()),(p.get_x() + p.get_width()/2, p.get_height()),\n",
    "               ha='center',va='bottom',fontsize=12)\n",
    "plt.title('Covid-19 Cases Recorded in Italy and Russia in May(Coivd Other Time)',fontsize=14)"
   ]
  },
  {
   "cell_type": "markdown",
   "metadata": {},
   "source": [
    "# Kicker\n",
    "\n",
    "## Using World 11pm+, how many cases  were Recorded by United State, Italy, China, Russia, and Germany in April and May?\n"
   ]
  },
  {
   "cell_type": "code",
   "execution_count": 153,
   "metadata": {},
   "outputs": [],
   "source": [
    "world_11pm['Total confirmed'] = world_11pm['Total confirmed'].str.replace(',','')"
   ]
  },
  {
   "cell_type": "code",
   "execution_count": 154,
   "metadata": {},
   "outputs": [],
   "source": [
    "world_11pm['Total confirmed'] = pd.to_numeric(world_11pm['Total confirmed'])"
   ]
  },
  {
   "cell_type": "code",
   "execution_count": 155,
   "metadata": {},
   "outputs": [],
   "source": [
    "world_11pm['Country'] = world_11pm['Country'].str.replace('USA','United-states')"
   ]
  },
  {
   "cell_type": "code",
   "execution_count": 156,
   "metadata": {},
   "outputs": [],
   "source": [
    "world_11pm['Country'] = world_11pm['Country'].str.capitalize()"
   ]
  },
  {
   "cell_type": "code",
   "execution_count": 157,
   "metadata": {},
   "outputs": [
    {
     "data": {
      "text/plain": [
       "United-states    608\n",
       "Russia            40\n",
       "China             40\n",
       "Martinique        40\n",
       "Algeria           40\n",
       "Colombia          40\n",
       "Mauritania        40\n",
       "Haiti             40\n",
       "Malawi            40\n",
       "Brazil            40\n",
       "Name: Country, dtype: int64"
      ]
     },
     "execution_count": 157,
     "metadata": {},
     "output_type": "execute_result"
    }
   ],
   "source": [
    "world_11pm['Country'].value_counts().head(10)"
   ]
  },
  {
   "cell_type": "code",
   "execution_count": 158,
   "metadata": {},
   "outputs": [
    {
     "data": {
      "text/plain": [
       "1685163"
      ]
     },
     "execution_count": 158,
     "metadata": {},
     "output_type": "execute_result"
    }
   ],
   "source": [
    "US = world_11pm[(world_11pm['Country']=='United-states')]\n",
    "US_cases = US['Total confirmed'].max() - US['Total confirmed'].min()\n",
    "US_cases"
   ]
  },
  {
   "cell_type": "code",
   "execution_count": 159,
   "metadata": {},
   "outputs": [
    {
     "data": {
      "text/plain": [
       "114616"
      ]
     },
     "execution_count": 159,
     "metadata": {},
     "output_type": "execute_result"
    }
   ],
   "source": [
    "Italy = world_11pm[(world_11pm['Country']=='Italy')]\n",
    "Italy_cases= Italy['Total confirmed'].max() - Italy['Total confirmed'].min()\n",
    "Italy_cases"
   ]
  },
  {
   "cell_type": "code",
   "execution_count": 160,
   "metadata": {},
   "outputs": [
    {
     "data": {
      "text/plain": [
       "95534"
      ]
     },
     "execution_count": 160,
     "metadata": {},
     "output_type": "execute_result"
    }
   ],
   "source": [
    "Germany = world_11pm[(world_11pm['Country']=='Germany')]\n",
    "Germany_cases= Germany['Total confirmed'].max() - Germany['Total confirmed'].min()\n",
    "Germany_cases"
   ]
  },
  {
   "cell_type": "code",
   "execution_count": 161,
   "metadata": {},
   "outputs": [
    {
     "data": {
      "text/plain": [
       "340933"
      ]
     },
     "execution_count": 161,
     "metadata": {},
     "output_type": "execute_result"
    }
   ],
   "source": [
    "Russia = world_11pm[(world_11pm['Country']=='Russia')]\n",
    "Russia_cases = Russia['Total confirmed'].max() - Russia['Total confirmed'].min()\n",
    "Russia_cases"
   ]
  },
  {
   "cell_type": "code",
   "execution_count": 162,
   "metadata": {},
   "outputs": [
    {
     "data": {
      "text/plain": [
       "1393"
      ]
     },
     "execution_count": 162,
     "metadata": {},
     "output_type": "execute_result"
    }
   ],
   "source": [
    "China = world_11pm[(world_11pm['Country']=='China')]\n",
    "China_cases = China['Total confirmed'].max() - China['Total confirmed'].min()\n",
    "China_cases"
   ]
  },
  {
   "cell_type": "code",
   "execution_count": 163,
   "metadata": {},
   "outputs": [
    {
     "data": {
      "text/html": [
       "<div>\n",
       "<style scoped>\n",
       "    .dataframe tbody tr th:only-of-type {\n",
       "        vertical-align: middle;\n",
       "    }\n",
       "\n",
       "    .dataframe tbody tr th {\n",
       "        vertical-align: top;\n",
       "    }\n",
       "\n",
       "    .dataframe thead th {\n",
       "        text-align: right;\n",
       "    }\n",
       "</style>\n",
       "<table border=\"1\" class=\"dataframe\">\n",
       "  <thead>\n",
       "    <tr style=\"text-align: right;\">\n",
       "      <th></th>\n",
       "      <th>Country</th>\n",
       "      <th>Confirmed Cases</th>\n",
       "    </tr>\n",
       "  </thead>\n",
       "  <tbody>\n",
       "    <tr>\n",
       "      <td>0</td>\n",
       "      <td>United-states</td>\n",
       "      <td>1685163</td>\n",
       "    </tr>\n",
       "    <tr>\n",
       "      <td>1</td>\n",
       "      <td>Italy</td>\n",
       "      <td>114616</td>\n",
       "    </tr>\n",
       "    <tr>\n",
       "      <td>2</td>\n",
       "      <td>Germany</td>\n",
       "      <td>95534</td>\n",
       "    </tr>\n",
       "    <tr>\n",
       "      <td>3</td>\n",
       "      <td>Russia</td>\n",
       "      <td>340933</td>\n",
       "    </tr>\n",
       "    <tr>\n",
       "      <td>4</td>\n",
       "      <td>China</td>\n",
       "      <td>1393</td>\n",
       "    </tr>\n",
       "  </tbody>\n",
       "</table>\n",
       "</div>"
      ],
      "text/plain": [
       "         Country  Confirmed Cases\n",
       "0  United-states          1685163\n",
       "1          Italy           114616\n",
       "2        Germany            95534\n",
       "3         Russia           340933\n",
       "4          China             1393"
      ]
     },
     "execution_count": 163,
     "metadata": {},
     "output_type": "execute_result"
    }
   ],
   "source": [
    "data = {'Country':['United-states', 'Italy','Germany','Russia','China'],\n",
    "       'Confirmed Cases':[US_cases,Italy_cases,Germany_cases,Russia_cases,China_cases]}\n",
    "\n",
    "df = pd.DataFrame(data)\n",
    "df"
   ]
  },
  {
   "cell_type": "code",
   "execution_count": 164,
   "metadata": {},
   "outputs": [
    {
     "data": {
      "text/plain": [
       "Text(0.5, 1.0, 'COVID-19 cases Recorded by United State, Italy, China, Russia, and Germany in April and May(World 11pm+)')"
      ]
     },
     "execution_count": 164,
     "metadata": {},
     "output_type": "execute_result"
    },
    {
     "data": {
      "image/png": "[encoded data removed]",
      "text/plain": [
       "<Figure size 576x576 with 1 Axes>"
      ]
     },
     "metadata": {
      "needs_background": "light"
     },
     "output_type": "display_data"
    }
   ],
   "source": [
    "plt.figure(figsize=(8,8))\n",
    "ax = sns.barplot(x=df['Country'],y=df['Confirmed Cases'], palette='viridis')\n",
    "for p in ax.patches:\n",
    "    ax.annotate(format(p.get_height()),(p.get_x() + p.get_width()/2, p.get_height()),\n",
    "               ha='center', va='bottom',fontsize=12)\n",
    "plt.title('COVID-19 cases Recorded by United State, Italy, China, Russia, and Germany in April and May(World 11pm+)',\n",
    "          fontsize=14)"
   ]
  }
 ],
 "metadata": {
  "kernelspec": {
   "display_name": "Python 3",
   "language": "python",
   "name": "python3"
  },
  "language_info": {
   "codemirror_mode": {
    "name": "ipython",
    "version": 3
   },
   "file_extension": ".py",
   "mimetype": "text/x-python",
   "name": "python",
   "nbconvert_exporter": "python",
   "pygments_lexer": "ipython3",
   "version": "3.7.4"
  }
 },
 "nbformat": 4,
 "nbformat_minor": 2
}
